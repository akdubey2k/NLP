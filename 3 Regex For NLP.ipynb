{
 "cells": [
  {
   "cell_type": "markdown",
   "id": "0766d32c",
   "metadata": {},
   "source": [
    "# Regex For NLP: NLP Tutorial For Beginners In Python - 3\n",
    "\n",
    "**NLP** problems are solved either using **heuristics/rule** based approach or using **_machine learning. Regex_** offers a powerful rule based approach where you extract patterns from your text to extract useful information for a given **NLP** task. <br><br>\n",
    "In this video I will discuss two use cases<br> \n",
    "(1) a customer service chatbot <br>\n",
    "(2) Information extraction and <br>\n",
    "show you how **_regular expressions_** can help solve some of the simple tasks.\n",
    "\n",
    "Code: https://github.com/codebasics/nlp-tutorials/blob/main/1_regex/regex_for_information_extraction.ipynb\n",
    "Credit: https://www.youtube.com/watch?v=lK9gx4q_vfI&list=PLeo1K3hjS3uuvuAXhYjV2lMEShq2UYSwX&index=3\n",
    "\n",
    "#### Owner: Codebasics"
   ]
  },
  {
   "cell_type": "code",
   "execution_count": 1,
   "id": "c47793db",
   "metadata": {},
   "outputs": [],
   "source": [
    "import re"
   ]
  },
  {
   "cell_type": "markdown",
   "id": "414961ac",
   "metadata": {},
   "source": [
    "## Extract phone number and email id "
   ]
  },
  {
   "cell_type": "code",
   "execution_count": 19,
   "id": "b3d15a81",
   "metadata": {},
   "outputs": [],
   "source": [
    "chat1 = \"codebasics: you are asking lots of questions, Mobile = +91-12345 67890, Email = hello-world@new-venture.com \"\n",
    "\n",
    "chat2 = \"codebasics: your product came with damage, please refund else give new product, Mobile = +91-123 456 7890, Email = heLLo_world@new-venture.nz.in \"\n",
    "\n",
    "chat3 = \"codebasics: why are you people always busy in call, Mobile3 = +91-(123)4567890, Email = hello123world@new-venture.net \""
   ]
  },
  {
   "cell_type": "markdown",
   "id": "69fe5eee",
   "metadata": {},
   "source": [
    "**[^: ]*@** # get all characters before '@' till ': '\n",
    "\n",
    "**[^: ]*@(.+?)\\s** # include all characters after \"@\" till space character (\"\\s\")\n",
    "\n",
    "**(\\b(\\d{10}|[0-9\\s]{11}|[0-9\\s]{12}|[0-9\\s]{13})\\b)** # 10 digit numeric number in sequence & with space pattern"
   ]
  },
  {
   "cell_type": "code",
   "execution_count": 33,
   "id": "e46075ee",
   "metadata": {},
   "outputs": [
    {
     "data": {
      "text/plain": [
       "[(' hello123world@new-venture.net ', 'new-venture.net')]"
      ]
     },
     "execution_count": 33,
     "metadata": {},
     "output_type": "execute_result"
    }
   ],
   "source": [
    "pattern = '(\\s[^ ]*@(.+?)\\s)'\n",
    "matches = re.findall(pattern, chat1)\n",
    "matches"
   ]
  },
  {
   "cell_type": "code",
   "execution_count": 34,
   "id": "abe0f554",
   "metadata": {},
   "outputs": [
    {
     "data": {
      "text/plain": [
       "[(' heLLo_world@new-venture.nz.in ', 'new-venture.nz.in')]"
      ]
     },
     "execution_count": 34,
     "metadata": {},
     "output_type": "execute_result"
    }
   ],
   "source": [
    "pattern = '(\\s[^ ]*@(.+?)\\s)'\n",
    "matches = re.findall(pattern, chat2)\n",
    "matches"
   ]
  },
  {
   "cell_type": "code",
   "execution_count": 35,
   "id": "be3c6d85",
   "metadata": {},
   "outputs": [
    {
     "data": {
      "text/plain": [
       "[(' hello123world@new-venture.net ', 'new-venture.net')]"
      ]
     },
     "execution_count": 35,
     "metadata": {},
     "output_type": "execute_result"
    }
   ],
   "source": [
    "pattern = '(\\s[^ ]*@(.+?)\\s)'\n",
    "matches = re.findall(pattern, chat3)\n",
    "matches"
   ]
  },
  {
   "cell_type": "code",
   "execution_count": 36,
   "id": "577dace8",
   "metadata": {},
   "outputs": [],
   "source": [
    "def get_pattern_match(pattern, text):\n",
    "    matches = re.findall(pattern, text)\n",
    "    if matches:\n",
    "        return matches[0]"
   ]
  },
  {
   "cell_type": "code",
   "execution_count": 37,
   "id": "596adfa7",
   "metadata": {},
   "outputs": [
    {
     "data": {
      "text/plain": [
       "(' hello-world@new-venture.com ', 'new-venture.com')"
      ]
     },
     "execution_count": 37,
     "metadata": {},
     "output_type": "execute_result"
    }
   ],
   "source": [
    "get_pattern_match(pattern, chat1)"
   ]
  },
  {
   "cell_type": "markdown",
   "id": "2427f7e0",
   "metadata": {},
   "source": [
    "## Retrieve email id and phone "
   ]
  },
  {
   "cell_type": "code",
   "execution_count": null,
   "id": "b7fdface",
   "metadata": {},
   "outputs": [],
   "source": [
    "chat1 = \"codebasics: you are asking lots of questions, Mobile = +91-12345 67890, Email = hello-world@new-venture.com \""
   ]
  }
 ],
 "metadata": {
  "kernelspec": {
   "display_name": "Python 3 (ipykernel)",
   "language": "python",
   "name": "python3"
  },
  "language_info": {
   "codemirror_mode": {
    "name": "ipython",
    "version": 3
   },
   "file_extension": ".py",
   "mimetype": "text/x-python",
   "name": "python",
   "nbconvert_exporter": "python",
   "pygments_lexer": "ipython3",
   "version": "3.9.7"
  }
 },
 "nbformat": 4,
 "nbformat_minor": 5
}
