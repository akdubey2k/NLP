{
  "nbformat": 4,
  "nbformat_minor": 0,
  "metadata": {
    "colab": {
      "provenance": []
    },
    "kernelspec": {
      "name": "python3",
      "display_name": "Python 3"
    },
    "language_info": {
      "name": "python"
    }
  },
  "cells": [
    {
      "cell_type": "markdown",
      "source": [
        "# 1. Introduction\n",
        "**Text Summarization** is a natural language processing (NLP) technique that involves\n",
        "* *reducing a large body of text into a shorter version while retaining its main ideas and essential information.*\n",
        "* The goal is to create a concise summary that accurately reflects the key points of the original content."
      ],
      "metadata": {
        "id": "wM_Ad36ShDB3"
      }
    },
    {
      "cell_type": "markdown",
      "source": [
        "There are two primary types of text summarization:\n",
        "1. Extractive Summarization\n",
        "2. Abstractive Summarization"
      ],
      "metadata": {
        "id": "nmsoxLPpiV8L"
      }
    },
    {
      "cell_type": "markdown",
      "source": [
        "## 1. Extractive Summarization\n",
        "* **Definition:** This method involves *selecting important sentences, phrases, or sections,* directly from the original text to form the summary.\n",
        "* **How it works:** The algorithm identifies the most relevant parts based on factors like *sentence importance, keyword frequency, or similarity to the main topic.*\n",
        "* **Pros:** Maintains the original context and is straightforward.\n",
        "* **Cons:** May result in a less coherent summary since it only pieces together parts of the original text."
      ],
      "metadata": {
        "id": "zjJFI4vXjNZw"
      }
    },
    {
      "cell_type": "markdown",
      "source": [
        "**Example:** Given a paragraph about climate change, an extractive summary might pick out sentences like:\n",
        "* \"Climate change is a significant global challenge.\"\n",
        "* \"Greenhouse gas emissions contribute to rising temperatures.\"\n"
      ],
      "metadata": {
        "id": "03_GecAz2PIw"
      }
    },
    {
      "cell_type": "markdown",
      "source": [
        "## 2. Abstractive Summarization\n",
        "* **Definition:** This approach generates new sentences that convey the main ideas of the original text, often paraphrasing or rephrasing the content.\n",
        "* **How it works:** The algorithm uses deep learning models like transformers (e.g., BERT, GPT) to understand the text's meaning and then creates a new, concise version.\n",
        "* **Pros:** Can provide more coherent and natural summaries, mimicking human summarization.\n",
        "* **Cons:** More complex and may require significant computational power.\n"
      ],
      "metadata": {
        "id": "f4ZjH5_E2kDV"
      }
    },
    {
      "cell_type": "markdown",
      "source": [
        "**Example:** The same paragraph on climate change might be summarized as:\n",
        "* \"Rising greenhouse gas emissions are driving global warming, posing serious environmental challenges.\""
      ],
      "metadata": {
        "id": "43yNfmMT3Sio"
      }
    },
    {
      "cell_type": "markdown",
      "source": [
        "## Applications of Text Summarization\n",
        "* **News Aggregators:** Providing brief summaries of news articles.\n",
        "* **Search Engines:** Displaying snippets of relevant information in search results.\n",
        "* **Research:** Summarizing academic papers or articles for quick review.\n",
        "* **Customer Support:** Summarizing customer inquiries or support tickets."
      ],
      "metadata": {
        "id": "1MvVdf5Q3yYo"
      }
    }
  ]
}