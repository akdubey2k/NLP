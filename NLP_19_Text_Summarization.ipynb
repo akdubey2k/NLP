{
  "nbformat": 4,
  "nbformat_minor": 0,
  "metadata": {
    "colab": {
      "provenance": []
    },
    "kernelspec": {
      "name": "python3",
      "display_name": "Python 3"
    },
    "language_info": {
      "name": "python"
    }
  },
  "cells": [
    {
      "cell_type": "markdown",
      "source": [
        "# 1. Introduction\n",
        "**Text Summarization** is a natural language processing (NLP) technique that involves\n",
        "* *reducing a large body of text into a shorter version while retaining its main ideas and essential information.*\n",
        "* The goal is to create a concise summary that accurately reflects the key points of the original content."
      ],
      "metadata": {
        "id": "wM_Ad36ShDB3"
      }
    },
    {
      "cell_type": "markdown",
      "source": [
        "There are two primary types of text summarization:\n",
        "1. Extractive Summarization\n",
        "2. Abstractive Summarization"
      ],
      "metadata": {
        "id": "nmsoxLPpiV8L"
      }
    },
    {
      "cell_type": "markdown",
      "source": [
        "## 1. Extractive Summarization\n",
        "* **Definition:** This method involves *selecting important sentences, phrases, or sections,* directly from the original text to form the summary.\n",
        "* **How it works:** The algorithm identifies the most relevant parts based on factors like *sentence importance, keyword frequency, or similarity to the main topic.*\n",
        "* **Pros:** Maintains the original context and is straightforward.\n",
        "* **Cons:** May result in a less coherent summary since it only pieces together parts of the original text."
      ],
      "metadata": {
        "id": "zjJFI4vXjNZw"
      }
    },
    {
      "cell_type": "markdown",
      "source": [
        "**Example:** Given a paragraph about climate change, an extractive summary might pick out sentences like:\n",
        "* \"Climate change is a significant global challenge.\"\n",
        "* \"Greenhouse gas emissions contribute to rising temperatures.\"\n"
      ],
      "metadata": {
        "id": "03_GecAz2PIw"
      }
    }
  ]
}