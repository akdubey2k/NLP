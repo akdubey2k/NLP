{
  "nbformat": 4,
  "nbformat_minor": 0,
  "metadata": {
    "colab": {
      "provenance": []
    },
    "kernelspec": {
      "name": "python3",
      "display_name": "Python 3"
    },
    "language_info": {
      "name": "python"
    }
  },
  "cells": [
    {
      "cell_type": "markdown",
      "source": [
        "# 1. Introduction\n",
        "**Text Summarization** is a natural language processing (NLP) technique that involves\n",
        "* *reducing a large body of text into a shorter version while retaining its main ideas and essential information.*\n",
        "* The goal is to create a concise summary that accurately reflects the key points of the original content."
      ],
      "metadata": {
        "id": "wM_Ad36ShDB3"
      }
    },
    {
      "cell_type": "markdown",
      "source": [
        "There are two primary types of text summarization:\n",
        "1. Extractive Summarization\n",
        "2. Abstractive Summarization"
      ],
      "metadata": {
        "id": "nmsoxLPpiV8L"
      }
    },
    {
      "cell_type": "markdown",
      "source": [
        "## 1. Extractive Summarization\n",
        "* **Definition:** This method involves *selecting important sentences, phrases, or sections,* directly from the original text to form the summary.\n",
        "* **How it works:** The algorithm identifies the most relevant parts based on factors like *sentence importance, keyword frequency, or similarity to the main topic.*\n",
        "* **Pros:** Maintains the original context and is straightforward.\n",
        "* **Cons:** May result in a less coherent summary since it only pieces together parts of the original text."
      ],
      "metadata": {
        "id": "zjJFI4vXjNZw"
      }
    },
    {
      "cell_type": "markdown",
      "source": [
        "**Example:** Given a paragraph about climate change, an extractive summary might pick out sentences like:\n",
        "* \"Climate change is a significant global challenge.\"\n",
        "* \"Greenhouse gas emissions contribute to rising temperatures.\"\n"
      ],
      "metadata": {
        "id": "03_GecAz2PIw"
      }
    },
    {
      "cell_type": "markdown",
      "source": [
        "## 2. Abstractive Summarization\n",
        "* **Definition:** This approach generates new sentences that convey the main ideas of the original text, often paraphrasing or rephrasing the content.\n",
        "* **How it works:** The algorithm uses deep learning models like transformers (e.g., BERT, GPT) to understand the text's meaning and then creates a new, concise version.\n",
        "* **Pros:** Can provide more coherent and natural summaries, mimicking human summarization.\n",
        "* **Cons:** More complex and may require significant computational power.\n"
      ],
      "metadata": {
        "id": "f4ZjH5_E2kDV"
      }
    },
    {
      "cell_type": "markdown",
      "source": [
        "**Example:** The same paragraph on climate change might be summarized as:\n",
        "* \"Rising greenhouse gas emissions are driving global warming, posing serious environmental challenges.\""
      ],
      "metadata": {
        "id": "43yNfmMT3Sio"
      }
    },
    {
      "cell_type": "markdown",
      "source": [
        "## Applications of Text Summarization\n",
        "* **News Aggregators:** Providing brief summaries of news articles.\n",
        "* **Search Engines:** Displaying snippets of relevant information in search results.\n",
        "* **Research:** Summarizing academic papers or articles for quick review.\n",
        "* **Customer Support:** Summarizing customer inquiries or support tickets."
      ],
      "metadata": {
        "id": "1MvVdf5Q3yYo"
      }
    },
    {
      "cell_type": "markdown",
      "source": [
        "# 2. Import libraries"
      ],
      "metadata": {
        "id": "tYQTaSI95D6I"
      }
    },
    {
      "cell_type": "code",
      "source": [
        "!pip install transformers"
      ],
      "metadata": {
        "colab": {
          "base_uri": "https://localhost:8080/"
        },
        "id": "CMYV1du05IYX",
        "outputId": "226f1720-3bf1-4aca-cdd9-1afc975606f2"
      },
      "execution_count": 10,
      "outputs": [
        {
          "output_type": "stream",
          "name": "stdout",
          "text": [
            "Requirement already satisfied: transformers in /usr/local/lib/python3.10/dist-packages (4.46.2)\n",
            "Requirement already satisfied: filelock in /usr/local/lib/python3.10/dist-packages (from transformers) (3.16.1)\n",
            "Requirement already satisfied: huggingface-hub<1.0,>=0.23.2 in /usr/local/lib/python3.10/dist-packages (from transformers) (0.26.2)\n",
            "Requirement already satisfied: numpy>=1.17 in /usr/local/lib/python3.10/dist-packages (from transformers) (1.26.4)\n",
            "Requirement already satisfied: packaging>=20.0 in /usr/local/lib/python3.10/dist-packages (from transformers) (24.2)\n",
            "Requirement already satisfied: pyyaml>=5.1 in /usr/local/lib/python3.10/dist-packages (from transformers) (6.0.2)\n",
            "Requirement already satisfied: regex!=2019.12.17 in /usr/local/lib/python3.10/dist-packages (from transformers) (2024.9.11)\n",
            "Requirement already satisfied: requests in /usr/local/lib/python3.10/dist-packages (from transformers) (2.32.3)\n",
            "Requirement already satisfied: safetensors>=0.4.1 in /usr/local/lib/python3.10/dist-packages (from transformers) (0.4.5)\n",
            "Requirement already satisfied: tokenizers<0.21,>=0.20 in /usr/local/lib/python3.10/dist-packages (from transformers) (0.20.3)\n",
            "Requirement already satisfied: tqdm>=4.27 in /usr/local/lib/python3.10/dist-packages (from transformers) (4.66.6)\n",
            "Requirement already satisfied: fsspec>=2023.5.0 in /usr/local/lib/python3.10/dist-packages (from huggingface-hub<1.0,>=0.23.2->transformers) (2024.10.0)\n",
            "Requirement already satisfied: typing-extensions>=3.7.4.3 in /usr/local/lib/python3.10/dist-packages (from huggingface-hub<1.0,>=0.23.2->transformers) (4.12.2)\n",
            "Requirement already satisfied: charset-normalizer<4,>=2 in /usr/local/lib/python3.10/dist-packages (from requests->transformers) (3.4.0)\n",
            "Requirement already satisfied: idna<4,>=2.5 in /usr/local/lib/python3.10/dist-packages (from requests->transformers) (3.10)\n",
            "Requirement already satisfied: urllib3<3,>=1.21.1 in /usr/local/lib/python3.10/dist-packages (from requests->transformers) (2.2.3)\n",
            "Requirement already satisfied: certifi>=2017.4.17 in /usr/local/lib/python3.10/dist-packages (from requests->transformers) (2024.8.30)\n"
          ]
        }
      ]
    }
  ]
}