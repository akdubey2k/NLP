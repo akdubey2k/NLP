{
  "nbformat": 4,
  "nbformat_minor": 0,
  "metadata": {
    "colab": {
      "provenance": []
    },
    "kernelspec": {
      "name": "python3",
      "display_name": "Python 3"
    },
    "language_info": {
      "name": "python"
    }
  },
  "cells": [
    {
      "cell_type": "markdown",
      "source": [
        "# 1. Introduction\n",
        "## 1.1 Definition\n",
        "**Sentiment Analysis** is a **Natural Language Processing (NLP)** technique used to determine the emotional tone or attitude expressed in a piece of text.\n",
        "\n",
        "It involves analyzing the text to classify opinions or emotions as *positive, negative, or neutral.* The process can go beyond basic classification by detecting more nuanced emotions, such as *joy, anger, sadness, or fear.*"
      ],
      "metadata": {
        "id": "K1Fs3WXm0tGG"
      }
    },
    {
      "cell_type": "markdown",
      "source": [
        "# 2. Import libraries\n",
        "Importing required libraries"
      ],
      "metadata": {
        "id": "e_pDYfhz5IVi"
      }
    },
    {
      "cell_type": "code",
      "execution_count": 1,
      "metadata": {
        "id": "ZsBpMXdV0AoL"
      },
      "outputs": [],
      "source": [
        "# Natural Language Toolkit for text processing\n",
        "import nltk\n",
        "\n",
        "# To remove common stopwords from the text\n",
        "from nltk.corpus import stopwords\n",
        "\n",
        "# For tokenizing the text into individual words\n",
        "from nltk.tokenize import word_tokenize\n",
        "\n",
        "# For converting text data to numerical features\n",
        "from sklearn.feature_extraction.text import TfidfVectorizer\n",
        "\n",
        "# To split the dataset into training and testing sets\n",
        "from sklearn.model_selection import train_test_split\n",
        "\n",
        "# The Naive Bayes algorithm for classification\n",
        "from sklearn.naive_bayes import MultinomialNB\n",
        "\n",
        "# For evaluating the performance of the model\n",
        "from sklearn.metrics import classification_report"
      ]
    },
    {
      "cell_type": "markdown",
      "source": [
        "# 3. Downloading NLTK data\n",
        "required for tokenization and stopword removal"
      ],
      "metadata": {
        "id": "UwzsviBawzZK"
      }
    },
    {
      "cell_type": "code",
      "source": [
        "nltk.download('punkt')       # For tokenization\n",
        "nltk.download('stopwords')   # For removing common stopwords"
      ],
      "metadata": {
        "colab": {
          "base_uri": "https://localhost:8080/"
        },
        "id": "g0mt8mayxnAg",
        "outputId": "f650c752-942a-46eb-84ff-dffba72e20a4"
      },
      "execution_count": 2,
      "outputs": [
        {
          "output_type": "stream",
          "name": "stderr",
          "text": [
            "[nltk_data] Downloading package punkt to /root/nltk_data...\n",
            "[nltk_data]   Unzipping tokenizers/punkt.zip.\n",
            "[nltk_data] Downloading package stopwords to /root/nltk_data...\n",
            "[nltk_data]   Unzipping corpora/stopwords.zip.\n"
          ]
        },
        {
          "output_type": "execute_result",
          "data": {
            "text/plain": [
              "True"
            ]
          },
          "metadata": {},
          "execution_count": 2
        }
      ]
    }
  ]
}