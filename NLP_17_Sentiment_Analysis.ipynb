{
  "nbformat": 4,
  "nbformat_minor": 0,
  "metadata": {
    "colab": {
      "provenance": []
    },
    "kernelspec": {
      "name": "python3",
      "display_name": "Python 3"
    },
    "language_info": {
      "name": "python"
    }
  },
  "cells": [
    {
      "cell_type": "markdown",
      "source": [
        "# 1. Introduction\n",
        "## 1.1 Definition\n",
        "**Sentiment Analysis** is a Natural Language Processing **(NLP)** technique used to determine the emotional tone or attitude expressed in a piece of text.\n",
        "\n",
        "It involves analyzing the text to classify opinions or emotions as *positive, negative, or neutral.* The process can go beyond basic classification by detecting more nuanced emotions, such as *joy, anger, sadness, or fear.*"
      ],
      "metadata": {
        "id": "K1Fs3WXm0tGG"
      }
    },
    {
      "cell_type": "markdown",
      "source": [
        "# 2. Import libraries\n",
        "Importing required libraries"
      ],
      "metadata": {
        "id": "e_pDYfhz5IVi"
      }
    },
    {
      "cell_type": "code",
      "execution_count": null,
      "metadata": {
        "id": "ZsBpMXdV0AoL"
      },
      "outputs": [],
      "source": [
        "# Natural Language Toolkit for text processing\n",
        "import nltk\n",
        "\n",
        "# To remove common stopwords from the text\n",
        "from nltk.corpus import stopwords\n",
        "\n",
        "# For tokenizing the text into individual words\n",
        "from nltk.tokenize import word_tokenize\n",
        "\n",
        "# For converting text data to numerical features\n",
        "from sklearn.feature_extraction.text import TfidfVectorizer\n",
        "\n",
        "# To split the dataset into training and testing sets\n",
        "from sklearn.model_selection import train_test_split\n",
        "\n",
        "# The Naive Bayes algorithm for classification\n",
        "from sklearn.naive_bayes import MultinomialNB\n",
        "\n",
        "# For evaluating the performance of the model\n",
        "from sklearn.metrics import classification_report"
      ]
    },
    {
      "cell_type": "markdown",
      "source": [
        "# 3. Downloading NLTK data\n",
        "required for tokenization and stopword removal"
      ],
      "metadata": {
        "id": "UwzsviBawzZK"
      }
    },
    {
      "cell_type": "code",
      "source": [
        "nltk.download('punkt')       # For tokenization\n",
        "nltk.download('stopwords')   # For removing common stopwords"
      ],
      "metadata": {
        "colab": {
          "base_uri": "https://localhost:8080/"
        },
        "id": "g0mt8mayxnAg",
        "outputId": "94309596-35ce-4eb1-ba85-9deb807ec6e7"
      },
      "execution_count": null,
      "outputs": [
        {
          "output_type": "stream",
          "name": "stderr",
          "text": [
            "[nltk_data] Downloading package punkt to /root/nltk_data...\n",
            "[nltk_data]   Unzipping tokenizers/punkt.zip.\n",
            "[nltk_data] Downloading package stopwords to /root/nltk_data...\n",
            "[nltk_data]   Unzipping corpora/stopwords.zip.\n"
          ]
        },
        {
          "output_type": "execute_result",
          "data": {
            "text/plain": [
              "True"
            ]
          },
          "metadata": {},
          "execution_count": 2
        }
      ]
    },
    {
      "cell_type": "markdown",
      "source": [
        "# 4. Data Collection\n",
        "Creating a small dataset of text samples with associated sentiment labels\n"
      ],
      "metadata": {
        "id": "GjmWyEjsywKK"
      }
    },
    {
      "cell_type": "code",
      "source": [
        "texts = [\n",
        "    \"I love this product!\",  # Positive sentiment\n",
        "    \"This is the worst experience.\",  # Negative sentiment\n",
        "    \"I'm not sure if I like it.\",  # Neutral sentiment\n",
        "    \"Absolutely fantastic!\"  # Positive sentiment\n",
        "]\n",
        "# Corresponding sentiment labels for the texts\n",
        "labels = ['positive', 'negative', 'neutral', 'positive']"
      ],
      "metadata": {
        "id": "MR1jRz6fy9Id"
      },
      "execution_count": null,
      "outputs": []
    },
    {
      "cell_type": "markdown",
      "source": [
        "# 5. Text Preprocessing\n",
        "The text is preprocessed to clean and standardize it. This involves\n",
        "* tokenizing,\n",
        "* converting to lowercase, and\n",
        "* removing stopwords."
      ],
      "metadata": {
        "id": "TbRjH4UvdEIF"
      }
    },
    {
      "cell_type": "code",
      "source": [
        "def preprocess_text(text):\n",
        "    # Tokenize the text (convert it to lowercase and split it into individual words)\n",
        "    tokens = word_tokenize(text.lower())\n",
        "    # Remove stopwords (common words like \"the\", \"is\" that do not contribute much to sentiment)\n",
        "    tokens = [word for word in tokens if word not in stopwords.words('english')]\n",
        "    # Join the tokens back into a single string\n",
        "    return ' '.join(tokens)"
      ],
      "metadata": {
        "id": "z0ymazPBduF4"
      },
      "execution_count": null,
      "outputs": []
    },
    {
      "cell_type": "code",
      "source": [
        "# Applying text preprocessing to each text sample in the dataset\n",
        "texts = [preprocess_text(text) for text in texts]\n",
        "texts"
      ],
      "metadata": {
        "colab": {
          "base_uri": "https://localhost:8080/"
        },
        "id": "IS8N_Fhk9Pq-",
        "outputId": "e3bd98e1-a101-42cf-ad86-103e0e5aab28"
      },
      "execution_count": null,
      "outputs": [
        {
          "output_type": "execute_result",
          "data": {
            "text/plain": [
              "['love product !',\n",
              " 'worst experience .',\n",
              " \"'m sure like .\",\n",
              " 'absolutely fantastic !']"
            ]
          },
          "metadata": {},
          "execution_count": 6
        }
      ]
    },
    {
      "cell_type": "markdown",
      "source": [
        "# 6. Feature Extraction\n",
        "Text is converted to numerical features using **TF-IDF** to weigh the importance of each word in the dataset.\n",
        "Using **TF-IDF** (*Term Frequency-Inverse Document Frequency*) to convert the text data into numerical features"
      ],
      "metadata": {
        "id": "CeWmzGlR-a5g"
      }
    },
    {
      "cell_type": "markdown",
      "source": [],
      "metadata": {
        "id": "4fNOhTYn-hXd"
      }
    }
  ]
}