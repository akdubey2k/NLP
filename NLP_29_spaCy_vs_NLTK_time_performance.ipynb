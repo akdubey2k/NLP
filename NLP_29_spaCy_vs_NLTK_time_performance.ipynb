{
  "nbformat": 4,
  "nbformat_minor": 0,
  "metadata": {
    "colab": {
      "provenance": []
    },
    "kernelspec": {
      "name": "python3",
      "display_name": "Python 3"
    },
    "language_info": {
      "name": "python"
    }
  },
  "cells": [
    {
      "cell_type": "markdown",
      "source": [
        "To compare the **execution timing and performance** of **NLTK and spaCy,** you can use the *built-in* **time**  module in Python."
      ],
      "metadata": {
        "id": "8gdQQz4FqP3E"
      }
    },
    {
      "cell_type": "code",
      "execution_count": 1,
      "metadata": {
        "colab": {
          "base_uri": "https://localhost:8080/"
        },
        "id": "il4x4ndxp9O0",
        "outputId": "01a5c7a8-625c-48f2-c7bd-6b04525591e1"
      },
      "outputs": [
        {
          "output_type": "stream",
          "name": "stderr",
          "text": [
            "[nltk_data] Downloading package punkt to /root/nltk_data...\n",
            "[nltk_data]   Package punkt is already up-to-date!\n"
          ]
        },
        {
          "output_type": "stream",
          "name": "stdout",
          "text": [
            "0.140213\n",
            "0.871570\n"
          ]
        }
      ],
      "source": [
        "import time\n",
        "import nltk\n",
        "import spacy\n",
        "\n",
        "# NLTK example\n",
        "nltk_start = time.time()\n",
        "nltk.download('punkt')\n",
        "nltk_end = time.time()\n",
        "nltk_time = nltk_end - nltk_start\n",
        "print(f\"{nltk_time:.6f}\")\n",
        "\n",
        "# spaCy example\n",
        "spacy_start = time.time()\n",
        "spacy.load('en_core_web_sm')\n",
        "spacy_end = time.time()\n",
        "spacy_time = spacy_end - spacy_start\n",
        "print(f\"{spacy_time:.6f}\")"
      ]
    },
    {
      "cell_type": "code",
      "source": [
        "# NLTK Example\n",
        "nltk_start = time.time()\n",
        "sentence = \"The quick brown fox jumps over the lazy dog.\"\n",
        "tokens = nltk.word_tokenize(sentence)\n",
        "nltk_end = time.time()\n",
        "nltk_time = nltk_end - nltk_start\n",
        "print(f\"NLTK Tokenization Time : {nltk_time:.6f} seconds.\")\n",
        "\n",
        "# spaCy Example\n",
        "spacy_start = time.time()\n",
        "spacy_nlp = spacy.load('en_core_web_sm')\n",
        "doc = spacy_nlp(sentence)\n",
        "spacy_end = time.time()\n",
        "spacy_time = spacy_end - spacy_start\n",
        "print(f\"spaCy Tokenization Time : {nltk_time:.6f} seconds.\")\n",
        "\n",
        "# Compare the execution times\n",
        "print(f\"\\nNLTK is {nltk_time/spacy_time:.6f} times slower than spaCy.\")"
      ],
      "metadata": {
        "colab": {
          "base_uri": "https://localhost:8080/"
        },
        "id": "M6j73BFarGA0",
        "outputId": "c138d457-426e-4c1c-83b4-ed5df2caa6ee"
      },
      "execution_count": 2,
      "outputs": [
        {
          "output_type": "stream",
          "name": "stdout",
          "text": [
            "NLTK Tokenization Time : 0.011924 seconds.\n",
            "spaCy Tokenization Time : 0.011924 seconds.\n",
            "\n",
            "NLTK is 0.014400 times slower than spaCy.\n"
          ]
        }
      ]
    },
    {
      "cell_type": "markdown",
      "source": [
        "To compare the timing of execution for performance metrics between **NLTK** and **spaCy,** you can use Python's **`time`** module or **`timeit`** module.\n",
        "<br>Below are examples for both methods: using time for a simple timing comparison and timeit for more precise measurements.\n",
        "\n",
        "# Method 1: Using `time` Module\n",
        "The **`time`** module provides a simple way to measure the elapsed time for small code snippets.\n",
        "\n",
        "## Tokenization"
      ],
      "metadata": {
        "id": "d9h3Moy51IvV"
      }
    },
    {
      "cell_type": "code",
      "source": [
        "import time\n",
        "import nltk\n",
        "from nltk.tokenize import word_tokenize\n",
        "import spacy\n",
        "\n",
        "# Text for processing\n",
        "text = \"SpaCy is an amazing NLP library.\"\n",
        "\n",
        "# NLTK Timing\n",
        "start_time = time.time()\n",
        "nltk.download('punkt')\n",
        "nltk_tokens = word_tokenize(text)\n",
        "nltk_time = time.time() - start_time\n",
        "print(f\"NLTK Tokenization Time: {nltk_time:.6f} seconds\")\n",
        "\n",
        "# spaCy Timing\n",
        "nlp = spacy.load(\"en_core_web_sm\")\n",
        "start_time = time.time()\n",
        "doc = nlp(text)\n",
        "spacy_tokens = [token.text for token in doc]\n",
        "spacy_time = time.time() - start_time\n",
        "print(f\"spaCy Tokenization Time: {spacy_time:.6f} seconds\")\n",
        "\n",
        "# Compare the execution times\n",
        "print(f\"\\nNLTK is {nltk_time/spacy_time:.6f} times slower than spaCy.\")"
      ],
      "metadata": {
        "colab": {
          "base_uri": "https://localhost:8080/"
        },
        "id": "E-bq6mGz12bp",
        "outputId": "b8896fe4-0363-4917-b7a5-f25891288fc9"
      },
      "execution_count": 3,
      "outputs": [
        {
          "output_type": "stream",
          "name": "stdout",
          "text": [
            "NLTK Tokenization Time: 0.002803 seconds\n"
          ]
        },
        {
          "output_type": "stream",
          "name": "stderr",
          "text": [
            "[nltk_data] Downloading package punkt to /root/nltk_data...\n",
            "[nltk_data]   Package punkt is already up-to-date!\n"
          ]
        },
        {
          "output_type": "stream",
          "name": "stdout",
          "text": [
            "spaCy Tokenization Time: 0.009139 seconds\n",
            "\n",
            "NLTK is 0.306679 times slower than spaCy.\n"
          ]
        }
      ]
    }
  ]
}