{
  "nbformat": 4,
  "nbformat_minor": 0,
  "metadata": {
    "colab": {
      "provenance": []
    },
    "kernelspec": {
      "name": "python3",
      "display_name": "Python 3"
    },
    "language_info": {
      "name": "python"
    }
  },
  "cells": [
    {
      "cell_type": "markdown",
      "source": [
        "# 1. Introduction\n",
        "**FastText** is an open-source, text classification library created by **Facebook's AI Research (FAIR)** team. It provides an efficient and fast way to classify text data.\n",
        "\n",
        "A *FastText News Classifier* is a machine learning model that leverages **FastText** to classify news articles into different categories (such as sports, politics, entertainment, etc.)."
      ],
      "metadata": {
        "id": "xcv4d8EF4mpp"
      }
    },
    {
      "cell_type": "markdown",
      "source": [
        "**Thanks to:**\n",
        "* [E-commerce Text Classification Using FastText](https://www.kaggle.com/code/sunilthite/e-commerce-text-classification-using-fasttext/input)\n",
        "* [Loading Kaggle data directly into Google Colab](https://www.youtube.com/watch?v=yEXkEUqK52Q)\n",
        "* [Importing Datasets from Kaggle to Google Colab](https://saturncloud.io/blog/importing-datasets-from-kaggle-to-google-colab/)\n",
        "* [kaggle dataset download 403 Forbidden](https://stackoverflow.com/questions/75569191/kaggle-dataset-download-403-forbidden)\n",
        "* [Traffic Accident in Indonesia](https://www.kaggle.com/datasets/dodyagung/accident)\n",
        "* [Jigsaw Regression Based Data](https://www.kaggle.com/datasets/nkitgupta/jigsaw-regression-based-data)"
      ],
      "metadata": {
        "id": "aYMEmNUa44PX"
      }
    },
    {
      "cell_type": "markdown",
      "source": [
        "# 2. Import libraries"
      ],
      "metadata": {
        "id": "d-kd3EcE65rN"
      }
    },
    {
      "cell_type": "code",
      "source": [
        "!pip install fasttext"
      ],
      "metadata": {
        "colab": {
          "base_uri": "https://localhost:8080/"
        },
        "id": "p67DJVf57oSW",
        "outputId": "a7097772-7049-40ea-ded0-9ce28bbebd02"
      },
      "execution_count": null,
      "outputs": [
        {
          "output_type": "stream",
          "name": "stdout",
          "text": [
            "Requirement already satisfied: fasttext in /usr/local/lib/python3.10/dist-packages (0.9.3)\n",
            "Requirement already satisfied: pybind11>=2.2 in /usr/local/lib/python3.10/dist-packages (from fasttext) (2.13.6)\n",
            "Requirement already satisfied: setuptools>=0.7.0 in /usr/local/lib/python3.10/dist-packages (from fasttext) (71.0.4)\n",
            "Requirement already satisfied: numpy in /usr/local/lib/python3.10/dist-packages (from fasttext) (1.26.4)\n"
          ]
        }
      ]
    },
    {
      "cell_type": "code",
      "execution_count": null,
      "metadata": {
        "id": "yyR0E76w4Pz3"
      },
      "outputs": [],
      "source": [
        "# FastText library for text classification and training the FastText model.\n",
        "import fasttext\n",
        "\n",
        "# pandas library for data manipulation.\n",
        "import pandas as pd"
      ]
    },
    {
      "cell_type": "markdown",
      "source": [
        "# 3. Load the dataset\n",
        "Loads the dataset from a CSV file into a DataFrame for easy manipulation"
      ],
      "metadata": {
        "id": "23SRUzEh8XBR"
      }
    },
    {
      "cell_type": "code",
      "source": [
        "# Kaggle library to download datasets from Kaggle\n",
        "!pip install kaggle"
      ],
      "metadata": {
        "colab": {
          "base_uri": "https://localhost:8080/"
        },
        "id": "jrPBlTNi9BxA",
        "outputId": "2ef9d96d-e399-4115-8d56-ce5003db8ba9"
      },
      "execution_count": null,
      "outputs": [
        {
          "output_type": "stream",
          "name": "stdout",
          "text": [
            "Requirement already satisfied: kaggle in /usr/local/lib/python3.10/dist-packages (1.6.17)\n",
            "Requirement already satisfied: six>=1.10 in /usr/local/lib/python3.10/dist-packages (from kaggle) (1.16.0)\n",
            "Requirement already satisfied: certifi>=2023.7.22 in /usr/local/lib/python3.10/dist-packages (from kaggle) (2024.8.30)\n",
            "Requirement already satisfied: python-dateutil in /usr/local/lib/python3.10/dist-packages (from kaggle) (2.8.2)\n",
            "Requirement already satisfied: requests in /usr/local/lib/python3.10/dist-packages (from kaggle) (2.32.3)\n",
            "Requirement already satisfied: tqdm in /usr/local/lib/python3.10/dist-packages (from kaggle) (4.66.5)\n",
            "Requirement already satisfied: python-slugify in /usr/local/lib/python3.10/dist-packages (from kaggle) (8.0.4)\n",
            "Requirement already satisfied: urllib3 in /usr/local/lib/python3.10/dist-packages (from kaggle) (2.2.3)\n",
            "Requirement already satisfied: bleach in /usr/local/lib/python3.10/dist-packages (from kaggle) (6.1.0)\n",
            "Requirement already satisfied: webencodings in /usr/local/lib/python3.10/dist-packages (from bleach->kaggle) (0.5.1)\n",
            "Requirement already satisfied: text-unidecode>=1.3 in /usr/local/lib/python3.10/dist-packages (from python-slugify->kaggle) (1.3)\n",
            "Requirement already satisfied: charset-normalizer<4,>=2 in /usr/local/lib/python3.10/dist-packages (from requests->kaggle) (3.3.2)\n",
            "Requirement already satisfied: idna<4,>=2.5 in /usr/local/lib/python3.10/dist-packages (from requests->kaggle) (3.10)\n"
          ]
        }
      ]
    },
    {
      "cell_type": "code",
      "source": [
        "# Mount Google Drive: Import the Drive to access and store the Kaggle API key in Google Colab\n",
        "from google.colab import drive\n",
        "drive.mount('/content/drive')"
      ],
      "metadata": {
        "colab": {
          "base_uri": "https://localhost:8080/"
        },
        "id": "rElP9GNt5NIZ",
        "outputId": "45ee58f9-523f-47de-8f7d-a25117fdc964"
      },
      "execution_count": null,
      "outputs": [
        {
          "output_type": "stream",
          "name": "stdout",
          "text": [
            "Drive already mounted at /content/drive; to attempt to forcibly remount, call drive.mount(\"/content/drive\", force_remount=True).\n"
          ]
        }
      ]
    },
    {
      "cell_type": "code",
      "source": [
        "# Set Kaggle Configuration: To direct Kaggle to the appropriate directory in Drive\n",
        "import os\n",
        "os.environ['KAGGLE_CONFIG_DIR'] = '/content/drive/MyDrive/kaggle'"
      ],
      "metadata": {
        "id": "MO_Pd22F9HbV"
      },
      "execution_count": null,
      "outputs": []
    },
    {
      "cell_type": "code",
      "source": [
        "# copy the Kaggle api key to the google drive\n",
        "!mkdir ~/.kaggle\n",
        "!cp /content/drive/MyDrive/kaggle/kaggle.json ~/.kaggle/kaggle.json"
      ],
      "metadata": {
        "colab": {
          "base_uri": "https://localhost:8080/"
        },
        "id": "kZJcGAhb9QM9",
        "outputId": "884093e7-0276-4718-ba1e-cd3706d59056"
      },
      "execution_count": null,
      "outputs": [
        {
          "output_type": "stream",
          "name": "stdout",
          "text": [
            "mkdir: cannot create directory ‘/root/.kaggle’: File exists\n"
          ]
        }
      ]
    },
    {
      "cell_type": "code",
      "source": [
        "# give the permission to the JSON file\n",
        "!chmod 600 ~/.kaggle/kaggle.json"
      ],
      "metadata": {
        "id": "UnwE2YOg9VQ6"
      },
      "execution_count": null,
      "outputs": []
    },
    {
      "cell_type": "code",
      "source": [
        "# download the dataset from Kaggle using the Kaggle API.\n",
        "\n",
        "# !kaggle datasets download -d nkitgupta/jigsaw-regression-based-data\n",
        "# !unzip /content/jigsaw-regression-based-data.zip\n",
        "# !rm /content/jigsaw-regression-based-data.zip\n",
        "\n",
        "!kaggle datasets download -d dodyagung/accident\n",
        "!unzip /content/accident.zip\n",
        "!rm /content/accident.zip"
      ],
      "metadata": {
        "colab": {
          "base_uri": "https://localhost:8080/"
        },
        "id": "nIOzoHN1zolr",
        "outputId": "3ec0f161-786b-4907-e5c0-1bf73bdb8b6a"
      },
      "execution_count": null,
      "outputs": [
        {
          "output_type": "stream",
          "name": "stdout",
          "text": [
            "Dataset URL: https://www.kaggle.com/datasets/dodyagung/accident\n",
            "License(s): CC-BY-NC-SA-4.0\n",
            "accident.zip: Skipping, found more recently modified local copy (use --force to force download)\n",
            "Archive:  /content/accident.zip\n",
            "replace twitter.csv? [y]es, [n]o, [A]ll, [N]one, [r]ename: N\n"
          ]
        }
      ]
    },
    {
      "cell_type": "markdown",
      "source": [
        "## 3.1 Explore the dataset"
      ],
      "metadata": {
        "id": "m2xfu2AeIKaP"
      }
    },
    {
      "cell_type": "code",
      "source": [
        "df = pd.read_csv('/content/twitter.csv')\n",
        "df.head(10)"
      ],
      "metadata": {
        "colab": {
          "base_uri": "https://localhost:8080/",
          "height": 536
        },
        "id": "Q4rq5na20eWj",
        "outputId": "7141222e-aae0-471c-b2f6-1d6faeb6a8e6"
      },
      "execution_count": null,
      "outputs": [
        {
          "output_type": "execute_result",
          "data": {
            "text/plain": [
              "                id_str           created_at           crawled_at  \\\n",
              "0  1113812743138697216  2019-04-04 21:37:06  2020-02-08 12:30:13   \n",
              "1  1113813804708548608  2019-04-04 21:41:19  2020-02-08 12:30:13   \n",
              "2  1113823718956908545  2019-04-04 22:20:43  2020-02-08 12:30:13   \n",
              "3  1113846220986900480  2019-04-04 23:50:08  2020-02-08 12:30:14   \n",
              "4  1113847850801090560  2019-04-04 23:56:36  2020-02-08 12:30:14   \n",
              "5  1113848173166977024  2019-04-04 23:57:53  2020-02-08 12:30:15   \n",
              "6  1113849680297775105  2019-04-05 00:03:52  2020-02-08 12:30:15   \n",
              "7  1113849914788679680  2019-04-05 00:04:48  2020-02-08 12:30:15   \n",
              "8  1113851311621959681  2019-04-05 00:10:21  2020-02-08 12:30:15   \n",
              "9  1113858337085374469  2019-04-05 00:38:16  2020-02-08 12:30:16   \n",
              "\n",
              "     screen_name                                          full_text  \\\n",
              "0   vtvindonesia  Pelajar SMP Tewas Kecelakaan di Jalinsum Banda...   \n",
              "1  briand_fergie  Orang-orang pulang nonton film ini langsung ga...   \n",
              "2  dimanamacetid       [22:14] #JAKARTA #KECELAKAAN Rawamangun #TMC   \n",
              "3    imaamhanavi  [83:1] Kecelakaan besarlah bagi orang-orang ya...   \n",
              "4       mdntkptr  Anggapannya kayak mobil vs motor kecelakaan, y...   \n",
              "5    serambinews  #TrukTangki\\n\\n#Kecelakaan\\n#Evakuasi\\n#NaganR...   \n",
              "6       DeveessS  Aq benci laki2 :'( \\nAku benci hidup ini\\nKnp ...   \n",
              "7  TMCPoldaMetro  Gunakan jalur sesuai ketentuan, jangan melawan...   \n",
              "8  dimanamacetid  [00:04] #JAKARTA #KECELAKAAN Jl. Raya Kembanga...   \n",
              "9   TimmyChucker  korban penipuan gak sakit, korban kecelakaan j...   \n",
              "\n",
              "                                          full_tweet  \n",
              "0  {\"created_at\": \"Thu Apr 04 14:37:06 +0000 2019...  \n",
              "1  {\"created_at\": \"Thu Apr 04 14:41:19 +0000 2019...  \n",
              "2  {\"created_at\": \"Thu Apr 04 15:20:43 +0000 2019...  \n",
              "3  {\"created_at\": \"Thu Apr 04 16:50:08 +0000 2019...  \n",
              "4  {\"created_at\": \"Thu Apr 04 16:56:36 +0000 2019...  \n",
              "5  {\"created_at\": \"Thu Apr 04 16:57:53 +0000 2019...  \n",
              "6  {\"created_at\": \"Thu Apr 04 17:03:52 +0000 2019...  \n",
              "7  {\"created_at\": \"Thu Apr 04 17:04:48 +0000 2019...  \n",
              "8  {\"created_at\": \"Thu Apr 04 17:10:21 +0000 2019...  \n",
              "9  {\"created_at\": \"Thu Apr 04 17:38:16 +0000 2019...  "
            ],
            "text/html": [
              "\n",
              "  <div id=\"df-5a3892c9-809b-4915-9bdc-cc1acfc4f43f\" class=\"colab-df-container\">\n",
              "    <div>\n",
              "<style scoped>\n",
              "    .dataframe tbody tr th:only-of-type {\n",
              "        vertical-align: middle;\n",
              "    }\n",
              "\n",
              "    .dataframe tbody tr th {\n",
              "        vertical-align: top;\n",
              "    }\n",
              "\n",
              "    .dataframe thead th {\n",
              "        text-align: right;\n",
              "    }\n",
              "</style>\n",
              "<table border=\"1\" class=\"dataframe\">\n",
              "  <thead>\n",
              "    <tr style=\"text-align: right;\">\n",
              "      <th></th>\n",
              "      <th>id_str</th>\n",
              "      <th>created_at</th>\n",
              "      <th>crawled_at</th>\n",
              "      <th>screen_name</th>\n",
              "      <th>full_text</th>\n",
              "      <th>full_tweet</th>\n",
              "    </tr>\n",
              "  </thead>\n",
              "  <tbody>\n",
              "    <tr>\n",
              "      <th>0</th>\n",
              "      <td>1113812743138697216</td>\n",
              "      <td>2019-04-04 21:37:06</td>\n",
              "      <td>2020-02-08 12:30:13</td>\n",
              "      <td>vtvindonesia</td>\n",
              "      <td>Pelajar SMP Tewas Kecelakaan di Jalinsum Banda...</td>\n",
              "      <td>{\"created_at\": \"Thu Apr 04 14:37:06 +0000 2019...</td>\n",
              "    </tr>\n",
              "    <tr>\n",
              "      <th>1</th>\n",
              "      <td>1113813804708548608</td>\n",
              "      <td>2019-04-04 21:41:19</td>\n",
              "      <td>2020-02-08 12:30:13</td>\n",
              "      <td>briand_fergie</td>\n",
              "      <td>Orang-orang pulang nonton film ini langsung ga...</td>\n",
              "      <td>{\"created_at\": \"Thu Apr 04 14:41:19 +0000 2019...</td>\n",
              "    </tr>\n",
              "    <tr>\n",
              "      <th>2</th>\n",
              "      <td>1113823718956908545</td>\n",
              "      <td>2019-04-04 22:20:43</td>\n",
              "      <td>2020-02-08 12:30:13</td>\n",
              "      <td>dimanamacetid</td>\n",
              "      <td>[22:14] #JAKARTA #KECELAKAAN Rawamangun #TMC</td>\n",
              "      <td>{\"created_at\": \"Thu Apr 04 15:20:43 +0000 2019...</td>\n",
              "    </tr>\n",
              "    <tr>\n",
              "      <th>3</th>\n",
              "      <td>1113846220986900480</td>\n",
              "      <td>2019-04-04 23:50:08</td>\n",
              "      <td>2020-02-08 12:30:14</td>\n",
              "      <td>imaamhanavi</td>\n",
              "      <td>[83:1] Kecelakaan besarlah bagi orang-orang ya...</td>\n",
              "      <td>{\"created_at\": \"Thu Apr 04 16:50:08 +0000 2019...</td>\n",
              "    </tr>\n",
              "    <tr>\n",
              "      <th>4</th>\n",
              "      <td>1113847850801090560</td>\n",
              "      <td>2019-04-04 23:56:36</td>\n",
              "      <td>2020-02-08 12:30:14</td>\n",
              "      <td>mdntkptr</td>\n",
              "      <td>Anggapannya kayak mobil vs motor kecelakaan, y...</td>\n",
              "      <td>{\"created_at\": \"Thu Apr 04 16:56:36 +0000 2019...</td>\n",
              "    </tr>\n",
              "    <tr>\n",
              "      <th>5</th>\n",
              "      <td>1113848173166977024</td>\n",
              "      <td>2019-04-04 23:57:53</td>\n",
              "      <td>2020-02-08 12:30:15</td>\n",
              "      <td>serambinews</td>\n",
              "      <td>#TrukTangki\\n\\n#Kecelakaan\\n#Evakuasi\\n#NaganR...</td>\n",
              "      <td>{\"created_at\": \"Thu Apr 04 16:57:53 +0000 2019...</td>\n",
              "    </tr>\n",
              "    <tr>\n",
              "      <th>6</th>\n",
              "      <td>1113849680297775105</td>\n",
              "      <td>2019-04-05 00:03:52</td>\n",
              "      <td>2020-02-08 12:30:15</td>\n",
              "      <td>DeveessS</td>\n",
              "      <td>Aq benci laki2 :'( \\nAku benci hidup ini\\nKnp ...</td>\n",
              "      <td>{\"created_at\": \"Thu Apr 04 17:03:52 +0000 2019...</td>\n",
              "    </tr>\n",
              "    <tr>\n",
              "      <th>7</th>\n",
              "      <td>1113849914788679680</td>\n",
              "      <td>2019-04-05 00:04:48</td>\n",
              "      <td>2020-02-08 12:30:15</td>\n",
              "      <td>TMCPoldaMetro</td>\n",
              "      <td>Gunakan jalur sesuai ketentuan, jangan melawan...</td>\n",
              "      <td>{\"created_at\": \"Thu Apr 04 17:04:48 +0000 2019...</td>\n",
              "    </tr>\n",
              "    <tr>\n",
              "      <th>8</th>\n",
              "      <td>1113851311621959681</td>\n",
              "      <td>2019-04-05 00:10:21</td>\n",
              "      <td>2020-02-08 12:30:15</td>\n",
              "      <td>dimanamacetid</td>\n",
              "      <td>[00:04] #JAKARTA #KECELAKAAN Jl. Raya Kembanga...</td>\n",
              "      <td>{\"created_at\": \"Thu Apr 04 17:10:21 +0000 2019...</td>\n",
              "    </tr>\n",
              "    <tr>\n",
              "      <th>9</th>\n",
              "      <td>1113858337085374469</td>\n",
              "      <td>2019-04-05 00:38:16</td>\n",
              "      <td>2020-02-08 12:30:16</td>\n",
              "      <td>TimmyChucker</td>\n",
              "      <td>korban penipuan gak sakit, korban kecelakaan j...</td>\n",
              "      <td>{\"created_at\": \"Thu Apr 04 17:38:16 +0000 2019...</td>\n",
              "    </tr>\n",
              "  </tbody>\n",
              "</table>\n",
              "</div>\n",
              "    <div class=\"colab-df-buttons\">\n",
              "\n",
              "  <div class=\"colab-df-container\">\n",
              "    <button class=\"colab-df-convert\" onclick=\"convertToInteractive('df-5a3892c9-809b-4915-9bdc-cc1acfc4f43f')\"\n",
              "            title=\"Convert this dataframe to an interactive table.\"\n",
              "            style=\"display:none;\">\n",
              "\n",
              "  <svg xmlns=\"http://www.w3.org/2000/svg\" height=\"24px\" viewBox=\"0 -960 960 960\">\n",
              "    <path d=\"M120-120v-720h720v720H120Zm60-500h600v-160H180v160Zm220 220h160v-160H400v160Zm0 220h160v-160H400v160ZM180-400h160v-160H180v160Zm440 0h160v-160H620v160ZM180-180h160v-160H180v160Zm440 0h160v-160H620v160Z\"/>\n",
              "  </svg>\n",
              "    </button>\n",
              "\n",
              "  <style>\n",
              "    .colab-df-container {\n",
              "      display:flex;\n",
              "      gap: 12px;\n",
              "    }\n",
              "\n",
              "    .colab-df-convert {\n",
              "      background-color: #E8F0FE;\n",
              "      border: none;\n",
              "      border-radius: 50%;\n",
              "      cursor: pointer;\n",
              "      display: none;\n",
              "      fill: #1967D2;\n",
              "      height: 32px;\n",
              "      padding: 0 0 0 0;\n",
              "      width: 32px;\n",
              "    }\n",
              "\n",
              "    .colab-df-convert:hover {\n",
              "      background-color: #E2EBFA;\n",
              "      box-shadow: 0px 1px 2px rgba(60, 64, 67, 0.3), 0px 1px 3px 1px rgba(60, 64, 67, 0.15);\n",
              "      fill: #174EA6;\n",
              "    }\n",
              "\n",
              "    .colab-df-buttons div {\n",
              "      margin-bottom: 4px;\n",
              "    }\n",
              "\n",
              "    [theme=dark] .colab-df-convert {\n",
              "      background-color: #3B4455;\n",
              "      fill: #D2E3FC;\n",
              "    }\n",
              "\n",
              "    [theme=dark] .colab-df-convert:hover {\n",
              "      background-color: #434B5C;\n",
              "      box-shadow: 0px 1px 3px 1px rgba(0, 0, 0, 0.15);\n",
              "      filter: drop-shadow(0px 1px 2px rgba(0, 0, 0, 0.3));\n",
              "      fill: #FFFFFF;\n",
              "    }\n",
              "  </style>\n",
              "\n",
              "    <script>\n",
              "      const buttonEl =\n",
              "        document.querySelector('#df-5a3892c9-809b-4915-9bdc-cc1acfc4f43f button.colab-df-convert');\n",
              "      buttonEl.style.display =\n",
              "        google.colab.kernel.accessAllowed ? 'block' : 'none';\n",
              "\n",
              "      async function convertToInteractive(key) {\n",
              "        const element = document.querySelector('#df-5a3892c9-809b-4915-9bdc-cc1acfc4f43f');\n",
              "        const dataTable =\n",
              "          await google.colab.kernel.invokeFunction('convertToInteractive',\n",
              "                                                    [key], {});\n",
              "        if (!dataTable) return;\n",
              "\n",
              "        const docLinkHtml = 'Like what you see? Visit the ' +\n",
              "          '<a target=\"_blank\" href=https://colab.research.google.com/notebooks/data_table.ipynb>data table notebook</a>'\n",
              "          + ' to learn more about interactive tables.';\n",
              "        element.innerHTML = '';\n",
              "        dataTable['output_type'] = 'display_data';\n",
              "        await google.colab.output.renderOutput(dataTable, element);\n",
              "        const docLink = document.createElement('div');\n",
              "        docLink.innerHTML = docLinkHtml;\n",
              "        element.appendChild(docLink);\n",
              "      }\n",
              "    </script>\n",
              "  </div>\n",
              "\n",
              "\n",
              "<div id=\"df-87459bc1-f6ed-4c80-8c34-d1c25cb100ec\">\n",
              "  <button class=\"colab-df-quickchart\" onclick=\"quickchart('df-87459bc1-f6ed-4c80-8c34-d1c25cb100ec')\"\n",
              "            title=\"Suggest charts\"\n",
              "            style=\"display:none;\">\n",
              "\n",
              "<svg xmlns=\"http://www.w3.org/2000/svg\" height=\"24px\"viewBox=\"0 0 24 24\"\n",
              "     width=\"24px\">\n",
              "    <g>\n",
              "        <path d=\"M19 3H5c-1.1 0-2 .9-2 2v14c0 1.1.9 2 2 2h14c1.1 0 2-.9 2-2V5c0-1.1-.9-2-2-2zM9 17H7v-7h2v7zm4 0h-2V7h2v10zm4 0h-2v-4h2v4z\"/>\n",
              "    </g>\n",
              "</svg>\n",
              "  </button>\n",
              "\n",
              "<style>\n",
              "  .colab-df-quickchart {\n",
              "      --bg-color: #E8F0FE;\n",
              "      --fill-color: #1967D2;\n",
              "      --hover-bg-color: #E2EBFA;\n",
              "      --hover-fill-color: #174EA6;\n",
              "      --disabled-fill-color: #AAA;\n",
              "      --disabled-bg-color: #DDD;\n",
              "  }\n",
              "\n",
              "  [theme=dark] .colab-df-quickchart {\n",
              "      --bg-color: #3B4455;\n",
              "      --fill-color: #D2E3FC;\n",
              "      --hover-bg-color: #434B5C;\n",
              "      --hover-fill-color: #FFFFFF;\n",
              "      --disabled-bg-color: #3B4455;\n",
              "      --disabled-fill-color: #666;\n",
              "  }\n",
              "\n",
              "  .colab-df-quickchart {\n",
              "    background-color: var(--bg-color);\n",
              "    border: none;\n",
              "    border-radius: 50%;\n",
              "    cursor: pointer;\n",
              "    display: none;\n",
              "    fill: var(--fill-color);\n",
              "    height: 32px;\n",
              "    padding: 0;\n",
              "    width: 32px;\n",
              "  }\n",
              "\n",
              "  .colab-df-quickchart:hover {\n",
              "    background-color: var(--hover-bg-color);\n",
              "    box-shadow: 0 1px 2px rgba(60, 64, 67, 0.3), 0 1px 3px 1px rgba(60, 64, 67, 0.15);\n",
              "    fill: var(--button-hover-fill-color);\n",
              "  }\n",
              "\n",
              "  .colab-df-quickchart-complete:disabled,\n",
              "  .colab-df-quickchart-complete:disabled:hover {\n",
              "    background-color: var(--disabled-bg-color);\n",
              "    fill: var(--disabled-fill-color);\n",
              "    box-shadow: none;\n",
              "  }\n",
              "\n",
              "  .colab-df-spinner {\n",
              "    border: 2px solid var(--fill-color);\n",
              "    border-color: transparent;\n",
              "    border-bottom-color: var(--fill-color);\n",
              "    animation:\n",
              "      spin 1s steps(1) infinite;\n",
              "  }\n",
              "\n",
              "  @keyframes spin {\n",
              "    0% {\n",
              "      border-color: transparent;\n",
              "      border-bottom-color: var(--fill-color);\n",
              "      border-left-color: var(--fill-color);\n",
              "    }\n",
              "    20% {\n",
              "      border-color: transparent;\n",
              "      border-left-color: var(--fill-color);\n",
              "      border-top-color: var(--fill-color);\n",
              "    }\n",
              "    30% {\n",
              "      border-color: transparent;\n",
              "      border-left-color: var(--fill-color);\n",
              "      border-top-color: var(--fill-color);\n",
              "      border-right-color: var(--fill-color);\n",
              "    }\n",
              "    40% {\n",
              "      border-color: transparent;\n",
              "      border-right-color: var(--fill-color);\n",
              "      border-top-color: var(--fill-color);\n",
              "    }\n",
              "    60% {\n",
              "      border-color: transparent;\n",
              "      border-right-color: var(--fill-color);\n",
              "    }\n",
              "    80% {\n",
              "      border-color: transparent;\n",
              "      border-right-color: var(--fill-color);\n",
              "      border-bottom-color: var(--fill-color);\n",
              "    }\n",
              "    90% {\n",
              "      border-color: transparent;\n",
              "      border-bottom-color: var(--fill-color);\n",
              "    }\n",
              "  }\n",
              "</style>\n",
              "\n",
              "  <script>\n",
              "    async function quickchart(key) {\n",
              "      const quickchartButtonEl =\n",
              "        document.querySelector('#' + key + ' button');\n",
              "      quickchartButtonEl.disabled = true;  // To prevent multiple clicks.\n",
              "      quickchartButtonEl.classList.add('colab-df-spinner');\n",
              "      try {\n",
              "        const charts = await google.colab.kernel.invokeFunction(\n",
              "            'suggestCharts', [key], {});\n",
              "      } catch (error) {\n",
              "        console.error('Error during call to suggestCharts:', error);\n",
              "      }\n",
              "      quickchartButtonEl.classList.remove('colab-df-spinner');\n",
              "      quickchartButtonEl.classList.add('colab-df-quickchart-complete');\n",
              "    }\n",
              "    (() => {\n",
              "      let quickchartButtonEl =\n",
              "        document.querySelector('#df-87459bc1-f6ed-4c80-8c34-d1c25cb100ec button');\n",
              "      quickchartButtonEl.style.display =\n",
              "        google.colab.kernel.accessAllowed ? 'block' : 'none';\n",
              "    })();\n",
              "  </script>\n",
              "</div>\n",
              "\n",
              "    </div>\n",
              "  </div>\n"
            ],
            "application/vnd.google.colaboratory.intrinsic+json": {
              "type": "dataframe",
              "variable_name": "df"
            }
          },
          "metadata": {},
          "execution_count": 9
        }
      ]
    },
    {
      "cell_type": "code",
      "source": [
        "df.info()"
      ],
      "metadata": {
        "colab": {
          "base_uri": "https://localhost:8080/"
        },
        "id": "3ZJHvE14NOkL",
        "outputId": "75c88421-d022-449a-9726-8ffdfccab064"
      },
      "execution_count": null,
      "outputs": [
        {
          "output_type": "stream",
          "name": "stdout",
          "text": [
            "<class 'pandas.core.frame.DataFrame'>\n",
            "RangeIndex: 157629 entries, 0 to 157628\n",
            "Data columns (total 6 columns):\n",
            " #   Column       Non-Null Count   Dtype \n",
            "---  ------       --------------   ----- \n",
            " 0   id_str       157629 non-null  int64 \n",
            " 1   created_at   157629 non-null  object\n",
            " 2   crawled_at   157629 non-null  object\n",
            " 3   screen_name  157629 non-null  object\n",
            " 4   full_text    157629 non-null  object\n",
            " 5   full_tweet   157629 non-null  object\n",
            "dtypes: int64(1), object(5)\n",
            "memory usage: 7.2+ MB\n"
          ]
        }
      ]
    },
    {
      "cell_type": "markdown",
      "source": [
        "# 4. Preprocess the dataset"
      ],
      "metadata": {
        "id": "udgDbf11Mubn"
      }
    },
    {
      "cell_type": "code",
      "source": [
        "X = df['full_text']\n",
        "X.head(10)"
      ],
      "metadata": {
        "colab": {
          "base_uri": "https://localhost:8080/",
          "height": 397
        },
        "id": "yOF4upwtM8vP",
        "outputId": "6ccfafea-4d8b-4185-94eb-bc7d461b3621"
      },
      "execution_count": null,
      "outputs": [
        {
          "output_type": "execute_result",
          "data": {
            "text/plain": [
              "0    Pelajar SMP Tewas Kecelakaan di Jalinsum Banda...\n",
              "1    Orang-orang pulang nonton film ini langsung ga...\n",
              "2         [22:14] #JAKARTA #KECELAKAAN Rawamangun #TMC\n",
              "3    [83:1] Kecelakaan besarlah bagi orang-orang ya...\n",
              "4    Anggapannya kayak mobil vs motor kecelakaan, y...\n",
              "5    #TrukTangki\\n\\n#Kecelakaan\\n#Evakuasi\\n#NaganR...\n",
              "6    Aq benci laki2 :'( \\nAku benci hidup ini\\nKnp ...\n",
              "7    Gunakan jalur sesuai ketentuan, jangan melawan...\n",
              "8    [00:04] #JAKARTA #KECELAKAAN Jl. Raya Kembanga...\n",
              "9    korban penipuan gak sakit, korban kecelakaan j...\n",
              "Name: full_text, dtype: object"
            ],
            "text/html": [
              "<div>\n",
              "<style scoped>\n",
              "    .dataframe tbody tr th:only-of-type {\n",
              "        vertical-align: middle;\n",
              "    }\n",
              "\n",
              "    .dataframe tbody tr th {\n",
              "        vertical-align: top;\n",
              "    }\n",
              "\n",
              "    .dataframe thead th {\n",
              "        text-align: right;\n",
              "    }\n",
              "</style>\n",
              "<table border=\"1\" class=\"dataframe\">\n",
              "  <thead>\n",
              "    <tr style=\"text-align: right;\">\n",
              "      <th></th>\n",
              "      <th>full_text</th>\n",
              "    </tr>\n",
              "  </thead>\n",
              "  <tbody>\n",
              "    <tr>\n",
              "      <th>0</th>\n",
              "      <td>Pelajar SMP Tewas Kecelakaan di Jalinsum Banda...</td>\n",
              "    </tr>\n",
              "    <tr>\n",
              "      <th>1</th>\n",
              "      <td>Orang-orang pulang nonton film ini langsung ga...</td>\n",
              "    </tr>\n",
              "    <tr>\n",
              "      <th>2</th>\n",
              "      <td>[22:14] #JAKARTA #KECELAKAAN Rawamangun #TMC</td>\n",
              "    </tr>\n",
              "    <tr>\n",
              "      <th>3</th>\n",
              "      <td>[83:1] Kecelakaan besarlah bagi orang-orang ya...</td>\n",
              "    </tr>\n",
              "    <tr>\n",
              "      <th>4</th>\n",
              "      <td>Anggapannya kayak mobil vs motor kecelakaan, y...</td>\n",
              "    </tr>\n",
              "    <tr>\n",
              "      <th>5</th>\n",
              "      <td>#TrukTangki\\n\\n#Kecelakaan\\n#Evakuasi\\n#NaganR...</td>\n",
              "    </tr>\n",
              "    <tr>\n",
              "      <th>6</th>\n",
              "      <td>Aq benci laki2 :'( \\nAku benci hidup ini\\nKnp ...</td>\n",
              "    </tr>\n",
              "    <tr>\n",
              "      <th>7</th>\n",
              "      <td>Gunakan jalur sesuai ketentuan, jangan melawan...</td>\n",
              "    </tr>\n",
              "    <tr>\n",
              "      <th>8</th>\n",
              "      <td>[00:04] #JAKARTA #KECELAKAAN Jl. Raya Kembanga...</td>\n",
              "    </tr>\n",
              "    <tr>\n",
              "      <th>9</th>\n",
              "      <td>korban penipuan gak sakit, korban kecelakaan j...</td>\n",
              "    </tr>\n",
              "  </tbody>\n",
              "</table>\n",
              "</div><br><label><b>dtype:</b> object</label>"
            ]
          },
          "metadata": {},
          "execution_count": 12
        }
      ]
    }
  ]
}