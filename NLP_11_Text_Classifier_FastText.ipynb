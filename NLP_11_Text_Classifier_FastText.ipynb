{
  "nbformat": 4,
  "nbformat_minor": 0,
  "metadata": {
    "colab": {
      "provenance": []
    },
    "kernelspec": {
      "name": "python3",
      "display_name": "Python 3"
    },
    "language_info": {
      "name": "python"
    }
  },
  "cells": [
    {
      "cell_type": "markdown",
      "source": [
        "# 1. Introduction\n",
        "**FastText** is an open-source, text classification library created by **Facebook's AI Research (FAIR)** team. It provides an efficient and fast way to classify text data.\n",
        "\n",
        "A *FastText News Classifier* is a machine learning model that leverages **FastText** to classify news articles into different categories (such as sports, politics, entertainment, etc.)."
      ],
      "metadata": {
        "id": "xcv4d8EF4mpp"
      }
    },
    {
      "cell_type": "markdown",
      "source": [
        "**Thanks to:**\n",
        "* [E-commerce Text Classification Using FastText](https://www.kaggle.com/code/sunilthite/e-commerce-text-classification-using-fasttext/input)\n",
        "* [Loading Kaggle data directly into Google Colab](https://www.youtube.com/watch?v=yEXkEUqK52Q)\n",
        "* [Importing Datasets from Kaggle to Google Colab](https://saturncloud.io/blog/importing-datasets-from-kaggle-to-google-colab/)\n",
        "* [kaggle dataset download 403 Forbidden](https://stackoverflow.com/questions/75569191/kaggle-dataset-download-403-forbidden)\n",
        "* [Traffic Accident in Indonesia](https://www.kaggle.com/datasets/dodyagung/accident)\n",
        "* [Jigsaw Regression Based Data](https://www.kaggle.com/datasets/nkitgupta/jigsaw-regression-based-data)"
      ],
      "metadata": {
        "id": "aYMEmNUa44PX"
      }
    },
    {
      "cell_type": "markdown",
      "source": [
        "# 2. Import libraries"
      ],
      "metadata": {
        "id": "d-kd3EcE65rN"
      }
    },
    {
      "cell_type": "code",
      "source": [
        "!pip install fasttext"
      ],
      "metadata": {
        "colab": {
          "base_uri": "https://localhost:8080/"
        },
        "id": "p67DJVf57oSW",
        "outputId": "9e4eb40c-a5d7-49a2-e0b3-6a04b9c7104a"
      },
      "execution_count": 1,
      "outputs": [
        {
          "output_type": "stream",
          "name": "stdout",
          "text": [
            "Collecting fasttext\n",
            "  Downloading fasttext-0.9.3.tar.gz (73 kB)\n",
            "\u001b[?25l     \u001b[90m━━━━━━━━━━━━━━━━━━━━━━━━━━━━━━━━━━━━━━━━\u001b[0m \u001b[32m0.0/73.4 kB\u001b[0m \u001b[31m?\u001b[0m eta \u001b[36m-:--:--\u001b[0m\r\u001b[2K     \u001b[90m━━━━━━━━━━━━━━━━━━━━━━━━━━━━━━━━━━━━━━━━\u001b[0m \u001b[32m73.4/73.4 kB\u001b[0m \u001b[31m2.7 MB/s\u001b[0m eta \u001b[36m0:00:00\u001b[0m\n",
            "\u001b[?25h  Installing build dependencies ... \u001b[?25l\u001b[?25hdone\n",
            "  Getting requirements to build wheel ... \u001b[?25l\u001b[?25hdone\n",
            "  Preparing metadata (pyproject.toml) ... \u001b[?25l\u001b[?25hdone\n",
            "Collecting pybind11>=2.2 (from fasttext)\n",
            "  Using cached pybind11-2.13.6-py3-none-any.whl.metadata (9.5 kB)\n",
            "Requirement already satisfied: setuptools>=0.7.0 in /usr/local/lib/python3.10/dist-packages (from fasttext) (71.0.4)\n",
            "Requirement already satisfied: numpy in /usr/local/lib/python3.10/dist-packages (from fasttext) (1.26.4)\n",
            "Using cached pybind11-2.13.6-py3-none-any.whl (243 kB)\n",
            "Building wheels for collected packages: fasttext\n",
            "  Building wheel for fasttext (pyproject.toml) ... \u001b[?25l\u001b[?25hdone\n",
            "  Created wheel for fasttext: filename=fasttext-0.9.3-cp310-cp310-linux_x86_64.whl size=4296187 sha256=8fc6f54fb34ee7dea6f2068d94761cb2c7b216639aa4a729c141da5eb4315565\n",
            "  Stored in directory: /root/.cache/pip/wheels/0d/a2/00/81db54d3e6a8199b829d58e02cec2ddb20ce3e59fad8d3c92a\n",
            "Successfully built fasttext\n",
            "Installing collected packages: pybind11, fasttext\n",
            "Successfully installed fasttext-0.9.3 pybind11-2.13.6\n"
          ]
        }
      ]
    },
    {
      "cell_type": "code",
      "execution_count": 27,
      "metadata": {
        "id": "yyR0E76w4Pz3"
      },
      "outputs": [],
      "source": [
        "# FastText library for text classification and training the FastText model.\n",
        "import fasttext\n",
        "\n",
        "# pandas library for data manipulation.\n",
        "import pandas as pd\n",
        "\n",
        "# import regular expression\n",
        "import re\n",
        "\n",
        "from gensim.models import FastText\n",
        "\n",
        "from sklearn.feature_extraction.text import TfidfVectorizer\n",
        "\n",
        "import numpy as np\n",
        "\n",
        "from sklearn.preprocessing import LabelEncoder\n",
        "\n",
        "from sklearn.model_selection import train_test_split, KFold"
      ]
    },
    {
      "cell_type": "markdown",
      "source": [
        "# 3. Load the dataset\n",
        "Loads the dataset from a CSV file into a DataFrame for easy manipulation"
      ],
      "metadata": {
        "id": "23SRUzEh8XBR"
      }
    },
    {
      "cell_type": "code",
      "source": [
        "# Kaggle library to download datasets from Kaggle\n",
        "!pip install kaggle"
      ],
      "metadata": {
        "colab": {
          "base_uri": "https://localhost:8080/"
        },
        "id": "jrPBlTNi9BxA",
        "outputId": "95a2b22f-385e-4d2a-fa3c-64417b0a7b3e"
      },
      "execution_count": 3,
      "outputs": [
        {
          "output_type": "stream",
          "name": "stdout",
          "text": [
            "Requirement already satisfied: kaggle in /usr/local/lib/python3.10/dist-packages (1.6.17)\n",
            "Requirement already satisfied: six>=1.10 in /usr/local/lib/python3.10/dist-packages (from kaggle) (1.16.0)\n",
            "Requirement already satisfied: certifi>=2023.7.22 in /usr/local/lib/python3.10/dist-packages (from kaggle) (2024.8.30)\n",
            "Requirement already satisfied: python-dateutil in /usr/local/lib/python3.10/dist-packages (from kaggle) (2.8.2)\n",
            "Requirement already satisfied: requests in /usr/local/lib/python3.10/dist-packages (from kaggle) (2.32.3)\n",
            "Requirement already satisfied: tqdm in /usr/local/lib/python3.10/dist-packages (from kaggle) (4.66.5)\n",
            "Requirement already satisfied: python-slugify in /usr/local/lib/python3.10/dist-packages (from kaggle) (8.0.4)\n",
            "Requirement already satisfied: urllib3 in /usr/local/lib/python3.10/dist-packages (from kaggle) (2.2.3)\n",
            "Requirement already satisfied: bleach in /usr/local/lib/python3.10/dist-packages (from kaggle) (6.1.0)\n",
            "Requirement already satisfied: webencodings in /usr/local/lib/python3.10/dist-packages (from bleach->kaggle) (0.5.1)\n",
            "Requirement already satisfied: text-unidecode>=1.3 in /usr/local/lib/python3.10/dist-packages (from python-slugify->kaggle) (1.3)\n",
            "Requirement already satisfied: charset-normalizer<4,>=2 in /usr/local/lib/python3.10/dist-packages (from requests->kaggle) (3.3.2)\n",
            "Requirement already satisfied: idna<4,>=2.5 in /usr/local/lib/python3.10/dist-packages (from requests->kaggle) (3.10)\n"
          ]
        }
      ]
    },
    {
      "cell_type": "code",
      "source": [
        "# Mount Google Drive: Import the Drive to access and store the Kaggle API key in Google Colab\n",
        "from google.colab import drive\n",
        "drive.mount('/content/drive')"
      ],
      "metadata": {
        "colab": {
          "base_uri": "https://localhost:8080/"
        },
        "id": "rElP9GNt5NIZ",
        "outputId": "acd0cd8e-653a-4044-d856-1a0ac8640bb8"
      },
      "execution_count": 5,
      "outputs": [
        {
          "output_type": "stream",
          "name": "stdout",
          "text": [
            "Mounted at /content/drive\n"
          ]
        }
      ]
    },
    {
      "cell_type": "code",
      "source": [
        "# Set Kaggle Configuration: To direct Kaggle to the appropriate directory in Drive\n",
        "import os\n",
        "os.environ['KAGGLE_CONFIG_DIR'] = '/content/drive/MyDrive/kaggle'"
      ],
      "metadata": {
        "id": "MO_Pd22F9HbV"
      },
      "execution_count": 7,
      "outputs": []
    },
    {
      "cell_type": "code",
      "source": [
        "# copy the Kaggle api key to the google drive\n",
        "!mkdir ~/.kaggle\n",
        "!cp /content/drive/MyDrive/kaggle/kaggle.json ~/.kaggle/kaggle.json"
      ],
      "metadata": {
        "id": "kZJcGAhb9QM9"
      },
      "execution_count": 8,
      "outputs": []
    },
    {
      "cell_type": "code",
      "source": [
        "# give the permission to the JSON file\n",
        "!chmod 600 ~/.kaggle/kaggle.json"
      ],
      "metadata": {
        "id": "UnwE2YOg9VQ6"
      },
      "execution_count": 9,
      "outputs": []
    },
    {
      "cell_type": "code",
      "source": [
        "# download the dataset from Kaggle using the Kaggle API.\n",
        "\n",
        "# !kaggle datasets download -d nkitgupta/jigsaw-regression-based-data\n",
        "# !unzip /content/jigsaw-regression-based-data.zip\n",
        "# !rm /content/jigsaw-regression-based-data.zip\n",
        "\n",
        "!kaggle datasets download -d dodyagung/accident\n",
        "!unzip /content/accident.zip\n",
        "!rm /content/accident.zip"
      ],
      "metadata": {
        "colab": {
          "base_uri": "https://localhost:8080/"
        },
        "id": "nIOzoHN1zolr",
        "outputId": "2760b06c-50e1-480a-d01f-7655c44dc5a8"
      },
      "execution_count": 10,
      "outputs": [
        {
          "output_type": "stream",
          "name": "stdout",
          "text": [
            "Dataset URL: https://www.kaggle.com/datasets/dodyagung/accident\n",
            "License(s): CC-BY-NC-SA-4.0\n",
            "Downloading accident.zip to /content\n",
            "100% 313M/313M [00:03<00:00, 120MB/s]\n",
            "100% 313M/313M [00:03<00:00, 106MB/s]\n",
            "Archive:  /content/accident.zip\n",
            "  inflating: twitter.csv             \n",
            "  inflating: twitter_label_auto.csv  \n",
            "  inflating: twitter_label_manual.csv  \n"
          ]
        }
      ]
    },
    {
      "cell_type": "markdown",
      "source": [
        "## 3.1 Explore the dataset"
      ],
      "metadata": {
        "id": "m2xfu2AeIKaP"
      }
    },
    {
      "cell_type": "code",
      "source": [
        "df = pd.read_csv('/content/twitter.csv')\n",
        "df.head()"
      ],
      "metadata": {
        "colab": {
          "base_uri": "https://localhost:8080/",
          "height": 293
        },
        "id": "Q4rq5na20eWj",
        "outputId": "4a807054-f7e4-4663-fdb6-9f3fcb071c0b"
      },
      "execution_count": 11,
      "outputs": [
        {
          "output_type": "execute_result",
          "data": {
            "text/plain": [
              "                id_str           created_at           crawled_at  \\\n",
              "0  1113812743138697216  2019-04-04 21:37:06  2020-02-08 12:30:13   \n",
              "1  1113813804708548608  2019-04-04 21:41:19  2020-02-08 12:30:13   \n",
              "2  1113823718956908545  2019-04-04 22:20:43  2020-02-08 12:30:13   \n",
              "3  1113846220986900480  2019-04-04 23:50:08  2020-02-08 12:30:14   \n",
              "4  1113847850801090560  2019-04-04 23:56:36  2020-02-08 12:30:14   \n",
              "\n",
              "     screen_name                                          full_text  \\\n",
              "0   vtvindonesia  Pelajar SMP Tewas Kecelakaan di Jalinsum Banda...   \n",
              "1  briand_fergie  Orang-orang pulang nonton film ini langsung ga...   \n",
              "2  dimanamacetid       [22:14] #JAKARTA #KECELAKAAN Rawamangun #TMC   \n",
              "3    imaamhanavi  [83:1] Kecelakaan besarlah bagi orang-orang ya...   \n",
              "4       mdntkptr  Anggapannya kayak mobil vs motor kecelakaan, y...   \n",
              "\n",
              "                                          full_tweet  \n",
              "0  {\"created_at\": \"Thu Apr 04 14:37:06 +0000 2019...  \n",
              "1  {\"created_at\": \"Thu Apr 04 14:41:19 +0000 2019...  \n",
              "2  {\"created_at\": \"Thu Apr 04 15:20:43 +0000 2019...  \n",
              "3  {\"created_at\": \"Thu Apr 04 16:50:08 +0000 2019...  \n",
              "4  {\"created_at\": \"Thu Apr 04 16:56:36 +0000 2019...  "
            ],
            "text/html": [
              "\n",
              "  <div id=\"df-ded9c49e-be07-4af3-9c8b-8a14aeb2e415\" class=\"colab-df-container\">\n",
              "    <div>\n",
              "<style scoped>\n",
              "    .dataframe tbody tr th:only-of-type {\n",
              "        vertical-align: middle;\n",
              "    }\n",
              "\n",
              "    .dataframe tbody tr th {\n",
              "        vertical-align: top;\n",
              "    }\n",
              "\n",
              "    .dataframe thead th {\n",
              "        text-align: right;\n",
              "    }\n",
              "</style>\n",
              "<table border=\"1\" class=\"dataframe\">\n",
              "  <thead>\n",
              "    <tr style=\"text-align: right;\">\n",
              "      <th></th>\n",
              "      <th>id_str</th>\n",
              "      <th>created_at</th>\n",
              "      <th>crawled_at</th>\n",
              "      <th>screen_name</th>\n",
              "      <th>full_text</th>\n",
              "      <th>full_tweet</th>\n",
              "    </tr>\n",
              "  </thead>\n",
              "  <tbody>\n",
              "    <tr>\n",
              "      <th>0</th>\n",
              "      <td>1113812743138697216</td>\n",
              "      <td>2019-04-04 21:37:06</td>\n",
              "      <td>2020-02-08 12:30:13</td>\n",
              "      <td>vtvindonesia</td>\n",
              "      <td>Pelajar SMP Tewas Kecelakaan di Jalinsum Banda...</td>\n",
              "      <td>{\"created_at\": \"Thu Apr 04 14:37:06 +0000 2019...</td>\n",
              "    </tr>\n",
              "    <tr>\n",
              "      <th>1</th>\n",
              "      <td>1113813804708548608</td>\n",
              "      <td>2019-04-04 21:41:19</td>\n",
              "      <td>2020-02-08 12:30:13</td>\n",
              "      <td>briand_fergie</td>\n",
              "      <td>Orang-orang pulang nonton film ini langsung ga...</td>\n",
              "      <td>{\"created_at\": \"Thu Apr 04 14:41:19 +0000 2019...</td>\n",
              "    </tr>\n",
              "    <tr>\n",
              "      <th>2</th>\n",
              "      <td>1113823718956908545</td>\n",
              "      <td>2019-04-04 22:20:43</td>\n",
              "      <td>2020-02-08 12:30:13</td>\n",
              "      <td>dimanamacetid</td>\n",
              "      <td>[22:14] #JAKARTA #KECELAKAAN Rawamangun #TMC</td>\n",
              "      <td>{\"created_at\": \"Thu Apr 04 15:20:43 +0000 2019...</td>\n",
              "    </tr>\n",
              "    <tr>\n",
              "      <th>3</th>\n",
              "      <td>1113846220986900480</td>\n",
              "      <td>2019-04-04 23:50:08</td>\n",
              "      <td>2020-02-08 12:30:14</td>\n",
              "      <td>imaamhanavi</td>\n",
              "      <td>[83:1] Kecelakaan besarlah bagi orang-orang ya...</td>\n",
              "      <td>{\"created_at\": \"Thu Apr 04 16:50:08 +0000 2019...</td>\n",
              "    </tr>\n",
              "    <tr>\n",
              "      <th>4</th>\n",
              "      <td>1113847850801090560</td>\n",
              "      <td>2019-04-04 23:56:36</td>\n",
              "      <td>2020-02-08 12:30:14</td>\n",
              "      <td>mdntkptr</td>\n",
              "      <td>Anggapannya kayak mobil vs motor kecelakaan, y...</td>\n",
              "      <td>{\"created_at\": \"Thu Apr 04 16:56:36 +0000 2019...</td>\n",
              "    </tr>\n",
              "  </tbody>\n",
              "</table>\n",
              "</div>\n",
              "    <div class=\"colab-df-buttons\">\n",
              "\n",
              "  <div class=\"colab-df-container\">\n",
              "    <button class=\"colab-df-convert\" onclick=\"convertToInteractive('df-ded9c49e-be07-4af3-9c8b-8a14aeb2e415')\"\n",
              "            title=\"Convert this dataframe to an interactive table.\"\n",
              "            style=\"display:none;\">\n",
              "\n",
              "  <svg xmlns=\"http://www.w3.org/2000/svg\" height=\"24px\" viewBox=\"0 -960 960 960\">\n",
              "    <path d=\"M120-120v-720h720v720H120Zm60-500h600v-160H180v160Zm220 220h160v-160H400v160Zm0 220h160v-160H400v160ZM180-400h160v-160H180v160Zm440 0h160v-160H620v160ZM180-180h160v-160H180v160Zm440 0h160v-160H620v160Z\"/>\n",
              "  </svg>\n",
              "    </button>\n",
              "\n",
              "  <style>\n",
              "    .colab-df-container {\n",
              "      display:flex;\n",
              "      gap: 12px;\n",
              "    }\n",
              "\n",
              "    .colab-df-convert {\n",
              "      background-color: #E8F0FE;\n",
              "      border: none;\n",
              "      border-radius: 50%;\n",
              "      cursor: pointer;\n",
              "      display: none;\n",
              "      fill: #1967D2;\n",
              "      height: 32px;\n",
              "      padding: 0 0 0 0;\n",
              "      width: 32px;\n",
              "    }\n",
              "\n",
              "    .colab-df-convert:hover {\n",
              "      background-color: #E2EBFA;\n",
              "      box-shadow: 0px 1px 2px rgba(60, 64, 67, 0.3), 0px 1px 3px 1px rgba(60, 64, 67, 0.15);\n",
              "      fill: #174EA6;\n",
              "    }\n",
              "\n",
              "    .colab-df-buttons div {\n",
              "      margin-bottom: 4px;\n",
              "    }\n",
              "\n",
              "    [theme=dark] .colab-df-convert {\n",
              "      background-color: #3B4455;\n",
              "      fill: #D2E3FC;\n",
              "    }\n",
              "\n",
              "    [theme=dark] .colab-df-convert:hover {\n",
              "      background-color: #434B5C;\n",
              "      box-shadow: 0px 1px 3px 1px rgba(0, 0, 0, 0.15);\n",
              "      filter: drop-shadow(0px 1px 2px rgba(0, 0, 0, 0.3));\n",
              "      fill: #FFFFFF;\n",
              "    }\n",
              "  </style>\n",
              "\n",
              "    <script>\n",
              "      const buttonEl =\n",
              "        document.querySelector('#df-ded9c49e-be07-4af3-9c8b-8a14aeb2e415 button.colab-df-convert');\n",
              "      buttonEl.style.display =\n",
              "        google.colab.kernel.accessAllowed ? 'block' : 'none';\n",
              "\n",
              "      async function convertToInteractive(key) {\n",
              "        const element = document.querySelector('#df-ded9c49e-be07-4af3-9c8b-8a14aeb2e415');\n",
              "        const dataTable =\n",
              "          await google.colab.kernel.invokeFunction('convertToInteractive',\n",
              "                                                    [key], {});\n",
              "        if (!dataTable) return;\n",
              "\n",
              "        const docLinkHtml = 'Like what you see? Visit the ' +\n",
              "          '<a target=\"_blank\" href=https://colab.research.google.com/notebooks/data_table.ipynb>data table notebook</a>'\n",
              "          + ' to learn more about interactive tables.';\n",
              "        element.innerHTML = '';\n",
              "        dataTable['output_type'] = 'display_data';\n",
              "        await google.colab.output.renderOutput(dataTable, element);\n",
              "        const docLink = document.createElement('div');\n",
              "        docLink.innerHTML = docLinkHtml;\n",
              "        element.appendChild(docLink);\n",
              "      }\n",
              "    </script>\n",
              "  </div>\n",
              "\n",
              "\n",
              "<div id=\"df-4a210e67-e1f2-4ae2-99d6-7a65ed1667e9\">\n",
              "  <button class=\"colab-df-quickchart\" onclick=\"quickchart('df-4a210e67-e1f2-4ae2-99d6-7a65ed1667e9')\"\n",
              "            title=\"Suggest charts\"\n",
              "            style=\"display:none;\">\n",
              "\n",
              "<svg xmlns=\"http://www.w3.org/2000/svg\" height=\"24px\"viewBox=\"0 0 24 24\"\n",
              "     width=\"24px\">\n",
              "    <g>\n",
              "        <path d=\"M19 3H5c-1.1 0-2 .9-2 2v14c0 1.1.9 2 2 2h14c1.1 0 2-.9 2-2V5c0-1.1-.9-2-2-2zM9 17H7v-7h2v7zm4 0h-2V7h2v10zm4 0h-2v-4h2v4z\"/>\n",
              "    </g>\n",
              "</svg>\n",
              "  </button>\n",
              "\n",
              "<style>\n",
              "  .colab-df-quickchart {\n",
              "      --bg-color: #E8F0FE;\n",
              "      --fill-color: #1967D2;\n",
              "      --hover-bg-color: #E2EBFA;\n",
              "      --hover-fill-color: #174EA6;\n",
              "      --disabled-fill-color: #AAA;\n",
              "      --disabled-bg-color: #DDD;\n",
              "  }\n",
              "\n",
              "  [theme=dark] .colab-df-quickchart {\n",
              "      --bg-color: #3B4455;\n",
              "      --fill-color: #D2E3FC;\n",
              "      --hover-bg-color: #434B5C;\n",
              "      --hover-fill-color: #FFFFFF;\n",
              "      --disabled-bg-color: #3B4455;\n",
              "      --disabled-fill-color: #666;\n",
              "  }\n",
              "\n",
              "  .colab-df-quickchart {\n",
              "    background-color: var(--bg-color);\n",
              "    border: none;\n",
              "    border-radius: 50%;\n",
              "    cursor: pointer;\n",
              "    display: none;\n",
              "    fill: var(--fill-color);\n",
              "    height: 32px;\n",
              "    padding: 0;\n",
              "    width: 32px;\n",
              "  }\n",
              "\n",
              "  .colab-df-quickchart:hover {\n",
              "    background-color: var(--hover-bg-color);\n",
              "    box-shadow: 0 1px 2px rgba(60, 64, 67, 0.3), 0 1px 3px 1px rgba(60, 64, 67, 0.15);\n",
              "    fill: var(--button-hover-fill-color);\n",
              "  }\n",
              "\n",
              "  .colab-df-quickchart-complete:disabled,\n",
              "  .colab-df-quickchart-complete:disabled:hover {\n",
              "    background-color: var(--disabled-bg-color);\n",
              "    fill: var(--disabled-fill-color);\n",
              "    box-shadow: none;\n",
              "  }\n",
              "\n",
              "  .colab-df-spinner {\n",
              "    border: 2px solid var(--fill-color);\n",
              "    border-color: transparent;\n",
              "    border-bottom-color: var(--fill-color);\n",
              "    animation:\n",
              "      spin 1s steps(1) infinite;\n",
              "  }\n",
              "\n",
              "  @keyframes spin {\n",
              "    0% {\n",
              "      border-color: transparent;\n",
              "      border-bottom-color: var(--fill-color);\n",
              "      border-left-color: var(--fill-color);\n",
              "    }\n",
              "    20% {\n",
              "      border-color: transparent;\n",
              "      border-left-color: var(--fill-color);\n",
              "      border-top-color: var(--fill-color);\n",
              "    }\n",
              "    30% {\n",
              "      border-color: transparent;\n",
              "      border-left-color: var(--fill-color);\n",
              "      border-top-color: var(--fill-color);\n",
              "      border-right-color: var(--fill-color);\n",
              "    }\n",
              "    40% {\n",
              "      border-color: transparent;\n",
              "      border-right-color: var(--fill-color);\n",
              "      border-top-color: var(--fill-color);\n",
              "    }\n",
              "    60% {\n",
              "      border-color: transparent;\n",
              "      border-right-color: var(--fill-color);\n",
              "    }\n",
              "    80% {\n",
              "      border-color: transparent;\n",
              "      border-right-color: var(--fill-color);\n",
              "      border-bottom-color: var(--fill-color);\n",
              "    }\n",
              "    90% {\n",
              "      border-color: transparent;\n",
              "      border-bottom-color: var(--fill-color);\n",
              "    }\n",
              "  }\n",
              "</style>\n",
              "\n",
              "  <script>\n",
              "    async function quickchart(key) {\n",
              "      const quickchartButtonEl =\n",
              "        document.querySelector('#' + key + ' button');\n",
              "      quickchartButtonEl.disabled = true;  // To prevent multiple clicks.\n",
              "      quickchartButtonEl.classList.add('colab-df-spinner');\n",
              "      try {\n",
              "        const charts = await google.colab.kernel.invokeFunction(\n",
              "            'suggestCharts', [key], {});\n",
              "      } catch (error) {\n",
              "        console.error('Error during call to suggestCharts:', error);\n",
              "      }\n",
              "      quickchartButtonEl.classList.remove('colab-df-spinner');\n",
              "      quickchartButtonEl.classList.add('colab-df-quickchart-complete');\n",
              "    }\n",
              "    (() => {\n",
              "      let quickchartButtonEl =\n",
              "        document.querySelector('#df-4a210e67-e1f2-4ae2-99d6-7a65ed1667e9 button');\n",
              "      quickchartButtonEl.style.display =\n",
              "        google.colab.kernel.accessAllowed ? 'block' : 'none';\n",
              "    })();\n",
              "  </script>\n",
              "</div>\n",
              "\n",
              "    </div>\n",
              "  </div>\n"
            ],
            "application/vnd.google.colaboratory.intrinsic+json": {
              "type": "dataframe",
              "variable_name": "df"
            }
          },
          "metadata": {},
          "execution_count": 11
        }
      ]
    },
    {
      "cell_type": "code",
      "source": [
        "df.info()"
      ],
      "metadata": {
        "colab": {
          "base_uri": "https://localhost:8080/"
        },
        "id": "3ZJHvE14NOkL",
        "outputId": "979b584c-8d68-4182-c1e4-b614dad3351b"
      },
      "execution_count": 12,
      "outputs": [
        {
          "output_type": "stream",
          "name": "stdout",
          "text": [
            "<class 'pandas.core.frame.DataFrame'>\n",
            "RangeIndex: 157629 entries, 0 to 157628\n",
            "Data columns (total 6 columns):\n",
            " #   Column       Non-Null Count   Dtype \n",
            "---  ------       --------------   ----- \n",
            " 0   id_str       157629 non-null  int64 \n",
            " 1   created_at   157629 non-null  object\n",
            " 2   crawled_at   157629 non-null  object\n",
            " 3   screen_name  157629 non-null  object\n",
            " 4   full_text    157629 non-null  object\n",
            " 5   full_tweet   157629 non-null  object\n",
            "dtypes: int64(1), object(5)\n",
            "memory usage: 7.2+ MB\n"
          ]
        }
      ]
    },
    {
      "cell_type": "markdown",
      "source": [
        "# 4. Preprocess the dataset"
      ],
      "metadata": {
        "id": "udgDbf11Mubn"
      }
    },
    {
      "cell_type": "code",
      "source": [
        "X = df['full_text']\n",
        "X.head()"
      ],
      "metadata": {
        "colab": {
          "base_uri": "https://localhost:8080/",
          "height": 241
        },
        "id": "yOF4upwtM8vP",
        "outputId": "69f2ad35-0357-40d2-b30d-92b1274e4ddb"
      },
      "execution_count": 13,
      "outputs": [
        {
          "output_type": "execute_result",
          "data": {
            "text/plain": [
              "0    Pelajar SMP Tewas Kecelakaan di Jalinsum Banda...\n",
              "1    Orang-orang pulang nonton film ini langsung ga...\n",
              "2         [22:14] #JAKARTA #KECELAKAAN Rawamangun #TMC\n",
              "3    [83:1] Kecelakaan besarlah bagi orang-orang ya...\n",
              "4    Anggapannya kayak mobil vs motor kecelakaan, y...\n",
              "Name: full_text, dtype: object"
            ],
            "text/html": [
              "<div>\n",
              "<style scoped>\n",
              "    .dataframe tbody tr th:only-of-type {\n",
              "        vertical-align: middle;\n",
              "    }\n",
              "\n",
              "    .dataframe tbody tr th {\n",
              "        vertical-align: top;\n",
              "    }\n",
              "\n",
              "    .dataframe thead th {\n",
              "        text-align: right;\n",
              "    }\n",
              "</style>\n",
              "<table border=\"1\" class=\"dataframe\">\n",
              "  <thead>\n",
              "    <tr style=\"text-align: right;\">\n",
              "      <th></th>\n",
              "      <th>full_text</th>\n",
              "    </tr>\n",
              "  </thead>\n",
              "  <tbody>\n",
              "    <tr>\n",
              "      <th>0</th>\n",
              "      <td>Pelajar SMP Tewas Kecelakaan di Jalinsum Banda...</td>\n",
              "    </tr>\n",
              "    <tr>\n",
              "      <th>1</th>\n",
              "      <td>Orang-orang pulang nonton film ini langsung ga...</td>\n",
              "    </tr>\n",
              "    <tr>\n",
              "      <th>2</th>\n",
              "      <td>[22:14] #JAKARTA #KECELAKAAN Rawamangun #TMC</td>\n",
              "    </tr>\n",
              "    <tr>\n",
              "      <th>3</th>\n",
              "      <td>[83:1] Kecelakaan besarlah bagi orang-orang ya...</td>\n",
              "    </tr>\n",
              "    <tr>\n",
              "      <th>4</th>\n",
              "      <td>Anggapannya kayak mobil vs motor kecelakaan, y...</td>\n",
              "    </tr>\n",
              "  </tbody>\n",
              "</table>\n",
              "</div><br><label><b>dtype:</b> object</label>"
            ]
          },
          "metadata": {},
          "execution_count": 13
        }
      ]
    },
    {
      "cell_type": "markdown",
      "source": [
        "## 4.1 removing special characters, lowercasing, tokenization, stopword removal, etc\n",
        "[re — Regular expression operations](https://docs.python.org/3/library/re.html)"
      ],
      "metadata": {
        "id": "iFWQ6URjOzbt"
      }
    },
    {
      "cell_type": "code",
      "source": [
        "# Preprocessing function to clean the text\n",
        "def preprocess_text(text):\n",
        "\n",
        "  # Remove special characters and numbers\n",
        "  # re.A (ASCII-only matching)\n",
        "  # re.I (ignore case)\n",
        "  text = re.sub(r'[^a-zA-Z\\s]', '', text, re.I | re.A)\n",
        "\n",
        "  # Convert to lowercase\n",
        "  text = text.lower()\n",
        "\n",
        "  # Remove extra spaces\n",
        "  text = text.strip()\n",
        "  return text"
      ],
      "metadata": {
        "id": "us266jFrI6zv"
      },
      "execution_count": 14,
      "outputs": []
    },
    {
      "cell_type": "code",
      "source": [
        "# Apply preprocessing to the 'full_text' column\n",
        "df['cleaned_text'] = df['full_text'].apply(preprocess_text)"
      ],
      "metadata": {
        "id": "bZlBelfRJHcf"
      },
      "execution_count": 15,
      "outputs": []
    },
    {
      "cell_type": "code",
      "source": [
        "# Check cleaned text\n",
        "df['cleaned_text'].head()"
      ],
      "metadata": {
        "colab": {
          "base_uri": "https://localhost:8080/",
          "height": 241
        },
        "id": "QoYsTjS2MO4L",
        "outputId": "ffbc4548-9394-487c-b99a-751b4f2c73b6"
      },
      "execution_count": 16,
      "outputs": [
        {
          "output_type": "execute_result",
          "data": {
            "text/plain": [
              "0    pelajar smp tewas kecelakaan di jalinsum banda...\n",
              "1    orangorang pulang nonton film ini langsung gal...\n",
              "2                    jakarta kecelakaan rawamangun tmc\n",
              "3      kecelakaan besarlah bagi orangorang yang curang\n",
              "4    anggapannya kayak mobil vs motor kecelakaan yg...\n",
              "Name: cleaned_text, dtype: object"
            ],
            "text/html": [
              "<div>\n",
              "<style scoped>\n",
              "    .dataframe tbody tr th:only-of-type {\n",
              "        vertical-align: middle;\n",
              "    }\n",
              "\n",
              "    .dataframe tbody tr th {\n",
              "        vertical-align: top;\n",
              "    }\n",
              "\n",
              "    .dataframe thead th {\n",
              "        text-align: right;\n",
              "    }\n",
              "</style>\n",
              "<table border=\"1\" class=\"dataframe\">\n",
              "  <thead>\n",
              "    <tr style=\"text-align: right;\">\n",
              "      <th></th>\n",
              "      <th>cleaned_text</th>\n",
              "    </tr>\n",
              "  </thead>\n",
              "  <tbody>\n",
              "    <tr>\n",
              "      <th>0</th>\n",
              "      <td>pelajar smp tewas kecelakaan di jalinsum banda...</td>\n",
              "    </tr>\n",
              "    <tr>\n",
              "      <th>1</th>\n",
              "      <td>orangorang pulang nonton film ini langsung gal...</td>\n",
              "    </tr>\n",
              "    <tr>\n",
              "      <th>2</th>\n",
              "      <td>jakarta kecelakaan rawamangun tmc</td>\n",
              "    </tr>\n",
              "    <tr>\n",
              "      <th>3</th>\n",
              "      <td>kecelakaan besarlah bagi orangorang yang curang</td>\n",
              "    </tr>\n",
              "    <tr>\n",
              "      <th>4</th>\n",
              "      <td>anggapannya kayak mobil vs motor kecelakaan yg...</td>\n",
              "    </tr>\n",
              "  </tbody>\n",
              "</table>\n",
              "</div><br><label><b>dtype:</b> object</label>"
            ]
          },
          "metadata": {},
          "execution_count": 16
        }
      ]
    },
    {
      "cell_type": "markdown",
      "source": [
        "# 5. Perform word embedding using **\"FastText\"**\n"
      ],
      "metadata": {
        "id": "R-fo5LVWRhb6"
      }
    },
    {
      "cell_type": "code",
      "source": [
        "# Tokenize the cleaned text for FastText model training\n",
        "df['tokenized_text'] = df['cleaned_text'].apply(lambda x: x.split())\n",
        "df['tokenized_text'].head()"
      ],
      "metadata": {
        "colab": {
          "base_uri": "https://localhost:8080/",
          "height": 241
        },
        "id": "cVNifDCERgwd",
        "outputId": "182c76ec-55a0-4d80-ffb3-148fce39f3ac"
      },
      "execution_count": 17,
      "outputs": [
        {
          "output_type": "execute_result",
          "data": {
            "text/plain": [
              "0    [pelajar, smp, tewas, kecelakaan, di, jalinsum...\n",
              "1    [orangorang, pulang, nonton, film, ini, langsu...\n",
              "2               [jakarta, kecelakaan, rawamangun, tmc]\n",
              "3    [kecelakaan, besarlah, bagi, orangorang, yang,...\n",
              "4    [anggapannya, kayak, mobil, vs, motor, kecelak...\n",
              "Name: tokenized_text, dtype: object"
            ],
            "text/html": [
              "<div>\n",
              "<style scoped>\n",
              "    .dataframe tbody tr th:only-of-type {\n",
              "        vertical-align: middle;\n",
              "    }\n",
              "\n",
              "    .dataframe tbody tr th {\n",
              "        vertical-align: top;\n",
              "    }\n",
              "\n",
              "    .dataframe thead th {\n",
              "        text-align: right;\n",
              "    }\n",
              "</style>\n",
              "<table border=\"1\" class=\"dataframe\">\n",
              "  <thead>\n",
              "    <tr style=\"text-align: right;\">\n",
              "      <th></th>\n",
              "      <th>tokenized_text</th>\n",
              "    </tr>\n",
              "  </thead>\n",
              "  <tbody>\n",
              "    <tr>\n",
              "      <th>0</th>\n",
              "      <td>[pelajar, smp, tewas, kecelakaan, di, jalinsum...</td>\n",
              "    </tr>\n",
              "    <tr>\n",
              "      <th>1</th>\n",
              "      <td>[orangorang, pulang, nonton, film, ini, langsu...</td>\n",
              "    </tr>\n",
              "    <tr>\n",
              "      <th>2</th>\n",
              "      <td>[jakarta, kecelakaan, rawamangun, tmc]</td>\n",
              "    </tr>\n",
              "    <tr>\n",
              "      <th>3</th>\n",
              "      <td>[kecelakaan, besarlah, bagi, orangorang, yang,...</td>\n",
              "    </tr>\n",
              "    <tr>\n",
              "      <th>4</th>\n",
              "      <td>[anggapannya, kayak, mobil, vs, motor, kecelak...</td>\n",
              "    </tr>\n",
              "  </tbody>\n",
              "</table>\n",
              "</div><br><label><b>dtype:</b> object</label>"
            ]
          },
          "metadata": {},
          "execution_count": 17
        }
      ]
    },
    {
      "cell_type": "markdown",
      "source": [
        "[models.fasttext – FastText model](https://radimrehurek.com/gensim/models/fasttext.html)"
      ],
      "metadata": {
        "id": "gxBiobrVWLFM"
      }
    },
    {
      "cell_type": "code",
      "source": [
        "# Train FastText model using the tokenized text\n",
        "fasttext_model = FastText(sentences=df['tokenized_text'], vector_size=1, window=1, min_count=1, sg=1, epochs=1)"
      ],
      "metadata": {
        "id": "8FngWHIAToNV"
      },
      "execution_count": 18,
      "outputs": []
    },
    {
      "cell_type": "code",
      "source": [
        "# Create a function to get average word vectors for each document\n",
        "def get_avg_word_vector(text, model):\n",
        "\n",
        "    # Filter out words not in the model's vocabulary\n",
        "    words = [word for word in text if word in model.wv]\n",
        "    if len(words) > 0:\n",
        "        return np.mean(model.wv[words], axis=0)\n",
        "    else:\n",
        "        return np.zeros(model.vector_size)"
      ],
      "metadata": {
        "id": "dryze-ldXA2C"
      },
      "execution_count": 19,
      "outputs": []
    },
    {
      "cell_type": "code",
      "source": [
        "# Apply the function to get average FastText embeddings for each document\n",
        "df['embedding'] = df['tokenized_text'].apply(lambda x: get_avg_word_vector(x, fasttext_model))"
      ],
      "metadata": {
        "id": "blAsdIYdXXF4"
      },
      "execution_count": 20,
      "outputs": []
    },
    {
      "cell_type": "code",
      "source": [
        "# Check embedding results\n",
        "df['embedding'].head()"
      ],
      "metadata": {
        "colab": {
          "base_uri": "https://localhost:8080/",
          "height": 241
        },
        "id": "tg8hi0kqXuiu",
        "outputId": "a6de09cf-4011-4f58-8f37-b2595ea7ce6b"
      },
      "execution_count": 21,
      "outputs": [
        {
          "output_type": "execute_result",
          "data": {
            "text/plain": [
              "0    [-5.5425873]\n",
              "1    [-5.5031557]\n",
              "2    [-5.5433254]\n",
              "3    [-6.2946925]\n",
              "4     [-5.593171]\n",
              "Name: embedding, dtype: object"
            ],
            "text/html": [
              "<div>\n",
              "<style scoped>\n",
              "    .dataframe tbody tr th:only-of-type {\n",
              "        vertical-align: middle;\n",
              "    }\n",
              "\n",
              "    .dataframe tbody tr th {\n",
              "        vertical-align: top;\n",
              "    }\n",
              "\n",
              "    .dataframe thead th {\n",
              "        text-align: right;\n",
              "    }\n",
              "</style>\n",
              "<table border=\"1\" class=\"dataframe\">\n",
              "  <thead>\n",
              "    <tr style=\"text-align: right;\">\n",
              "      <th></th>\n",
              "      <th>embedding</th>\n",
              "    </tr>\n",
              "  </thead>\n",
              "  <tbody>\n",
              "    <tr>\n",
              "      <th>0</th>\n",
              "      <td>[-5.5425873]</td>\n",
              "    </tr>\n",
              "    <tr>\n",
              "      <th>1</th>\n",
              "      <td>[-5.5031557]</td>\n",
              "    </tr>\n",
              "    <tr>\n",
              "      <th>2</th>\n",
              "      <td>[-5.5433254]</td>\n",
              "    </tr>\n",
              "    <tr>\n",
              "      <th>3</th>\n",
              "      <td>[-6.2946925]</td>\n",
              "    </tr>\n",
              "    <tr>\n",
              "      <th>4</th>\n",
              "      <td>[-5.593171]</td>\n",
              "    </tr>\n",
              "  </tbody>\n",
              "</table>\n",
              "</div><br><label><b>dtype:</b> object</label>"
            ]
          },
          "metadata": {},
          "execution_count": 21
        }
      ]
    },
    {
      "cell_type": "code",
      "source": [
        "# Prepare data for classification (dropping rows with empty embeddings)\n",
        "X = np.array(df['embedding'].tolist())\n",
        "y = np.random.randint(2, size=X.shape[0])  # Random binary labels for demo, replace with actual labels if available"
      ],
      "metadata": {
        "id": "7xgPAZJMi9HC"
      },
      "execution_count": 22,
      "outputs": []
    },
    {
      "cell_type": "code",
      "source": [
        "# Encode labels if necessary\n",
        "le = LabelEncoder()\n",
        "y = le.fit_transform(y)"
      ],
      "metadata": {
        "id": "3sQK6J6zl5aL"
      },
      "execution_count": 25,
      "outputs": []
    },
    {
      "cell_type": "code",
      "source": [
        "# Split data for cross-validation\n",
        "kf = KFold(n_splits=5)"
      ],
      "metadata": {
        "id": "LrtfQ3HpmfLM"
      },
      "execution_count": 28,
      "outputs": []
    }
  ]
}