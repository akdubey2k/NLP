{
  "nbformat": 4,
  "nbformat_minor": 0,
  "metadata": {
    "colab": {
      "provenance": []
    },
    "kernelspec": {
      "name": "python3",
      "display_name": "Python 3"
    },
    "language_info": {
      "name": "python"
    }
  },
  "cells": [
    {
      "cell_type": "markdown",
      "source": [
        "# 1. Introduction\n",
        "## 1.1 Definition\n",
        "## TF-IDF\n",
        "**Term Frequency (TF) and Inverse Document Frequency (IDF)** are statistical measures used in text mining and information retrieval to evaluate how important a word is to a document within a collection (or corpus). Together, they form the TF-IDF metric, a popular technique for ranking words in documents.\n"
      ],
      "metadata": {
        "id": "494-Jb7EE9U5"
      }
    },
    {
      "cell_type": "markdown",
      "source": [
        "## Term Frequency\n",
        "**Term Frequency** measures how frequently a word appears in a document. The more frequently a term appears, the more relevant it is assumed to be for that document.\n",
        "\n",
        "**Formula:**<br>\n",
        "# $\\text{TF}(t, d) = \\frac{\\text{Number of times term } t \\text{ appears in document } d}{\\text{Total number of terms in document } d}​$\n",
        "\n",
        "**Practical Scenario:**<br>\n",
        "Consider a document about artificial intelligence **(AI)** titled **\"Introduction to AI\"**. The document contains **100 words**, and the term **\"AI\"** appears **5 times.**\n",
        "## $\\text{TF}(\\text{\"AI\"}, d) = \\frac{5}{100} = 0.05$\n",
        "\n",
        "*This tells us that the term **\"AI\"** makes up **5%** of the document.*\n"
      ],
      "metadata": {
        "id": "Nyto4ZiU4D-b"
      }
    },
    {
      "cell_type": "markdown",
      "source": [
        "## Inverse Document Frequency (IDF)\n",
        "**Inverse Document Frequency** measures how important a term is across the entire corpus. It helps to down-weight common words that appear frequently across many documents (like \"the,\" \"is,\" \"and\") and up-weight terms that are unique or less frequent across documents.\n",
        "\n",
        "**Formula:** <br>\n",
        "## $ \\text{IDF}(t, D) = \\log \\left(\\frac{\\text{Total number of documents in the corpus } D}{\\text{Number of documents containing the term } t}\\right) $\n",
        "\n",
        "**Practical Scenario:** <br>\n",
        "Assume you have a corpus of **10,000** documents, and the term **\"AI\"** appears in **100** of them.\n",
        "## $ \\text{IDF}(\\text{\"AI\"}, D) = \\log \\left(\\frac{10000}{100}\\right) = \\log(100) = 2 $\n",
        "\n",
        "*This means **\"AI\"** is moderately common across the corpus, but not overly frequent.*\n",
        "\n",
        "Here, the **logarithm** is base **10** (common logarithm), so **log(100) equals 2**.\n"
      ],
      "metadata": {
        "id": "nGc0hIw64Cck"
      }
    },
    {
      "cell_type": "markdown",
      "source": [
        "The highest and lowest possible values of **Inverse Document Frequency (IDF)** depend on the corpus and the formula used, typically:\n",
        "#$ \\text{IDF}(\\text{term}, D) = \\log \\left(\\frac{N}{n_t}\\right)$\n",
        "where:\n",
        "* 𝑁 is the total number of documents in the corpus.\n",
        "* 𝑛_𝑡 is the number of documents containing the term.\n",
        "\n",
        "### 1. Lowest Value of IDF\n",
        "The lowest possible value of IDF occurs when the term appears in every document in the corpus (n_t = N).In this case:\n",
        "#$ \\text{IDF} = \\log \\left(\\frac{N}{N}\\right) = \\log(1) = 0$\n",
        "**Interpretation:** An IDF of 0 means the term is very common, appearing in every document. It is not useful for distinguishing between documents.\n",
        "\n",
        "### 2. Highest Value of IDF\n",
        "The highest possible value of IDF occurs when the term appears in only one document (n_t = 1). In this case:\n",
        "#$ \\text{IDF} = \\log \\left(\\frac{N}{1}\\right) = \\log(N) = N$\n",
        "**Interpretation:** The IDF value is maximized when the term is rare, appearing in just one document out of all N. The rarity makes it highly distinctive."
      ],
      "metadata": {
        "id": "fgwT3B_5yJtg"
      }
    },
    {
      "cell_type": "markdown",
      "source": [
        "## Term Frequency Inverse Document Frequency (TFIDF)\n",
        "**TF-IDF** is the product of **term frequency** and **inverse document frequency**. It gives more importance to the **word** that is rare in the corpus and common in a document. It reflects both the importance of a term within a specific document and its uniqueness across the entire corpus.\n",
        "\n",
        "**Formula:** <br>\n",
        "## $ \\text{TF-IDF}(t, d, D) = \\text{TF}(t, d) \\times \\text{IDF}(t, D) $\n",
        "\n",
        "**Practical Scenario:** <br>\n",
        "Using the earlier examples:\n",
        "- TF of \"AI\" in \"Introduction to AI\" = 0.05\n",
        "- IDF of \"AI\" in the corpus = 2\n",
        "## $ \\text{TF-IDF}(\\text{\"AI\"}, d, D) = 0.05 \\times 2 = 0.1 $\n",
        "\n",
        "*This value indicates the relevance of the term **\"AI\"** to the document **\"Introduction to AI,\"** considering its overall rarity in the entire corpus.*"
      ],
      "metadata": {
        "id": "m9rscKT06zAp"
      }
    },
    {
      "cell_type": "markdown",
      "source": [
        "# 2. Import libraries"
      ],
      "metadata": {
        "id": "vkvgWIkBfjJY"
      }
    },
    {
      "cell_type": "code",
      "execution_count": 1,
      "metadata": {
        "id": "e1Ew0xhzE4BS"
      },
      "outputs": [],
      "source": [
        "# NLTK library works with human language data (text) such as tokenization, part-of-speech tagging, and more.\n",
        "import nltk\n",
        "\n",
        "# The 'stopwords' module from 'nltk' provides a list of common stopwords for various languages.\n",
        "from nltk.corpus import stopwords\n",
        "\n",
        "# Regular expression operations from the 're' module, to check if a string contains the specified search pattern.\n",
        "import re\n",
        "\n",
        "# WordNetLemmatizer class from the nltk.stem module, which is responsible for lemmatizing words.\n",
        "from nltk.stem import WordNetLemmatizer\n",
        "\n",
        "# The TfidfVectorizer converts the text data into a matrix of TF-IDF features.\n",
        "from sklearn.feature_extraction.text import TfidfVectorizer"
      ]
    },
    {
      "cell_type": "markdown",
      "source": [
        "# 3. Load the necessary 'NLTK' resources"
      ],
      "metadata": {
        "id": "ttc3Z7alh6OP"
      }
    },
    {
      "cell_type": "code",
      "source": [
        "# Punkt tokenizer models required for word tokenization.\n",
        "nltk.download('punkt')\n",
        "\n",
        "# WordNet lexical database, provides the data needed for lemmatization.\n",
        "nltk.download('wordnet')\n",
        "\n",
        "# POS tagging model, used to tag words with their parts of speech.\n",
        "nltk.download('averaged_perceptron_tagger')\n",
        "\n",
        "# provide a list of common stopwords in English\n",
        "nltk.download('stopwords')"
      ],
      "metadata": {
        "colab": {
          "base_uri": "https://localhost:8080/"
        },
        "id": "ihlYDncaiAxD",
        "outputId": "35124947-38ea-439d-dfb0-e61bd4177f42"
      },
      "execution_count": 2,
      "outputs": [
        {
          "output_type": "stream",
          "name": "stderr",
          "text": [
            "[nltk_data] Downloading package punkt to /root/nltk_data...\n",
            "[nltk_data]   Unzipping tokenizers/punkt.zip.\n",
            "[nltk_data] Downloading package wordnet to /root/nltk_data...\n",
            "[nltk_data] Downloading package averaged_perceptron_tagger to\n",
            "[nltk_data]     /root/nltk_data...\n",
            "[nltk_data]   Unzipping taggers/averaged_perceptron_tagger.zip.\n",
            "[nltk_data] Downloading package stopwords to /root/nltk_data...\n",
            "[nltk_data]   Unzipping corpora/stopwords.zip.\n"
          ]
        },
        {
          "output_type": "execute_result",
          "data": {
            "text/plain": [
              "True"
            ]
          },
          "metadata": {},
          "execution_count": 2
        }
      ]
    },
    {
      "cell_type": "markdown",
      "source": [
        "# 4. Load the dataset\n",
        "Load the dataset either by specifying a URL or by directly creating it by writing the entire paragraph here; for further data analysis."
      ],
      "metadata": {
        "id": "lfc7sGxcAwGG"
      }
    },
    {
      "cell_type": "code",
      "source": [
        "paragraph=\"\"\"I have three visions for India. In 3000 years of our history, people from all over the world have come and invaded us, captured our lands, conquered our minds.\n",
        "               From Alexander onwards, the Greeks, the Turks, the Moguls, the Portuguese, the British, the French, the Dutch, all of them came and looted us, took over what was ours.\n",
        "               Yet we have not done this to any other nation. We have not conquered anyone.\n",
        "               We have not grabbed their land, their culture, their history and tried to enforce our way of life on them.\n",
        "               Why? Because we respect the freedom of others.That is why my first vision is that of freedom. I believe that India got its first vision of this in 1857, when we started the War of Independence. It is this freedom that we must protect and nurture and build on. If we are not free, no one will respect us.\n",
        "               My second vision for India’s development. For fifty years we have been a developing nation.\n",
        "               It is time we see ourselves as a developed nation. We are among the top 5 nations of the world in terms of GDP. We have a 10 percent growth rate in most areas. Our poverty levels are falling.\n",
        "               Our achievements are being globally recognised today. Yet we lack the self-confidence to see ourselves as a developed nation, self-reliant and self-assured. Isn’t this incorrect?\n",
        "               I have a third vision. India must stand up to the world. Because I believe that unless India stands up to the world, no one will respect us. Only strength respects strength. We must be strong not only as a military power but also as an economic power. Both must go hand-in-hand.\n",
        "               My good fortune was to have worked with three great minds. Dr. Vikram Sarabhai of the Dept. of space, Professor Satish Dhawan, who succeeded him and Dr. Brahm Prakash, father of nuclear material.\n",
        "               I was lucky to have worked with all three of them closely and consider this the great opportunity of my life.\n",
        "               I see four milestones in my career.\"\"\""
      ],
      "metadata": {
        "id": "WBx_ILP0Fz9w"
      },
      "execution_count": 3,
      "outputs": []
    },
    {
      "cell_type": "markdown",
      "source": [
        "# 5. Data Pre-processing\n",
        "## 5.1 Tokenize the entire **paragraph**\n",
        "* In data pre-processing, the first step is to clean and prepare raw text data for analysis.\n",
        "* **Tokenization**, a fundamental technique in **Natural Language Processing (NLP)**, involves breaking down a paragraph into\n",
        "  * individual words,\n",
        "  * phrases, or\n",
        "  * sentences,\n",
        "\n",
        "  making the data easier to analyze and process.\n",
        "\n",
        "This section will guide you through tokenizing a given paragraph to facilitate further text analysis.\n",
        "\n"
      ],
      "metadata": {
        "id": "K1u1wh6MB1uV"
      }
    },
    {
      "cell_type": "code",
      "source": [
        "# Tokenize (split) the given paragraph into a list of sentences.\n",
        "sentences = nltk.sent_tokenize(paragraph)\n",
        "corpus = []\n",
        "\n",
        "# Initialize the WordNet Lemmatizer from the NLTK library to reduce words to their base form\n",
        "wnl = WordNetLemmatizer()"
      ],
      "metadata": {
        "id": "N_saidYKF5sQ"
      },
      "execution_count": 4,
      "outputs": []
    },
    {
      "cell_type": "markdown",
      "source": [
        "#### Cleaning and Preprocessing data"
      ],
      "metadata": {
        "id": "R_GmTdmOVvAg"
      }
    },
    {
      "cell_type": "markdown",
      "source": [
        "#### re.sub(pattern, repl, string, count=0, flags=0)\n",
        "\n",
        "**pattern** is a regular expression that you want to match. Besides a regular expression, the pattern can be Pattern object.<br>\n",
        "**repl** is the replacement<br>\n",
        "**string** is the input string<br>"
      ],
      "metadata": {
        "id": "yehoS67H60MT"
      }
    },
    {
      "cell_type": "markdown",
      "source": [
        "**[^a-zA-Z]** :\n",
        "* matches a single character not in the range between a (index 97) to z (index 122) (case sensitive) and between A (index 65) to Z (index 90) (case sensitive)"
      ],
      "metadata": {
        "id": "bubusc-c6LC6"
      }
    },
    {
      "cell_type": "code",
      "source": [
        "for i in range(len(sentences)):\n",
        "  review = re.sub('[^a-zA-Z]', ' ', sentences[i])\n",
        "  review = review.lower()\n",
        "  review = review.split() # Split a string into a list where each word is a list item\n",
        "  review = [wnl.lemmatize(word) for word in review if word not in set(stopwords.words('english'))]\n",
        "  review = ' '.join(review)\n",
        "  corpus.append(review)"
      ],
      "metadata": {
        "id": "5VPIEGhwGXHR"
      },
      "execution_count": 5,
      "outputs": []
    },
    {
      "cell_type": "code",
      "source": [
        "corpus"
      ],
      "metadata": {
        "colab": {
          "base_uri": "https://localhost:8080/"
        },
        "id": "jBTnE7zN4_KA",
        "outputId": "16778082-304e-4046-e318-a92463fcb6da"
      },
      "execution_count": 6,
      "outputs": [
        {
          "output_type": "execute_result",
          "data": {
            "text/plain": [
              "['three vision india',\n",
              " 'year history people world come invaded u captured land conquered mind',\n",
              " 'alexander onwards greek turk mogul portuguese british french dutch came looted u took',\n",
              " 'yet done nation',\n",
              " 'conquered anyone',\n",
              " 'grabbed land culture history tried enforce way life',\n",
              " '',\n",
              " 'respect freedom others first vision freedom',\n",
              " 'believe india got first vision started war independence',\n",
              " 'freedom must protect nurture build',\n",
              " 'free one respect u',\n",
              " 'second vision india development',\n",
              " 'fifty year developing nation',\n",
              " 'time see developed nation',\n",
              " 'among top nation world term gdp',\n",
              " 'percent growth rate area',\n",
              " 'poverty level falling',\n",
              " 'achievement globally recognised today',\n",
              " 'yet lack self confidence see developed nation self reliant self assured',\n",
              " 'incorrect',\n",
              " 'third vision',\n",
              " 'india must stand world',\n",
              " 'believe unless india stand world one respect u',\n",
              " 'strength respect strength',\n",
              " 'must strong military power also economic power',\n",
              " 'must go hand hand',\n",
              " 'good fortune worked three great mind',\n",
              " 'dr vikram sarabhai dept',\n",
              " 'space professor satish dhawan succeeded dr brahm prakash father nuclear material',\n",
              " 'lucky worked three closely consider great opportunity life',\n",
              " 'see four milestone career']"
            ]
          },
          "metadata": {},
          "execution_count": 6
        }
      ]
    },
    {
      "cell_type": "code",
      "source": [
        "\n",
        "tfidf = TfidfVectorizer()\n",
        "X = tfidf.fit_transform(corpus).toarray()\n",
        "X"
      ],
      "metadata": {
        "colab": {
          "base_uri": "https://localhost:8080/"
        },
        "id": "0qz3EhuyIuWt",
        "outputId": "bf1963f4-6558-4623-8467-6ec1dc434b85"
      },
      "execution_count": 7,
      "outputs": [
        {
          "output_type": "execute_result",
          "data": {
            "text/plain": [
              "array([[0.        , 0.        , 0.        , ..., 0.        , 0.        ,\n",
              "        0.        ],\n",
              "       [0.        , 0.        , 0.        , ..., 0.25883507, 0.30512561,\n",
              "        0.        ],\n",
              "       [0.        , 0.28867513, 0.        , ..., 0.        , 0.        ,\n",
              "        0.        ],\n",
              "       ...,\n",
              "       [0.        , 0.        , 0.        , ..., 0.        , 0.        ,\n",
              "        0.        ],\n",
              "       [0.        , 0.        , 0.        , ..., 0.        , 0.        ,\n",
              "        0.        ],\n",
              "       [0.        , 0.        , 0.        , ..., 0.        , 0.        ,\n",
              "        0.        ]])"
            ]
          },
          "metadata": {},
          "execution_count": 7
        }
      ]
    },
    {
      "cell_type": "code",
      "source": [
        "print(X.shape) # rows x columns\n",
        "print(X.size)"
      ],
      "metadata": {
        "colab": {
          "base_uri": "https://localhost:8080/"
        },
        "id": "T0u3_jVzJJKi",
        "outputId": "d5fab13a-ad60-49fc-a76c-53ef6845e893"
      },
      "execution_count": 8,
      "outputs": [
        {
          "output_type": "stream",
          "name": "stdout",
          "text": [
            "(31, 114)\n",
            "3534\n"
          ]
        }
      ]
    }
  ]
}