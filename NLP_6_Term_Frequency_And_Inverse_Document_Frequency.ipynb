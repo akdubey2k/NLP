{
  "nbformat": 4,
  "nbformat_minor": 0,
  "metadata": {
    "colab": {
      "provenance": []
    },
    "kernelspec": {
      "name": "python3",
      "display_name": "Python 3"
    },
    "language_info": {
      "name": "python"
    }
  },
  "cells": [
    {
      "cell_type": "markdown",
      "source": [
        "# 1. Introduction\n",
        "## 1.1 Definition\n",
        "## TF-IDF\n",
        "**Term Frequency (TF) and Inverse Document Frequency (IDF)** are statistical measures used in text mining and information retrieval to evaluate how important a word is to a document within a collection (or corpus). Together, they form the TF-IDF metric, a popular technique for ranking words in documents.\n"
      ],
      "metadata": {
        "id": "494-Jb7EE9U5"
      }
    },
    {
      "cell_type": "markdown",
      "source": [
        "## Term Frequency\n",
        "**Term Frequency** measures how frequently a word appears in a document. The more frequently a term appears, the more relevant it is assumed to be for that document.\n",
        "\n",
        "**Formula:**<br>\n",
        "# $\\text{TF}(t, d) = \\frac{\\text{Number of times term } t \\text{ appears in document } d}{\\text{Total number of terms in document } d}​$\n",
        "\n",
        "**Practical Scenario:**<br>\n",
        "Consider a document about artificial intelligence **(AI)** titled **\"Introduction to AI\"**. The document contains **100 words**, and the term **\"AI\"** appears **5 times.**\n",
        "## $\\text{TF}(\\text{\"AI\"}, d) = \\frac{5}{100} = 0.05$\n",
        "\n",
        "*This tells us that the term **\"AI\"** makes up **5%** of the document.*\n"
      ],
      "metadata": {
        "id": "Nyto4ZiU4D-b"
      }
    },
    {
      "cell_type": "markdown",
      "source": [
        "## Inverse Document Frequency (IDF)\n",
        "**Inverse Document Frequency** measures how important a term is across the entire corpus. It helps to down-weight common words that appear frequently across many documents (like \"the,\" \"is,\" \"and\") and up-weight terms that are unique or less frequent across documents.\n",
        "\n",
        "**Formula:** <br>\n",
        "## $ \\text{IDF}(t, D) = \\log \\left(\\frac{\\text{Total number of documents in the corpus } D}{\\text{Number of documents containing the term } t}\\right) $\n",
        "\n",
        "**Practical Scenario:** <br>\n",
        "Assume you have a corpus of **10,000** documents, and the term **\"AI\"** appears in **100** of them.\n",
        "## $ \\text{IDF}(\\text{\"AI\"}, D) = \\log \\left(\\frac{10000}{100}\\right) = \\log(100) = 2 $\n",
        "\n",
        "*This means **\"AI\"** is moderately common across the corpus, but not overly frequent.*\n",
        "\n",
        "Here, the **logarithm** is base **10** (common logarithm), so **log(100) equals 2**.\n"
      ],
      "metadata": {
        "id": "nGc0hIw64Cck"
      }
    },
    {
      "cell_type": "markdown",
      "source": [
        "The highest and lowest possible values of **Inverse Document Frequency (IDF)** depend on the corpus and the formula used, typically:\n",
        "#$ \\text{IDF}(\\text{term}, D) = \\log \\left(\\frac{N}{n_t}\\right)$\n",
        "where:\n",
        "* 𝑁 is the total number of documents in the corpus.\n",
        "* 𝑛_𝑡 is the number of documents containing the term.\n",
        "\n",
        "### 1. Lowest Value of IDF\n",
        "The lowest possible value of IDF occurs when the term appears in every document in the corpus (n_t = N).In this case:\n",
        "#$ \\text{IDF} = \\log \\left(\\frac{N}{N}\\right) = \\log(1) = 0$\n",
        "**Interpretation:** An IDF of 0 means the term is very common, appearing in every document. It is not useful for distinguishing between documents.\n",
        "\n",
        "### 2. Highest Value of IDF\n",
        "The highest possible value of IDF occurs when the term appears in only one document (n_t = 1). In this case:\n",
        "#$ \\text{IDF} = \\log \\left(\\frac{N}{1}\\right) = \\log(N)$\n",
        "**Interpretation:** The IDF value is maximized when the term is rare, appearing in just one document out of all N. The rarity makes it highly distinctive."
      ],
      "metadata": {
        "id": "fgwT3B_5yJtg"
      }
    },
    {
      "cell_type": "markdown",
      "source": [
        "## Term Frequency Inverse Document Frequency (TFIDF)\n",
        "**TF-IDF** is the product of **term frequency** and **inverse document frequency**. It gives more importance to the **word** that is rare in the corpus and common in a document. It reflects both the importance of a term within a specific document and its uniqueness across the entire corpus.\n",
        "\n",
        "**Formula:** <br>\n",
        "## $ \\text{TF-IDF}(t, d, D) = \\text{TF}(t, d) \\times \\text{IDF}(t, D) $\n",
        "\n",
        "**Practical Scenario:** <br>\n",
        "Using the earlier examples:\n",
        "- TF of \"AI\" in \"Introduction to AI\" = 0.05\n",
        "- IDF of \"AI\" in the corpus = 2\n",
        "## $ \\text{TF-IDF}(\\text{\"AI\"}, d, D) = 0.05 \\times 2 = 0.1 $\n",
        "\n",
        "*This value indicates the relevance of the term **\"AI\"** to the document **\"Introduction to AI,\"** considering its overall rarity in the entire corpus.*"
      ],
      "metadata": {
        "id": "m9rscKT06zAp"
      }
    },
    {
      "cell_type": "markdown",
      "source": [
        "# 2. Import libraries"
      ],
      "metadata": {
        "id": "vkvgWIkBfjJY"
      }
    },
    {
      "cell_type": "code",
      "execution_count": 1,
      "metadata": {
        "id": "e1Ew0xhzE4BS"
      },
      "outputs": [],
      "source": [
        "# NLTK library works with human language data (text) such as tokenization, part-of-speech tagging, and more.\n",
        "import nltk\n",
        "\n",
        "# The 'stopwords' module from 'nltk' provides a list of common stopwords for various languages.\n",
        "from nltk.corpus import stopwords\n",
        "\n",
        "# Regular expression operations from the 're' module, to check if a string contains the specified search pattern.\n",
        "import re\n",
        "\n",
        "# WordNetLemmatizer class from the nltk.stem module, which is responsible for lemmatizing words.\n",
        "from nltk.stem import WordNetLemmatizer\n",
        "\n",
        "# The TfidfVectorizer converts the text data into a matrix of TF-IDF features.\n",
        "from sklearn.feature_extraction.text import TfidfVectorizer"
      ]
    },
    {
      "cell_type": "markdown",
      "source": [
        "# 3. Load the necessary 'NLTK' resources"
      ],
      "metadata": {
        "id": "ttc3Z7alh6OP"
      }
    },
    {
      "cell_type": "code",
      "source": [
        "# Punkt tokenizer models required for word tokenization.\n",
        "nltk.download('punkt')\n",
        "\n",
        "# WordNet lexical database, provides the data needed for lemmatization.\n",
        "nltk.download('wordnet')\n",
        "\n",
        "# POS tagging model, used to tag words with their parts of speech.\n",
        "nltk.download('averaged_perceptron_tagger')\n",
        "\n",
        "# provide a list of common stopwords in English\n",
        "nltk.download('stopwords')"
      ],
      "metadata": {
        "colab": {
          "base_uri": "https://localhost:8080/"
        },
        "id": "ihlYDncaiAxD",
        "outputId": "2df2e6eb-c2fc-4f94-eded-69435b82bea1"
      },
      "execution_count": 2,
      "outputs": [
        {
          "output_type": "stream",
          "name": "stderr",
          "text": [
            "[nltk_data] Downloading package punkt to /root/nltk_data...\n",
            "[nltk_data]   Package punkt is already up-to-date!\n",
            "[nltk_data] Downloading package wordnet to /root/nltk_data...\n",
            "[nltk_data]   Package wordnet is already up-to-date!\n",
            "[nltk_data] Downloading package averaged_perceptron_tagger to\n",
            "[nltk_data]     /root/nltk_data...\n",
            "[nltk_data]   Package averaged_perceptron_tagger is already up-to-\n",
            "[nltk_data]       date!\n",
            "[nltk_data] Downloading package stopwords to /root/nltk_data...\n",
            "[nltk_data]   Package stopwords is already up-to-date!\n"
          ]
        },
        {
          "output_type": "execute_result",
          "data": {
            "text/plain": [
              "True"
            ]
          },
          "metadata": {},
          "execution_count": 2
        }
      ]
    },
    {
      "cell_type": "markdown",
      "source": [
        "# 4. Load the dataset\n",
        "Load the dataset either by specifying a URL or by directly creating it by writing the entire paragraph here; for further data analysis."
      ],
      "metadata": {
        "id": "lfc7sGxcAwGG"
      }
    },
    {
      "cell_type": "code",
      "source": [
        "paragraph=\"\"\"I have three visions for India. In 3000 years of our history, people from all over the world have come and invaded us, captured our lands, conquered our minds.\n",
        "               From Alexander onwards, the Greeks, the Turks, the Moguls, the Portuguese, the British, the French, the Dutch, all of them came and looted us, took over what was ours.\n",
        "               Yet we have not done this to any other nation. We have not conquered anyone.\n",
        "               We have not grabbed their land, their culture, their history and tried to enforce our way of life on them.\n",
        "               Why? Because we respect the freedom of others.That is why my first vision is that of freedom. I believe that India got its first vision of this in 1857, when we started the War of Independence. It is this freedom that we must protect and nurture and build on. If we are not free, no one will respect us.\n",
        "               My second vision for India’s development. For fifty years we have been a developing nation.\n",
        "               It is time we see ourselves as a developed nation. We are among the top 5 nations of the world in terms of GDP. We have a 10 percent growth rate in most areas. Our poverty levels are falling.\n",
        "               Our achievements are being globally recognised today. Yet we lack the self-confidence to see ourselves as a developed nation, self-reliant and self-assured. Isn’t this incorrect?\n",
        "               I have a third vision. India must stand up to the world. Because I believe that unless India stands up to the world, no one will respect us. Only strength respects strength. We must be strong not only as a military power but also as an economic power. Both must go hand-in-hand.\n",
        "               My good fortune was to have worked with three great minds. Dr. Vikram Sarabhai of the Dept. of space, Professor Satish Dhawan, who succeeded him and Dr. Brahm Prakash, father of nuclear material.\n",
        "               I was lucky to have worked with all three of them closely and consider this the great opportunity of my life.\n",
        "               I see four milestones in my career.\"\"\""
      ],
      "metadata": {
        "id": "WBx_ILP0Fz9w"
      },
      "execution_count": 3,
      "outputs": []
    },
    {
      "cell_type": "markdown",
      "source": [
        "# 5. Data Pre-processing\n",
        "## 5.1 Tokenize the entire **paragraph**\n",
        "* In data pre-processing, the first step is to clean and prepare raw text data for analysis.\n",
        "* **Tokenization**, a fundamental technique in **Natural Language Processing (NLP)**, involves breaking down a paragraph into\n",
        "  * individual words,\n",
        "  * phrases, or\n",
        "  * sentences,\n",
        "\n",
        "  making the data easier to analyze and process.\n",
        "\n",
        "This section will guide you through tokenizing a given paragraph to facilitate further text analysis.\n",
        "\n"
      ],
      "metadata": {
        "id": "K1u1wh6MB1uV"
      }
    },
    {
      "cell_type": "code",
      "source": [
        "# Tokenize (split) the given paragraph into a list of sentences.\n",
        "sent_list = nltk.sent_tokenize(paragraph)\n",
        "corpus = []\n",
        "\n",
        "# Initialize the WordNet Lemmatizer from the NLTK library to reduce words to their base form\n",
        "wnl = WordNetLemmatizer()"
      ],
      "metadata": {
        "id": "N_saidYKF5sQ"
      },
      "execution_count": 4,
      "outputs": []
    },
    {
      "cell_type": "markdown",
      "source": [
        "# 6. Cleaning and Preprocessing of dataset\n",
        "* removing unwanted characters,\n",
        "* converting to lowercase,\n",
        "* splitting into words,\n",
        "* removing stopwords,\n",
        "* stemming, and then\n",
        "* reconstructing the cleaned sentence into the corpus."
      ],
      "metadata": {
        "id": "R_GmTdmOVvAg"
      }
    },
    {
      "cell_type": "markdown",
      "source": [
        "#### **re.sub(pattern, repl, string, count=0, flags=0)**\n",
        "* **pattern** is a regular expression that you want to match. Besides a regular expression, the pattern can be Pattern object.<br>\n",
        "* **repl** is the replacement<br>\n",
        "* **string** is the input string<br>"
      ],
      "metadata": {
        "id": "yehoS67H60MT"
      }
    },
    {
      "cell_type": "markdown",
      "source": [
        "#### **[^a-zA-Z]** :\n",
        "* matches a single character not in the range between **\"a\" (index 97) to \"z\" (index 122)** (case sensitive) and between **'A' (index 65) to 'Z' (index 90)** (case sensitive)"
      ],
      "metadata": {
        "id": "bubusc-c6LC6"
      }
    },
    {
      "cell_type": "code",
      "source": [
        "for i in range(len(sent_list)):\n",
        "  review = re.sub('[^a-zA-Z]', ' ', sent_list[i])\n",
        "  review = review.lower()\n",
        "  review = review.split() # Split a string into a list where each word is a list item\n",
        "  review = [wnl.lemmatize(word) for word in review if word not in set(stopwords.words('english'))]\n",
        "  review = ' '.join(review)\n",
        "  corpus.append(review)"
      ],
      "metadata": {
        "id": "5VPIEGhwGXHR"
      },
      "execution_count": 5,
      "outputs": []
    },
    {
      "cell_type": "code",
      "source": [
        "# iterate over each element in 'sent_list' one at a time\n",
        "for i in range(len(sent_list)):\n",
        "\n",
        "  # removed all the auxillary things like comma, dot, numbers, etc. except alphabets letters both upper & lower case.\n",
        "  review = re.sub('[^a-zA-Z]', ' ', sent_list[i])\n",
        "\n",
        "  # lowered down all the alphabets and words in a 'sent_list' to ensures uniformity and helps in comparing words without case sensitivity\n",
        "  review = review.lower()\n",
        "\n",
        "  # split each words as single entity kind of array of words based on spaces, creating a list of words for each sentence\n",
        "  review = review.split()\n",
        "\n",
        "   # lemmatize to each word, checks if the word is not a stopword. 'set()' is used for faster lookups, as checking membership in a set is generally quicker than in a list.\n",
        "  review = [wnl.lemmatize(word) for word in review if word not in set(stopwords.words('english'))]\n",
        "\n",
        "  # Joins the stemmed words back into a single sentence, separated by spaces, converting the list of words back into a string.\n",
        "  review = ' '.join(review)\n",
        "\n",
        "  # adds back all processed sentence (now cleaned, lowercased, stemmed, and without stopwords) from a list of string into a single sentence\n",
        "  corpus.append(review)\n",
        "  print(review)"
      ],
      "metadata": {
        "id": "4YuxlXCbEUto",
        "colab": {
          "base_uri": "https://localhost:8080/"
        },
        "outputId": "4b39a608-57db-4d0e-9438-c4ad831af679"
      },
      "execution_count": 6,
      "outputs": [
        {
          "output_type": "stream",
          "name": "stdout",
          "text": [
            "three vision india\n",
            "year history people world come invaded u captured land conquered mind\n",
            "alexander onwards greek turk mogul portuguese british french dutch came looted u took\n",
            "yet done nation\n",
            "conquered anyone\n",
            "grabbed land culture history tried enforce way life\n",
            "\n",
            "respect freedom others first vision freedom\n",
            "believe india got first vision started war independence\n",
            "freedom must protect nurture build\n",
            "free one respect u\n",
            "second vision india development\n",
            "fifty year developing nation\n",
            "time see developed nation\n",
            "among top nation world term gdp\n",
            "percent growth rate area\n",
            "poverty level falling\n",
            "achievement globally recognised today\n",
            "yet lack self confidence see developed nation self reliant self assured\n",
            "incorrect\n",
            "third vision\n",
            "india must stand world\n",
            "believe unless india stand world one respect u\n",
            "strength respect strength\n",
            "must strong military power also economic power\n",
            "must go hand hand\n",
            "good fortune worked three great mind\n",
            "dr vikram sarabhai dept\n",
            "space professor satish dhawan succeeded dr brahm prakash father nuclear material\n",
            "lucky worked three closely consider great opportunity life\n",
            "see four milestone career\n"
          ]
        }
      ]
    },
    {
      "cell_type": "code",
      "source": [
        "corpus"
      ],
      "metadata": {
        "colab": {
          "base_uri": "https://localhost:8080/"
        },
        "id": "jBTnE7zN4_KA",
        "outputId": "f2458826-3d27-4b1f-ae97-beb839088899"
      },
      "execution_count": 7,
      "outputs": [
        {
          "output_type": "execute_result",
          "data": {
            "text/plain": [
              "['three vision india',\n",
              " 'year history people world come invaded u captured land conquered mind',\n",
              " 'alexander onwards greek turk mogul portuguese british french dutch came looted u took',\n",
              " 'yet done nation',\n",
              " 'conquered anyone',\n",
              " 'grabbed land culture history tried enforce way life',\n",
              " '',\n",
              " 'respect freedom others first vision freedom',\n",
              " 'believe india got first vision started war independence',\n",
              " 'freedom must protect nurture build',\n",
              " 'free one respect u',\n",
              " 'second vision india development',\n",
              " 'fifty year developing nation',\n",
              " 'time see developed nation',\n",
              " 'among top nation world term gdp',\n",
              " 'percent growth rate area',\n",
              " 'poverty level falling',\n",
              " 'achievement globally recognised today',\n",
              " 'yet lack self confidence see developed nation self reliant self assured',\n",
              " 'incorrect',\n",
              " 'third vision',\n",
              " 'india must stand world',\n",
              " 'believe unless india stand world one respect u',\n",
              " 'strength respect strength',\n",
              " 'must strong military power also economic power',\n",
              " 'must go hand hand',\n",
              " 'good fortune worked three great mind',\n",
              " 'dr vikram sarabhai dept',\n",
              " 'space professor satish dhawan succeeded dr brahm prakash father nuclear material',\n",
              " 'lucky worked three closely consider great opportunity life',\n",
              " 'see four milestone career',\n",
              " 'three vision india',\n",
              " 'year history people world come invaded u captured land conquered mind',\n",
              " 'alexander onwards greek turk mogul portuguese british french dutch came looted u took',\n",
              " 'yet done nation',\n",
              " 'conquered anyone',\n",
              " 'grabbed land culture history tried enforce way life',\n",
              " '',\n",
              " 'respect freedom others first vision freedom',\n",
              " 'believe india got first vision started war independence',\n",
              " 'freedom must protect nurture build',\n",
              " 'free one respect u',\n",
              " 'second vision india development',\n",
              " 'fifty year developing nation',\n",
              " 'time see developed nation',\n",
              " 'among top nation world term gdp',\n",
              " 'percent growth rate area',\n",
              " 'poverty level falling',\n",
              " 'achievement globally recognised today',\n",
              " 'yet lack self confidence see developed nation self reliant self assured',\n",
              " 'incorrect',\n",
              " 'third vision',\n",
              " 'india must stand world',\n",
              " 'believe unless india stand world one respect u',\n",
              " 'strength respect strength',\n",
              " 'must strong military power also economic power',\n",
              " 'must go hand hand',\n",
              " 'good fortune worked three great mind',\n",
              " 'dr vikram sarabhai dept',\n",
              " 'space professor satish dhawan succeeded dr brahm prakash father nuclear material',\n",
              " 'lucky worked three closely consider great opportunity life',\n",
              " 'see four milestone career']"
            ]
          },
          "metadata": {},
          "execution_count": 7
        }
      ]
    },
    {
      "cell_type": "code",
      "source": [
        "# initialize the TF-IDF Vectorizer\n",
        "tfidf = TfidfVectorizer()\n",
        "\n",
        "# fit and transform the text data\n",
        "# Fit: Learns the vocabulary from the dataset and calculates the IDF values for each word.\n",
        "# Transform: Computes the TF-IDF scores for each term in each document.\n",
        "tfidf_matrix = tfidf.fit_transform(corpus).toarray()\n",
        "# tfidf_matrix\n",
        "\n",
        "# convert the sparse matrix to a dense array using '.toarray()'\n",
        "# A DataFrame is created with 'rows' as 'lines' and 'columns' as 'terms'\n",
        "# 'get_feature_names_out()' retrieves the names of the 'terms', which are used as 'column' headers.\n",
        "tfidf_df = pd.DataFrame(tfidf_matrix, columns=tfidf.get_feature_names_out())\n",
        "\n",
        "# Display the DataFrame\n",
        "print(\"TF-IDF Scores: \\n\", tfidf_df)\n"
      ],
      "metadata": {
        "colab": {
          "base_uri": "https://localhost:8080/",
          "height": 218
        },
        "id": "0qz3EhuyIuWt",
        "outputId": "d1fb63e3-6f8c-46ea-b021-7183f515d0e5"
      },
      "execution_count": 8,
      "outputs": [
        {
          "output_type": "error",
          "ename": "NameError",
          "evalue": "name 'pd' is not defined",
          "traceback": [
            "\u001b[0;31m---------------------------------------------------------------------------\u001b[0m",
            "\u001b[0;31mNameError\u001b[0m                                 Traceback (most recent call last)",
            "\u001b[0;32m<ipython-input-8-2d7b6627a007>\u001b[0m in \u001b[0;36m<cell line: 13>\u001b[0;34m()\u001b[0m\n\u001b[1;32m     11\u001b[0m \u001b[0;31m# A DataFrame is created with 'rows' as 'lines' and 'columns' as 'terms'\u001b[0m\u001b[0;34m\u001b[0m\u001b[0;34m\u001b[0m\u001b[0m\n\u001b[1;32m     12\u001b[0m \u001b[0;31m# 'get_feature_names_out()' retrieves the names of the 'terms', which are used as 'column' headers.\u001b[0m\u001b[0;34m\u001b[0m\u001b[0;34m\u001b[0m\u001b[0m\n\u001b[0;32m---> 13\u001b[0;31m \u001b[0mtfidf_df\u001b[0m \u001b[0;34m=\u001b[0m \u001b[0mpd\u001b[0m\u001b[0;34m.\u001b[0m\u001b[0mDataFrame\u001b[0m\u001b[0;34m(\u001b[0m\u001b[0mtfidf_matrix\u001b[0m\u001b[0;34m,\u001b[0m \u001b[0mcolumns\u001b[0m\u001b[0;34m=\u001b[0m\u001b[0mtfidf\u001b[0m\u001b[0;34m.\u001b[0m\u001b[0mget_feature_names_out\u001b[0m\u001b[0;34m(\u001b[0m\u001b[0;34m)\u001b[0m\u001b[0;34m)\u001b[0m\u001b[0;34m\u001b[0m\u001b[0;34m\u001b[0m\u001b[0m\n\u001b[0m\u001b[1;32m     14\u001b[0m \u001b[0;34m\u001b[0m\u001b[0m\n\u001b[1;32m     15\u001b[0m \u001b[0;31m# Display the DataFrame\u001b[0m\u001b[0;34m\u001b[0m\u001b[0;34m\u001b[0m\u001b[0m\n",
            "\u001b[0;31mNameError\u001b[0m: name 'pd' is not defined"
          ]
        }
      ]
    },
    {
      "cell_type": "code",
      "source": [
        "print(X.shape) # rows x columns\n",
        "print(X.size)"
      ],
      "metadata": {
        "id": "T0u3_jVzJJKi"
      },
      "execution_count": null,
      "outputs": []
    },
    {
      "cell_type": "code",
      "source": [
        "# Import necessary libraries\n",
        "from sklearn.feature_extraction.text import TfidfVectorizer\n",
        "import pandas as pd\n",
        "\n",
        "# Step 1: Define the dataset (reviews)\n",
        "reviews = [\n",
        "    \"This AI tool is innovative and user-friendly.\",\n",
        "    \"The AI platform offers great features but needs improvement in customer service.\",\n",
        "    \"User-friendly design makes this AI tool stand out.\"\n",
        "]\n",
        "\n",
        "# Step 2: Initialize the TF-IDF Vectorizer\n",
        "# - The TfidfVectorizer converts the text data into a matrix of TF-IDF features.\n",
        "vectorizer = TfidfVectorizer()\n",
        "\n",
        "# Step 3: Fit and transform the text data\n",
        "# - 'fit_transform()' learns the vocabulary and computes the TF-IDF score for each term.\n",
        "tfidf_matrix = vectorizer.fit_transform(reviews)\n",
        "\n",
        "# Step 4: Convert the TF-IDF matrix to a DataFrame for better visualization\n",
        "# - This creates a DataFrame where each row represents a document (review) and each column represents a term.\n",
        "# - The values in the DataFrame are the TF-IDF scores.\n",
        "tfidf_df = pd.DataFrame(tfidf_matrix.toarray(), columns=vectorizer.get_feature_names_out())\n",
        "\n",
        "# Display the DataFrame\n",
        "print(\"TF-IDF Scores: \\n\", tfidf_df)\n",
        "\n",
        "\n",
        "tfidf_scores = [(term, score) for term in tfidf_df.columns for score in tfidf_df[term]]\n",
        "\n",
        "# Finding the highest and lowest scores\n",
        "highest_score = max(tfidf_scores, key=lambda x: x[1])\n",
        "lowest_score = min(tfidf_scores, key=lambda x: x[1])\n",
        "\n",
        "# Print all scores\n",
        "print(\"\\nAll TF-IDF Scores:\")\n",
        "for term, score in tfidf_scores:\n",
        "    print(f\"Term: {term}, Score: {score}\")\n",
        "\n",
        "# Print highest and lowest score\n",
        "print(f\"\\nHighest Score: Term = {highest_score[0]}, Score = {highest_score[1]}\")\n",
        "print(f\"Lowest Score: Term = {lowest_score[0]}, Score = {lowest_score[1]}\")\n",
        "\n",
        "\n",
        "# Extracting all TF-IDF scores, highest and lowest score\n",
        "# Flatten the TF-IDF scores into a list of tuples (term, score)\n",
        "all_scores = [(term, score) for col in tfidf_df.columns for term, score in zip(tfidf_df.columns, tfidf_df[col])]\n",
        "\n",
        "# Finding the highest and lowest scores\n",
        "highest_score = max(all_scores, key=lambda x: x[1])\n",
        "lowest_score = min(all_scores, key=lambda x: x[1])\n",
        "\n",
        "# Print all scores\n",
        "print(\"\\nAll TF-IDF Scores:\")\n",
        "for term, score in all_scores:\n",
        "    print(f\"{term}: {score}\")\n",
        "\n",
        "# Print highest and lowest score\n",
        "print(\"\\nHighest Score:\")\n",
        "print(f\"{highest_score[0]}: {highest_score[1]}\")\n",
        "\n",
        "print(\"\\nLowest Score:\")\n",
        "print(f\"{lowest_score[0]}: {lowest_score[1]}\")"
      ],
      "metadata": {
        "id": "f6fj4MGEoncM"
      },
      "execution_count": null,
      "outputs": []
    }
  ]
}