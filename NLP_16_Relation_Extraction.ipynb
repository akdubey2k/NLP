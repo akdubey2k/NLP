{
  "nbformat": 4,
  "nbformat_minor": 0,
  "metadata": {
    "colab": {
      "provenance": []
    },
    "kernelspec": {
      "name": "python3",
      "display_name": "Python 3"
    },
    "language_info": {
      "name": "python"
    }
  },
  "cells": [
    {
      "cell_type": "markdown",
      "source": [
        "# 1. Introduction\n",
        "**Relation Extraction (RE)** in Natural Language Processing **(NLP)** is the process of identifying and categorizing semantic relationships between entities in a text.\n",
        "* It aims to extract meaningful connections, such as relationships between people, organizations, locations, or events.\n",
        "* These relationships are often represented in the form of triplets: (entity1, relation, entity2), where \"relation\" describes how the two entities are connected."
      ],
      "metadata": {
        "id": "MVJfe0HaZAw4"
      }
    }
  ]
}