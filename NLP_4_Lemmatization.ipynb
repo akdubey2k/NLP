{
  "nbformat": 4,
  "nbformat_minor": 0,
  "metadata": {
    "colab": {
      "provenance": []
    },
    "kernelspec": {
      "name": "python3",
      "display_name": "Python 3"
    },
    "language_info": {
      "name": "python"
    }
  },
  "cells": [
    {
      "cell_type": "markdown",
      "source": [
        "# 1. Introduction\n",
        "## 1.1 Definition\n",
        "**Lemmatization** is a process in Natural Language Processing (NLP) that reduces words to their base or root form, known as the **lemma**. Unlike **stemming**, which simply removes suffixes from words, lemmatization considers the context and morphological (*relating to the forms of words,*) analysis of words, making it more accurate and linguistically informed."
      ],
      "metadata": {
        "id": "ev29ux4Zhy8s"
      }
    },
    {
      "cell_type": "markdown",
      "source": [
        "## 1.2 Key features of Lemmatization\n",
        "* **Context-Aware:** Lemmatization uses the context of a word to convert it into its base form. For example, \"better\" is lemmatized as \"good\" because it considers the relationship between words.\n",
        "* **Part-of-Speech Tagging:**It involves tagging words with their correct part of speech (POS) like noun, verb, adjective, etc., which helps in identifying the correct lemma (a heading indicating the subject or argument of a literary composition or annotation) of the word.\n",
        "* **Dictionary-Based Approach:** Lemmatization relies on a dictionary to determine the correct base form of a word, making it more reliable than simple suffix removal.\n",
        "* **Meaning Preservation:** Lemmatization ensures that the root form retains the meaning of the original word.\n",
        "* **Context Awareness:** It takes into account the part of speech (POS) of the word, making it more accurate than stemming.\n",
        "* **Reduced Complexity:** By reducing inflected forms of words to a common base, lemmatization simplifies text data, making it easier to analyze.\n"
      ],
      "metadata": {
        "id": "qjMZQfJ0_WMq"
      }
    },
    {
      "cell_type": "markdown",
      "source": [
        "# 2. Import libraries"
      ],
      "metadata": {
        "id": "hX-iInk4AXti"
      }
    },
    {
      "cell_type": "code",
      "execution_count": null,
      "metadata": {
        "id": "oSCYgs2PhnpM",
        "colab": {
          "base_uri": "https://localhost:8080/"
        },
        "outputId": "7867a304-2c82-4581-fbe2-9da905275e75"
      },
      "outputs": [
        {
          "output_type": "stream",
          "name": "stderr",
          "text": [
            "[nltk_data] Downloading package stopwords to /root/nltk_data...\n",
            "[nltk_data]   Package stopwords is already up-to-date!\n"
          ]
        }
      ],
      "source": [
        "# NLTK library works with human language data (text) such as tokenization, part-of-speech tagging, and more.\n",
        "import nltk\n",
        "\n",
        "# WordNetLemmatizer class from the nltk.stem module, which is responsible for lemmatizing words.\n",
        "from nltk.stem import WordNetLemmatizer\n",
        "\n",
        "# The 'stopwords' module from 'nltk' provides a list of common stopwords for various languages.\n",
        "nltk.download('stopwords')\n",
        "\n",
        "# the pos_tag function, tags words with their part of speech, and word_tokenize, splits text into individual words (tokens).\n",
        "from nltk.corpus import stopwords"
      ]
    },
    {
      "cell_type": "markdown",
      "source": [
        "# 3. Load the necessary 'NLTK' resources"
      ],
      "metadata": {
        "id": "f5mpkDdQBneE"
      }
    },
    {
      "cell_type": "code",
      "source": [
        "# nltk.download('all')\n",
        "\n",
        "# Punkt tokenizer models required for word tokenization.\n",
        "nltk.download('punkt')\n",
        "\n",
        "# WordNet lexical database, provides the data needed for lemmatization.\n",
        "nltk.download('wordnet')\n",
        "\n",
        "# POS tagging model, used to tag words with their parts of speech.\n",
        "nltk.download('averaged_perceptron_tagger')"
      ],
      "metadata": {
        "id": "HzUOvafCiVp-",
        "colab": {
          "base_uri": "https://localhost:8080/"
        },
        "outputId": "18f77901-b638-4ba0-c8cc-c706f2231c1a"
      },
      "execution_count": null,
      "outputs": [
        {
          "output_type": "stream",
          "name": "stderr",
          "text": [
            "[nltk_data] Downloading package punkt to /root/nltk_data...\n",
            "[nltk_data]   Package punkt is already up-to-date!\n",
            "[nltk_data] Downloading package wordnet to /root/nltk_data...\n",
            "[nltk_data]   Package wordnet is already up-to-date!\n",
            "[nltk_data] Downloading package averaged_perceptron_tagger to\n",
            "[nltk_data]     /root/nltk_data...\n",
            "[nltk_data]   Package averaged_perceptron_tagger is already up-to-\n",
            "[nltk_data]       date!\n"
          ]
        },
        {
          "output_type": "execute_result",
          "data": {
            "text/plain": [
              "True"
            ]
          },
          "metadata": {},
          "execution_count": 2
        }
      ]
    },
    {
      "cell_type": "markdown",
      "source": [
        "# 4. Load the data\n",
        "Load the dataset either by specifying a URL or by directly writing the entire paragraph here for further data analysis."
      ],
      "metadata": {
        "id": "1FvkzMuf6sYJ"
      }
    },
    {
      "cell_type": "code",
      "source": [
        "paragraph = \"\"\"I have three visions for India. In 3000 years of our history, people from all over the world have come and invaded us, captured our lands, conquered our minds.\n",
        "               From Alexander onwards, the Greeks, the Turks, the Moguls, the Portuguese, the British, the French, the Dutch, all of them came and looted us, took over what was ours.\n",
        "               Yet we have not done this to any other nation. We have not conquered anyone.\n",
        "               We have not grabbed their land, their culture, their history and tried to enforce our way of life on them.\n",
        "               Why? Because we respect the freedom of others.That is why my first vision is that of freedom. I believe that India got its first vision of this in 1857, when we started the War of Independence. It is this freedom that we must protect and nurture and build on. If we are not free, no one will respect us.\n",
        "               My second vision for India’s development. For fifty years we have been a developing nation.\n",
        "               It is time we see ourselves as a developed nation. We are among the top 5 nations of the world in terms of GDP. We have a 10 percent growth rate in most areas. Our poverty levels are falling.\n",
        "               Our achievements are being globally recognised today. Yet we lack the self-confidence to see ourselves as a developed nation, self-reliant and self-assured. Isn’t this incorrect?\n",
        "               I have a third vision. India must stand up to the world. Because I believe that unless India stands up to the world, no one will respect us. Only strength respects strength. We must be strong not only as a military power but also as an economic power. Both must go hand-in-hand.\n",
        "               My good fortune was to have worked with three great minds. Dr. Vikram Sarabhai of the Dept. of space, Professor Satish Dhawan, who succeeded him and Dr. Brahm Prakash, father of nuclear material.\n",
        "               I was lucky to have worked with all three of them closely and consider this the great opportunity of my life.\n",
        "               I see four milestones in my career.\"\"\""
      ],
      "metadata": {
        "id": "bdqFkDUEiiRH"
      },
      "execution_count": null,
      "outputs": []
    },
    {
      "cell_type": "markdown",
      "source": [
        "# 5. Data Pre-processing\n",
        "The preprocessing is essential for **standardizing** and **structuring** text data, enabling more effective and accurate data analysis in subsequent steps."
      ],
      "metadata": {
        "id": "HBlPPY1F7kz-"
      }
    },
    {
      "cell_type": "markdown",
      "source": [
        "## 5.1 Tokenize the entire paragraph\n",
        "In data pre-processing, the first step is to clean and prepare raw text data for analysis.\n",
        "\n",
        "**Tokenization**, a fundamental technique in **Natural Language Processing (NLP)**, involves breaking down a paragraph into\n",
        "\n",
        "* individual words,\n",
        "* phrases, or\n",
        "* sentences,\n",
        "\n",
        "making the data easier to analyze and process."
      ],
      "metadata": {
        "id": "G5njHv9r-kqG"
      }
    },
    {
      "cell_type": "code",
      "source": [
        "# Initialize the WordNet Lemmatizer from the NLTK library to reduce words to their base form\n",
        "wnl = WordNetLemmatizer()\n",
        "\n",
        "# Split the given paragraph into individual sentences\n",
        "sent_list = nltk.sent_tokenize(paragraph)\n",
        "\n",
        "# Display the list of tokenized sentences\n",
        "sent_list"
      ],
      "metadata": {
        "id": "Pwf7mTWBitaX",
        "colab": {
          "base_uri": "https://localhost:8080/"
        },
        "outputId": "9d970f20-75c4-4b4f-e124-4196cf95586d"
      },
      "execution_count": null,
      "outputs": [
        {
          "output_type": "execute_result",
          "data": {
            "text/plain": [
              "['I have three visions for India.',\n",
              " 'In 3000 years of our history, people from all over the world have come and invaded us, captured our lands, conquered our minds.',\n",
              " 'From Alexander onwards, the Greeks, the Turks, the Moguls, the Portuguese, the British, the French, the Dutch, all of them came and looted us, took over what was ours.',\n",
              " 'Yet we have not done this to any other nation.',\n",
              " 'We have not conquered anyone.',\n",
              " 'We have not grabbed their land, their culture, their history and tried to enforce our way of life on them.',\n",
              " 'Why?',\n",
              " 'Because we respect the freedom of others.That is why my first vision is that of freedom.',\n",
              " 'I believe that India got its first vision of this in 1857, when we started the War of Independence.',\n",
              " 'It is this freedom that we must protect and nurture and build on.',\n",
              " 'If we are not free, no one will respect us.',\n",
              " 'My second vision for India’s development.',\n",
              " 'For fifty years we have been a developing nation.',\n",
              " 'It is time we see ourselves as a developed nation.',\n",
              " 'We are among the top 5 nations of the world in terms of GDP.',\n",
              " 'We have a 10 percent growth rate in most areas.',\n",
              " 'Our poverty levels are falling.',\n",
              " 'Our achievements are being globally recognised today.',\n",
              " 'Yet we lack the self-confidence to see ourselves as a developed nation, self-reliant and self-assured.',\n",
              " 'Isn’t this incorrect?',\n",
              " 'I have a third vision.',\n",
              " 'India must stand up to the world.',\n",
              " 'Because I believe that unless India stands up to the world, no one will respect us.',\n",
              " 'Only strength respects strength.',\n",
              " 'We must be strong not only as a military power but also as an economic power.',\n",
              " 'Both must go hand-in-hand.',\n",
              " 'My good fortune was to have worked with three great minds.',\n",
              " 'Dr. Vikram Sarabhai of the Dept.',\n",
              " 'of space, Professor Satish Dhawan, who succeeded him and Dr. Brahm Prakash, father of nuclear material.',\n",
              " 'I was lucky to have worked with all three of them closely and consider this the great opportunity of my life.',\n",
              " 'I see four milestones in my career.']"
            ]
          },
          "metadata": {},
          "execution_count": 4
        }
      ]
    },
    {
      "cell_type": "markdown",
      "source": [
        "## 5.2 Setup and use of **stopwords** as per the different language\n",
        "\n",
        "* **Stopwords** are common words in a language that are often filtered out during text processing because they carry little meaningful information. Examples include **\"the,\" \"is,\" \"in,\" \"and,\" etc.**\n",
        "* These words are usually removed in tasks like ***text analysis, information retrieval, and machine learning*** to improve the performance of algorithms by focusing on more relevant words."
      ],
      "metadata": {
        "id": "XPrBFgxz-TNt"
      }
    },
    {
      "cell_type": "code",
      "source": [
        "# stopwords.words('german')\n",
        "# stopwords.words('french')\n",
        "\n",
        "# Load English stopwords\n",
        "stop_words = set(stopwords.words('english'))"
      ],
      "metadata": {
        "id": "CAl6Jqh2-1n5"
      },
      "execution_count": null,
      "outputs": []
    },
    {
      "cell_type": "markdown",
      "source": [
        "# 6. Text Pre-processing: Tokenization, Stopword Removal, and Lemmatization Using NLTK\""
      ],
      "metadata": {
        "id": "amWIkg_ZSL7Z"
      }
    },
    {
      "cell_type": "code",
      "source": [
        "# iterating through sentences, iterates over each index of 'sent_list', which contains sentences that need processing.\n",
        "for i in range(len(sent_list)):\n",
        "\n",
        "  # tokenizes each sentence at index i into individual words and punctuation.\n",
        "  word_list = nltk.word_tokenize(sent_list[i])\n",
        "  for word in word_list:\n",
        "    if word not in set(stopwords.words('english')):\n",
        "      words = [wnl.lemmatize(word)]\n",
        "      sent_list[i] = ' '.join(words)\n",
        "      print(sent_list[i])"
      ],
      "metadata": {
        "id": "ASW3BRO3jQ60",
        "colab": {
          "base_uri": "https://localhost:8080/"
        },
        "outputId": "1490caa5-8a3d-4a99-dda9-31c7b2bb52aa"
      },
      "execution_count": null,
      "outputs": [
        {
          "output_type": "stream",
          "name": "stdout",
          "text": [
            "I\n",
            "three\n",
            "vision\n",
            "India\n",
            ".\n",
            "In\n",
            "3000\n",
            "year\n",
            "history\n",
            ",\n",
            "people\n",
            "world\n",
            "come\n",
            "invaded\n",
            "u\n",
            ",\n",
            "captured\n",
            "land\n",
            ",\n",
            "conquered\n",
            "mind\n",
            ".\n",
            "From\n",
            "Alexander\n",
            "onwards\n",
            ",\n",
            "Greeks\n",
            ",\n",
            "Turks\n",
            ",\n",
            "Moguls\n",
            ",\n",
            "Portuguese\n",
            ",\n",
            "British\n",
            ",\n",
            "French\n",
            ",\n",
            "Dutch\n",
            ",\n",
            "came\n",
            "looted\n",
            "u\n",
            ",\n",
            "took\n",
            ".\n",
            "Yet\n",
            "done\n",
            "nation\n",
            ".\n",
            "We\n",
            "conquered\n",
            "anyone\n",
            ".\n",
            "We\n",
            "grabbed\n",
            "land\n",
            ",\n",
            "culture\n",
            ",\n",
            "history\n",
            "tried\n",
            "enforce\n",
            "way\n",
            "life\n",
            ".\n",
            "Why\n",
            "?\n",
            "Because\n",
            "respect\n",
            "freedom\n",
            "others.That\n",
            "first\n",
            "vision\n",
            "freedom\n",
            ".\n",
            "I\n",
            "believe\n",
            "India\n",
            "got\n",
            "first\n",
            "vision\n",
            "1857\n",
            ",\n",
            "started\n",
            "War\n",
            "Independence\n",
            ".\n",
            "It\n",
            "freedom\n",
            "must\n",
            "protect\n",
            "nurture\n",
            "build\n",
            ".\n",
            "If\n",
            "free\n",
            ",\n",
            "one\n",
            "respect\n",
            "u\n",
            ".\n",
            "My\n",
            "second\n",
            "vision\n",
            "India\n",
            "’\n",
            "development\n",
            ".\n",
            "For\n",
            "fifty\n",
            "year\n",
            "developing\n",
            "nation\n",
            ".\n",
            "It\n",
            "time\n",
            "see\n",
            "developed\n",
            "nation\n",
            ".\n",
            "We\n",
            "among\n",
            "top\n",
            "5\n",
            "nation\n",
            "world\n",
            "term\n",
            "GDP\n",
            ".\n",
            "We\n",
            "10\n",
            "percent\n",
            "growth\n",
            "rate\n",
            "area\n",
            ".\n",
            "Our\n",
            "poverty\n",
            "level\n",
            "falling\n",
            ".\n",
            "Our\n",
            "achievement\n",
            "globally\n",
            "recognised\n",
            "today\n",
            ".\n",
            "Yet\n",
            "lack\n",
            "self-confidence\n",
            "see\n",
            "developed\n",
            "nation\n",
            ",\n",
            "self-reliant\n",
            "self-assured\n",
            ".\n",
            "Isn\n",
            "’\n",
            "incorrect\n",
            "?\n",
            "I\n",
            "third\n",
            "vision\n",
            ".\n",
            "India\n",
            "must\n",
            "stand\n",
            "world\n",
            ".\n",
            "Because\n",
            "I\n",
            "believe\n",
            "unless\n",
            "India\n",
            "stand\n",
            "world\n",
            ",\n",
            "one\n",
            "respect\n",
            "u\n",
            ".\n",
            "Only\n",
            "strength\n",
            "respect\n",
            "strength\n",
            ".\n",
            "We\n",
            "must\n",
            "strong\n",
            "military\n",
            "power\n",
            "also\n",
            "economic\n",
            "power\n",
            ".\n",
            "Both\n",
            "must\n",
            "go\n",
            "hand-in-hand\n",
            ".\n",
            "My\n",
            "good\n",
            "fortune\n",
            "worked\n",
            "three\n",
            "great\n",
            "mind\n",
            ".\n",
            "Dr.\n",
            "Vikram\n",
            "Sarabhai\n",
            "Dept\n",
            ".\n",
            "space\n",
            ",\n",
            "Professor\n",
            "Satish\n",
            "Dhawan\n",
            ",\n",
            "succeeded\n",
            "Dr.\n",
            "Brahm\n",
            "Prakash\n",
            ",\n",
            "father\n",
            "nuclear\n",
            "material\n",
            ".\n",
            "I\n",
            "lucky\n",
            "worked\n",
            "three\n",
            "closely\n",
            "consider\n",
            "great\n",
            "opportunity\n",
            "life\n",
            ".\n",
            "I\n",
            "see\n",
            "four\n",
            "milestone\n",
            "career\n",
            ".\n"
          ]
        }
      ]
    },
    {
      "cell_type": "code",
      "source": [
        "sent_list = nltk.sent_tokenize(paragraph)\n",
        "\n",
        "for i in range(len(sent_list)):\n",
        "  word_list = nltk.word_tokenize(sent_list[i]) # list comprehension, has to go in list only\n",
        "  words = [wnl.lemmatize(word) for word in word_list if word not in set(stopwords.words('english'))]\n",
        "  sent_list[i] = ' '.join(words)\n",
        "  print(sent_list[i])"
      ],
      "metadata": {
        "id": "wsu5JYqtkhCj",
        "colab": {
          "base_uri": "https://localhost:8080/"
        },
        "outputId": "7cb4f42f-00b6-4117-bce3-aefef7498a11"
      },
      "execution_count": null,
      "outputs": [
        {
          "output_type": "stream",
          "name": "stdout",
          "text": [
            "I three vision India .\n",
            "In 3000 year history , people world come invaded u , captured land , conquered mind .\n",
            "From Alexander onwards , Greeks , Turks , Moguls , Portuguese , British , French , Dutch , came looted u , took .\n",
            "Yet done nation .\n",
            "We conquered anyone .\n",
            "We grabbed land , culture , history tried enforce way life .\n",
            "Why ?\n",
            "Because respect freedom others.That first vision freedom .\n",
            "I believe India got first vision 1857 , started War Independence .\n",
            "It freedom must protect nurture build .\n",
            "If free , one respect u .\n",
            "My second vision India ’ development .\n",
            "For fifty year developing nation .\n",
            "It time see developed nation .\n",
            "We among top 5 nation world term GDP .\n",
            "We 10 percent growth rate area .\n",
            "Our poverty level falling .\n",
            "Our achievement globally recognised today .\n",
            "Yet lack self-confidence see developed nation , self-reliant self-assured .\n",
            "Isn ’ incorrect ?\n",
            "I third vision .\n",
            "India must stand world .\n",
            "Because I believe unless India stand world , one respect u .\n",
            "Only strength respect strength .\n",
            "We must strong military power also economic power .\n",
            "Both must go hand-in-hand .\n",
            "My good fortune worked three great mind .\n",
            "Dr. Vikram Sarabhai Dept .\n",
            "space , Professor Satish Dhawan , succeeded Dr. Brahm Prakash , father nuclear material .\n",
            "I lucky worked three closely consider great opportunity life .\n",
            "I see four milestone career .\n"
          ]
        }
      ]
    }
  ]
}