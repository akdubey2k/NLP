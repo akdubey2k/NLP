{
  "nbformat": 4,
  "nbformat_minor": 0,
  "metadata": {
    "colab": {
      "provenance": []
    },
    "kernelspec": {
      "name": "python3",
      "display_name": "Python 3"
    },
    "language_info": {
      "name": "python"
    }
  },
  "cells": [
    {
      "cell_type": "markdown",
      "source": [
        "# 1. Introduction\n",
        "A **Fake News Classifier** is a machine learning model designed to distinguish between **real** and **fake** news articles. Using datasets from platforms like **Kaggle**, these classifiers are trained on labeled data to learn patterns and features that differentiate authentic news from fabricated ones.\n",
        "\n",
        "**Thanks to:**\n",
        "* [Fake News Classification](https://www.kaggle.com/datasets/saurabhshahane/fake-news-classification)\n",
        "* [Fake News Classifier](https://www.kaggle.com/code/hassanamin/fake-news-classifier)\n"
      ],
      "metadata": {
        "id": "F0zE4VUkLKva"
      }
    },
    {
      "cell_type": "code",
      "execution_count": null,
      "metadata": {
        "id": "ePeZnz_dKUam"
      },
      "outputs": [],
      "source": []
    }
  ]
}