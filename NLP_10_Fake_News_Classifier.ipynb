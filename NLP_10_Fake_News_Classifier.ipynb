{
  "nbformat": 4,
  "nbformat_minor": 0,
  "metadata": {
    "colab": {
      "provenance": []
    },
    "kernelspec": {
      "name": "python3",
      "display_name": "Python 3"
    },
    "language_info": {
      "name": "python"
    }
  },
  "cells": [
    {
      "cell_type": "markdown",
      "source": [
        "# 1. Introduction\n",
        "Implementation of a **Fake News Classifier** using Scikit-learn library from **Kaggle** and applies a **Multinomial Naive Bayes** classifier.\n",
        "\n",
        "**Thanks to:**\n",
        "* [Fake News Classification](https://www.kaggle.com/datasets/saurabhshahane/fake-news-classification)\n",
        "* [Fake News Classifier](https://www.kaggle.com/code/hassanamin/fake-news-classifier)\n"
      ],
      "metadata": {
        "id": "F0zE4VUkLKva"
      }
    },
    {
      "cell_type": "markdown",
      "source": [
        "## 1.1 Definition\n",
        "A **Fake News Classifier** is a machine learning model designed to distinguish between **real** and **fake** news articles. Using datasets from platforms like **Kaggle**, these classifiers are trained on labeled data to learn patterns and features that differentiate authentic news from fabricated ones.\n"
      ],
      "metadata": {
        "id": "Sg5Bs-ksO2YS"
      }
    },
    {
      "cell_type": "markdown",
      "source": [
        "# 2. Install required libraries"
      ],
      "metadata": {
        "id": "o6A94joXP3_u"
      }
    },
    {
      "cell_type": "code",
      "execution_count": 1,
      "metadata": {
        "colab": {
          "base_uri": "https://localhost:8080/"
        },
        "id": "ePeZnz_dKUam",
        "outputId": "f4d4abd0-e0b8-4808-8df7-7b9ccb15d383"
      },
      "outputs": [
        {
          "output_type": "stream",
          "name": "stdout",
          "text": [
            "Requirement already satisfied: pandas in /usr/local/lib/python3.10/dist-packages (2.1.4)\n",
            "Requirement already satisfied: numpy in /usr/local/lib/python3.10/dist-packages (1.26.4)\n",
            "Requirement already satisfied: scikit-learn in /usr/local/lib/python3.10/dist-packages (1.5.2)\n",
            "Requirement already satisfied: python-dateutil>=2.8.2 in /usr/local/lib/python3.10/dist-packages (from pandas) (2.8.2)\n",
            "Requirement already satisfied: pytz>=2020.1 in /usr/local/lib/python3.10/dist-packages (from pandas) (2024.2)\n",
            "Requirement already satisfied: tzdata>=2022.1 in /usr/local/lib/python3.10/dist-packages (from pandas) (2024.1)\n",
            "Requirement already satisfied: scipy>=1.6.0 in /usr/local/lib/python3.10/dist-packages (from scikit-learn) (1.13.1)\n",
            "Requirement already satisfied: joblib>=1.2.0 in /usr/local/lib/python3.10/dist-packages (from scikit-learn) (1.4.2)\n",
            "Requirement already satisfied: threadpoolctl>=3.1.0 in /usr/local/lib/python3.10/dist-packages (from scikit-learn) (3.5.0)\n",
            "Requirement already satisfied: six>=1.5 in /usr/local/lib/python3.10/dist-packages (from python-dateutil>=2.8.2->pandas) (1.16.0)\n"
          ]
        }
      ],
      "source": [
        "!pip install pandas numpy scikit-learn"
      ]
    },
    {
      "cell_type": "markdown",
      "source": [
        "# 3. Import libraries"
      ],
      "metadata": {
        "id": "7o-wTlflQ1gS"
      }
    },
    {
      "cell_type": "code",
      "source": [
        "import pandas as pd\n",
        "import numpy as np\n",
        "from sklearn.model_selection import train_test_split\n",
        "from sklearn.feature_extraction.text import TfidfVectorizer\n",
        "from sklearn.naive_bayes import MultinomialNB\n",
        "from sklearn.metrics import accuracy_score, confusion_matrix, classification_report"
      ],
      "metadata": {
        "id": "Ha1eanMWRJ3J"
      },
      "execution_count": 2,
      "outputs": []
    }
  ]
}