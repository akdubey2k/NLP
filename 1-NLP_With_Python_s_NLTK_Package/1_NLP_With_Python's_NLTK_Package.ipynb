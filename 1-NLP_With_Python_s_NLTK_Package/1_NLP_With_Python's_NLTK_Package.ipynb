{
  "nbformat": 4,
  "nbformat_minor": 0,
  "metadata": {
    "colab": {
      "name": "1-NLP_With_Python's_NLTK_Package.ipynb",
      "provenance": [],
      "collapsed_sections": []
    },
    "kernelspec": {
      "name": "python3",
      "display_name": "Python 3"
    },
    "language_info": {
      "name": "python"
    }
  },
  "cells": [
    {
      "cell_type": "markdown",
      "source": [
        "# Natural Language Processing With Python's NLTK Package\n",
        "\n",
        "Credit: https://realpython.com/nltk-nlp-python/\n"
      ],
      "metadata": {
        "id": "A2pA5PJY8Arf"
      }
    },
    {
      "cell_type": "code",
      "source": [
        "### CREATE VIRTUAL DISPLAY ###\n",
        "!apt-get install -y xvfb # Install X Virtual Frame Buffer\n",
        "import os\n",
        "os.system('Xvfb :1 -screen 0 1600x1200x16  &')    # create virtual display with size 1600x1200 and 16 bit color. Color can be changed to 24 or 8\n",
        "os.environ['DISPLAY']=':1.0'    # tell X clients to use our virtual DISPLAY :1.0.\n",
        "%matplotlib inline\n",
        "### INSTALL GHOSTSCRIPT (Required to display NLTK trees) ###\n",
        "!apt install ghostscript python3-tk"
      ],
      "metadata": {
        "colab": {
          "base_uri": "https://localhost:8080/"
        },
        "id": "w6cZWqy6RiUX",
        "outputId": "bf6825a5-5a70-456d-ea2b-6c7e6e9fd6f8"
      },
      "execution_count": 1,
      "outputs": [
        {
          "output_type": "stream",
          "name": "stdout",
          "text": [
            "Reading package lists... Done\n",
            "Building dependency tree       \n",
            "Reading state information... Done\n",
            "xvfb is already the newest version (2:1.19.6-1ubuntu4.10).\n",
            "The following package was automatically installed and is no longer required:\n",
            "  libnvidia-common-470\n",
            "Use 'apt autoremove' to remove it.\n",
            "0 upgraded, 0 newly installed, 0 to remove and 39 not upgraded.\n",
            "Reading package lists... Done\n",
            "Building dependency tree       \n",
            "Reading state information... Done\n",
            "ghostscript is already the newest version (9.26~dfsg+0-0ubuntu0.18.04.15).\n",
            "python3-tk is already the newest version (3.6.9-1~18.04).\n",
            "The following package was automatically installed and is no longer required:\n",
            "  libnvidia-common-470\n",
            "Use 'apt autoremove' to remove it.\n",
            "0 upgraded, 0 newly installed, 0 to remove and 39 not upgraded.\n"
          ]
        }
      ]
    },
    {
      "cell_type": "code",
      "execution_count": 2,
      "metadata": {
        "colab": {
          "base_uri": "https://localhost:8080/"
        },
        "id": "HPSP1gTT7_lN",
        "outputId": "aeead5ef-3666-4fd1-a2d1-020e3ac4dfc9"
      },
      "outputs": [
        {
          "output_type": "stream",
          "name": "stdout",
          "text": [
            "[nltk_data] Downloading package punkt to /root/nltk_data...\n",
            "[nltk_data]   Package punkt is already up-to-date!\n"
          ]
        },
        {
          "output_type": "execute_result",
          "data": {
            "text/plain": [
              "True"
            ]
          },
          "metadata": {},
          "execution_count": 2
        }
      ],
      "source": [
        "import nltk\n",
        "from nltk.tokenize import sent_tokenize, word_tokenize\n",
        "nltk.download('punkt')"
      ]
    },
    {
      "cell_type": "markdown",
      "source": [
        "## Sentence & Word tokenization"
      ],
      "metadata": {
        "id": "vW2B_arwHaRX"
      }
    },
    {
      "cell_type": "code",
      "source": [
        "example_string = \"\"\"Muad'Dib learned rapidly because his first training was in how to learn.\n",
        "And the first lesson of all was the basic trust that he could learn.\n",
        "It's shocking to find how many people do not believe they can learn,and how many more believe learning to be difficult.\n",
        "\"\"\""
      ],
      "metadata": {
        "id": "U6Re6rOsBvDt"
      },
      "execution_count": 3,
      "outputs": []
    },
    {
      "cell_type": "markdown",
      "source": [
        "## Split up the \"example_string\" into sentences:"
      ],
      "metadata": {
        "id": "8jBdMaALCMPB"
      }
    },
    {
      "cell_type": "code",
      "source": [
        "sent_tokenize(example_string)"
      ],
      "metadata": {
        "colab": {
          "base_uri": "https://localhost:8080/"
        },
        "id": "RNN_vISuCCv_",
        "outputId": "8f3d9eaa-9bf3-4fd0-9a44-f2f3db0fadb1"
      },
      "execution_count": 4,
      "outputs": [
        {
          "output_type": "execute_result",
          "data": {
            "text/plain": [
              "[\"Muad'Dib learned rapidly because his first training was in how to learn.\",\n",
              " 'And the first lesson of all was the basic trust that he could learn.',\n",
              " \"It's shocking to find how many people do not believe they can learn,and how many more believe learning to be difficult.\"]"
            ]
          },
          "metadata": {},
          "execution_count": 4
        }
      ]
    },
    {
      "cell_type": "markdown",
      "source": [
        "#### Tokenizing **example_string** by sentence gives you a list of three strings that are sentences:"
      ],
      "metadata": {
        "id": "SD0L_auZD_qb"
      }
    },
    {
      "cell_type": "markdown",
      "source": [
        "## Tokenizing \"example_string\" by word:"
      ],
      "metadata": {
        "id": "Z8tnq_DWDriG"
      }
    },
    {
      "cell_type": "code",
      "source": [
        "word_tokenize(example_string)"
      ],
      "metadata": {
        "colab": {
          "base_uri": "https://localhost:8080/"
        },
        "id": "8GQmuQ-mDdcY",
        "outputId": "3ae2edad-b429-4968-ef3c-cd96ca7e8446"
      },
      "execution_count": 5,
      "outputs": [
        {
          "output_type": "execute_result",
          "data": {
            "text/plain": [
              "[\"Muad'Dib\",\n",
              " 'learned',\n",
              " 'rapidly',\n",
              " 'because',\n",
              " 'his',\n",
              " 'first',\n",
              " 'training',\n",
              " 'was',\n",
              " 'in',\n",
              " 'how',\n",
              " 'to',\n",
              " 'learn',\n",
              " '.',\n",
              " 'And',\n",
              " 'the',\n",
              " 'first',\n",
              " 'lesson',\n",
              " 'of',\n",
              " 'all',\n",
              " 'was',\n",
              " 'the',\n",
              " 'basic',\n",
              " 'trust',\n",
              " 'that',\n",
              " 'he',\n",
              " 'could',\n",
              " 'learn',\n",
              " '.',\n",
              " 'It',\n",
              " \"'s\",\n",
              " 'shocking',\n",
              " 'to',\n",
              " 'find',\n",
              " 'how',\n",
              " 'many',\n",
              " 'people',\n",
              " 'do',\n",
              " 'not',\n",
              " 'believe',\n",
              " 'they',\n",
              " 'can',\n",
              " 'learn',\n",
              " ',',\n",
              " 'and',\n",
              " 'how',\n",
              " 'many',\n",
              " 'more',\n",
              " 'believe',\n",
              " 'learning',\n",
              " 'to',\n",
              " 'be',\n",
              " 'difficult',\n",
              " '.']"
            ]
          },
          "metadata": {},
          "execution_count": 5
        }
      ]
    },
    {
      "cell_type": "markdown",
      "source": [
        "## Filter Stop Words"
      ],
      "metadata": {
        "id": "TMMZIaOrHvEH"
      }
    },
    {
      "cell_type": "code",
      "source": [
        "nltk.download('stopwords')\n",
        "from nltk.corpus import stopwords"
      ],
      "metadata": {
        "colab": {
          "base_uri": "https://localhost:8080/"
        },
        "id": "5ScITQ41HkKY",
        "outputId": "aeceddb5-4dcf-46e2-9822-c99a66b8d222"
      },
      "execution_count": 6,
      "outputs": [
        {
          "output_type": "stream",
          "name": "stdout",
          "text": [
            "[nltk_data] Downloading package stopwords to /root/nltk_data...\n",
            "[nltk_data]   Package stopwords is already up-to-date!\n"
          ]
        }
      ]
    },
    {
      "cell_type": "code",
      "source": [
        "worf_quote = \"Sir, I protest. I am not a merry man!\""
      ],
      "metadata": {
        "id": "e6vjmLyIH6u3"
      },
      "execution_count": 7,
      "outputs": []
    },
    {
      "cell_type": "code",
      "source": [
        "word_in_quote = word_tokenize(worf_quote)\n",
        "word_in_quote"
      ],
      "metadata": {
        "colab": {
          "base_uri": "https://localhost:8080/"
        },
        "id": "VhEZcuC0IjGu",
        "outputId": "796c6ab1-5a2a-444c-e7e4-83aff843d956"
      },
      "execution_count": 8,
      "outputs": [
        {
          "output_type": "execute_result",
          "data": {
            "text/plain": [
              "['Sir', ',', 'I', 'protest', '.', 'I', 'am', 'not', 'a', 'merry', 'man', '!']"
            ]
          },
          "metadata": {},
          "execution_count": 8
        }
      ]
    },
    {
      "cell_type": "markdown",
      "source": [
        "### Create a set of stop words, focus on stop words in \"english\":"
      ],
      "metadata": {
        "id": "kgrNdfY2JEpT"
      }
    },
    {
      "cell_type": "code",
      "source": [
        "stop_words = set(stopwords.words('english'))\n",
        "stop_words"
      ],
      "metadata": {
        "colab": {
          "base_uri": "https://localhost:8080/"
        },
        "id": "cTkNuZiZI4v0",
        "outputId": "1d970021-396c-4b70-dc97-84b6fc3ca5ac"
      },
      "execution_count": 9,
      "outputs": [
        {
          "output_type": "execute_result",
          "data": {
            "text/plain": [
              "{'a',\n",
              " 'about',\n",
              " 'above',\n",
              " 'after',\n",
              " 'again',\n",
              " 'against',\n",
              " 'ain',\n",
              " 'all',\n",
              " 'am',\n",
              " 'an',\n",
              " 'and',\n",
              " 'any',\n",
              " 'are',\n",
              " 'aren',\n",
              " \"aren't\",\n",
              " 'as',\n",
              " 'at',\n",
              " 'be',\n",
              " 'because',\n",
              " 'been',\n",
              " 'before',\n",
              " 'being',\n",
              " 'below',\n",
              " 'between',\n",
              " 'both',\n",
              " 'but',\n",
              " 'by',\n",
              " 'can',\n",
              " 'couldn',\n",
              " \"couldn't\",\n",
              " 'd',\n",
              " 'did',\n",
              " 'didn',\n",
              " \"didn't\",\n",
              " 'do',\n",
              " 'does',\n",
              " 'doesn',\n",
              " \"doesn't\",\n",
              " 'doing',\n",
              " 'don',\n",
              " \"don't\",\n",
              " 'down',\n",
              " 'during',\n",
              " 'each',\n",
              " 'few',\n",
              " 'for',\n",
              " 'from',\n",
              " 'further',\n",
              " 'had',\n",
              " 'hadn',\n",
              " \"hadn't\",\n",
              " 'has',\n",
              " 'hasn',\n",
              " \"hasn't\",\n",
              " 'have',\n",
              " 'haven',\n",
              " \"haven't\",\n",
              " 'having',\n",
              " 'he',\n",
              " 'her',\n",
              " 'here',\n",
              " 'hers',\n",
              " 'herself',\n",
              " 'him',\n",
              " 'himself',\n",
              " 'his',\n",
              " 'how',\n",
              " 'i',\n",
              " 'if',\n",
              " 'in',\n",
              " 'into',\n",
              " 'is',\n",
              " 'isn',\n",
              " \"isn't\",\n",
              " 'it',\n",
              " \"it's\",\n",
              " 'its',\n",
              " 'itself',\n",
              " 'just',\n",
              " 'll',\n",
              " 'm',\n",
              " 'ma',\n",
              " 'me',\n",
              " 'mightn',\n",
              " \"mightn't\",\n",
              " 'more',\n",
              " 'most',\n",
              " 'mustn',\n",
              " \"mustn't\",\n",
              " 'my',\n",
              " 'myself',\n",
              " 'needn',\n",
              " \"needn't\",\n",
              " 'no',\n",
              " 'nor',\n",
              " 'not',\n",
              " 'now',\n",
              " 'o',\n",
              " 'of',\n",
              " 'off',\n",
              " 'on',\n",
              " 'once',\n",
              " 'only',\n",
              " 'or',\n",
              " 'other',\n",
              " 'our',\n",
              " 'ours',\n",
              " 'ourselves',\n",
              " 'out',\n",
              " 'over',\n",
              " 'own',\n",
              " 're',\n",
              " 's',\n",
              " 'same',\n",
              " 'shan',\n",
              " \"shan't\",\n",
              " 'she',\n",
              " \"she's\",\n",
              " 'should',\n",
              " \"should've\",\n",
              " 'shouldn',\n",
              " \"shouldn't\",\n",
              " 'so',\n",
              " 'some',\n",
              " 'such',\n",
              " 't',\n",
              " 'than',\n",
              " 'that',\n",
              " \"that'll\",\n",
              " 'the',\n",
              " 'their',\n",
              " 'theirs',\n",
              " 'them',\n",
              " 'themselves',\n",
              " 'then',\n",
              " 'there',\n",
              " 'these',\n",
              " 'they',\n",
              " 'this',\n",
              " 'those',\n",
              " 'through',\n",
              " 'to',\n",
              " 'too',\n",
              " 'under',\n",
              " 'until',\n",
              " 'up',\n",
              " 've',\n",
              " 'very',\n",
              " 'was',\n",
              " 'wasn',\n",
              " \"wasn't\",\n",
              " 'we',\n",
              " 'were',\n",
              " 'weren',\n",
              " \"weren't\",\n",
              " 'what',\n",
              " 'when',\n",
              " 'where',\n",
              " 'which',\n",
              " 'while',\n",
              " 'who',\n",
              " 'whom',\n",
              " 'why',\n",
              " 'will',\n",
              " 'with',\n",
              " 'won',\n",
              " \"won't\",\n",
              " 'wouldn',\n",
              " \"wouldn't\",\n",
              " 'y',\n",
              " 'you',\n",
              " \"you'd\",\n",
              " \"you'll\",\n",
              " \"you're\",\n",
              " \"you've\",\n",
              " 'your',\n",
              " 'yours',\n",
              " 'yourself',\n",
              " 'yourselves'}"
            ]
          },
          "metadata": {},
          "execution_count": 9
        }
      ]
    },
    {
      "cell_type": "markdown",
      "source": [
        "#### empty list to hold the words that make it past the filter:"
      ],
      "metadata": {
        "id": "iPRq04FvJuUQ"
      }
    },
    {
      "cell_type": "code",
      "source": [
        "filtered_list = []"
      ],
      "metadata": {
        "id": "WLEHJoOBJmm5"
      },
      "execution_count": 10,
      "outputs": []
    },
    {
      "cell_type": "markdown",
      "source": [
        "#### hold all the words in **words_in_quote** that aren’t stop words. "
      ],
      "metadata": {
        "id": "p2-HfoHqJ-hl"
      }
    },
    {
      "cell_type": "code",
      "source": [
        "for word in word_in_quote:\n",
        "  if word.casefold not in stop_words:\n",
        "    filtered_list.append(word)\n",
        "\n",
        "filtered_list "
      ],
      "metadata": {
        "colab": {
          "base_uri": "https://localhost:8080/"
        },
        "id": "1p61QBRcKDE7",
        "outputId": "9903478a-3e41-45fa-f93b-4ce597365458"
      },
      "execution_count": 11,
      "outputs": [
        {
          "output_type": "execute_result",
          "data": {
            "text/plain": [
              "['Sir', ',', 'I', 'protest', '.', 'I', 'am', 'not', 'a', 'merry', 'man', '!']"
            ]
          },
          "metadata": {},
          "execution_count": 11
        }
      ]
    },
    {
      "cell_type": "markdown",
      "source": [
        "#### A **list comprehension** to make a list of all the words in your text that aren’t stop words:\n",
        "\n",
        "When you use a **list comprehension**, you don’t *create an empty list and then add items to the end of it*. Instead, you define the list and its\n",
        "contents at the same time. Using a **list comprehension** is often seen as \n",
        "more Pythonic."
      ],
      "metadata": {
        "id": "yBbl4FsuK80J"
      }
    },
    {
      "cell_type": "code",
      "source": [
        "filtered_list = [word for word in word_in_quote  if word.casefold not in stop_words]\n",
        "filtered_list"
      ],
      "metadata": {
        "colab": {
          "base_uri": "https://localhost:8080/"
        },
        "id": "urBNZKfpLHzD",
        "outputId": "aab1f07e-9fb3-4b38-d8b2-699ceaa8eb66"
      },
      "execution_count": 12,
      "outputs": [
        {
          "output_type": "execute_result",
          "data": {
            "text/plain": [
              "['Sir', ',', 'I', 'protest', '.', 'I', 'am', 'not', 'a', 'merry', 'man', '!']"
            ]
          },
          "metadata": {},
          "execution_count": 12
        }
      ]
    },
    {
      "cell_type": "markdown",
      "source": [
        "# Stemming\n",
        "#### Stemming is a text processing task in which you reduce words to their root, which is the core part of a word."
      ],
      "metadata": {
        "id": "zUk_O1ulOzBi"
      }
    },
    {
      "cell_type": "code",
      "source": [
        "from nltk.stem import PorterStemmer"
      ],
      "metadata": {
        "id": "gsSnUoUZO3y3"
      },
      "execution_count": 13,
      "outputs": []
    },
    {
      "cell_type": "markdown",
      "source": [
        "### create a **stemmer** with PorterStemmer():"
      ],
      "metadata": {
        "id": "9jX1_DExPzRQ"
      }
    },
    {
      "cell_type": "code",
      "source": [
        "stemmer = PorterStemmer()"
      ],
      "metadata": {
        "id": "U8Aqpe7zP3sa"
      },
      "execution_count": 14,
      "outputs": []
    },
    {
      "cell_type": "code",
      "source": [
        "string_for_stemming = \"\"\"\n",
        "... The crew of the USS Discovery discovered many discoveries.\n",
        "... Discovering is what explorers do.\"\"\""
      ],
      "metadata": {
        "id": "9OtboRmCP9OY"
      },
      "execution_count": 15,
      "outputs": []
    },
    {
      "cell_type": "code",
      "source": [
        "words = word_tokenize(string_for_stemming)\n",
        "words\n"
      ],
      "metadata": {
        "colab": {
          "base_uri": "https://localhost:8080/"
        },
        "id": "iPv_5sXNQIBF",
        "outputId": "76beb46e-c50c-48e5-fa99-c3005468ea83"
      },
      "execution_count": 16,
      "outputs": [
        {
          "output_type": "execute_result",
          "data": {
            "text/plain": [
              "['The',\n",
              " 'crew',\n",
              " 'of',\n",
              " 'the',\n",
              " 'USS',\n",
              " 'Discovery',\n",
              " 'discovered',\n",
              " 'many',\n",
              " 'discoveries',\n",
              " '.',\n",
              " 'Discovering',\n",
              " 'is',\n",
              " 'what',\n",
              " 'explorers',\n",
              " 'do',\n",
              " '.']"
            ]
          },
          "metadata": {},
          "execution_count": 16
        }
      ]
    },
    {
      "cell_type": "code",
      "source": [
        "stemmed_words = [stemmer.stem(word) for word in words]\n",
        "stemmed_words"
      ],
      "metadata": {
        "colab": {
          "base_uri": "https://localhost:8080/"
        },
        "id": "QQ8TcDZvRycu",
        "outputId": "e478cdbf-ee50-4e2c-d857-3d8e7a8f6eca"
      },
      "execution_count": 17,
      "outputs": [
        {
          "output_type": "execute_result",
          "data": {
            "text/plain": [
              "['the',\n",
              " 'crew',\n",
              " 'of',\n",
              " 'the',\n",
              " 'uss',\n",
              " 'discoveri',\n",
              " 'discov',\n",
              " 'mani',\n",
              " 'discoveri',\n",
              " '.',\n",
              " 'discov',\n",
              " 'is',\n",
              " 'what',\n",
              " 'explor',\n",
              " 'do',\n",
              " '.']"
            ]
          },
          "metadata": {},
          "execution_count": 17
        }
      ]
    },
    {
      "cell_type": "markdown",
      "source": [
        "![image.png](data:image/png;base64,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)\n",
        "### **Understemming** and **overstemming** are two ways stemming can go wrong:\n",
        "\n",
        "**Understemming** happens when two related words should be reduced to the same stem but aren’t. This is a **false negative**.\n",
        "\n",
        "**Overstemming** happens when two unrelated words are reduced to the same stem even though they shouldn’t be. This is a **false positive**."
      ],
      "metadata": {
        "id": "e35fkPV9S443"
      }
    },
    {
      "cell_type": "markdown",
      "source": [
        "## Tagging Parts of Speech\n",
        "**Part of speech** is a grammatical term that deals with the roles words play when you use them together in sentences. Tagging parts of speech, or **POS** tagging, is the task of labeling the words in your text according to their part of speech.\n",
        "![image.png](data:image/png;base64,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)"
      ],
      "metadata": {
        "id": "BszUeWciTXSL"
      }
    },
    {
      "cell_type": "code",
      "source": [
        "sagan_quote = \"\"\"\n",
        "... If you wish to make an apple pie from scratch,\n",
        "... you must first invent the universe.\"\"\""
      ],
      "metadata": {
        "id": "jZ5A80OuThqC"
      },
      "execution_count": 18,
      "outputs": []
    },
    {
      "cell_type": "code",
      "source": [
        "words_in_sagan_quote = word_tokenize(sagan_quote)\n",
        "words_in_sagan_quote"
      ],
      "metadata": {
        "colab": {
          "base_uri": "https://localhost:8080/"
        },
        "id": "y-11-q_uV_s2",
        "outputId": "b7251d73-c057-4c6b-d63f-d8a432060c85"
      },
      "execution_count": 19,
      "outputs": [
        {
          "output_type": "execute_result",
          "data": {
            "text/plain": [
              "['If',\n",
              " 'you',\n",
              " 'wish',\n",
              " 'to',\n",
              " 'make',\n",
              " 'an',\n",
              " 'apple',\n",
              " 'pie',\n",
              " 'from',\n",
              " 'scratch',\n",
              " ',',\n",
              " 'you',\n",
              " 'must',\n",
              " 'first',\n",
              " 'invent',\n",
              " 'the',\n",
              " 'universe',\n",
              " '.']"
            ]
          },
          "metadata": {},
          "execution_count": 19
        }
      ]
    },
    {
      "cell_type": "code",
      "source": [
        "nltk.download('averaged_perceptron_tagger')\n",
        "nltk.pos_tag(words_in_sagan_quote)"
      ],
      "metadata": {
        "colab": {
          "base_uri": "https://localhost:8080/"
        },
        "id": "aldBwyKVWaGu",
        "outputId": "5725867d-bdaa-4f3d-cee1-d54ba27108ff"
      },
      "execution_count": 20,
      "outputs": [
        {
          "output_type": "stream",
          "name": "stdout",
          "text": [
            "[nltk_data] Downloading package averaged_perceptron_tagger to\n",
            "[nltk_data]     /root/nltk_data...\n",
            "[nltk_data]   Package averaged_perceptron_tagger is already up-to-\n",
            "[nltk_data]       date!\n"
          ]
        },
        {
          "output_type": "execute_result",
          "data": {
            "text/plain": [
              "[('If', 'IN'),\n",
              " ('you', 'PRP'),\n",
              " ('wish', 'VBP'),\n",
              " ('to', 'TO'),\n",
              " ('make', 'VB'),\n",
              " ('an', 'DT'),\n",
              " ('apple', 'NN'),\n",
              " ('pie', 'NN'),\n",
              " ('from', 'IN'),\n",
              " ('scratch', 'NN'),\n",
              " (',', ','),\n",
              " ('you', 'PRP'),\n",
              " ('must', 'MD'),\n",
              " ('first', 'VB'),\n",
              " ('invent', 'VB'),\n",
              " ('the', 'DT'),\n",
              " ('universe', 'NN'),\n",
              " ('.', '.')]"
            ]
          },
          "metadata": {},
          "execution_count": 20
        }
      ]
    },
    {
      "cell_type": "markdown",
      "source": [
        "All the words in the quote are now in a separate **tuple**, with a tag that represents their **part of speech (pos)**. But what do the tags mean? Here’s how to get a list of tags and their meanings:"
      ],
      "metadata": {
        "id": "Nk4feJVCXAOB"
      }
    },
    {
      "cell_type": "code",
      "source": [
        "nltk.download('tagsets')\n",
        "nltk.help.upenn_tagset()"
      ],
      "metadata": {
        "colab": {
          "base_uri": "https://localhost:8080/"
        },
        "id": "pEtf1TxZXKWz",
        "outputId": "f509b8c8-75e3-429e-d8c4-20f38bbcd66b"
      },
      "execution_count": 21,
      "outputs": [
        {
          "output_type": "stream",
          "name": "stdout",
          "text": [
            "[nltk_data] Downloading package tagsets to /root/nltk_data...\n",
            "[nltk_data]   Package tagsets is already up-to-date!\n",
            "$: dollar\n",
            "    $ -$ --$ A$ C$ HK$ M$ NZ$ S$ U.S.$ US$\n",
            "'': closing quotation mark\n",
            "    ' ''\n",
            "(: opening parenthesis\n",
            "    ( [ {\n",
            "): closing parenthesis\n",
            "    ) ] }\n",
            ",: comma\n",
            "    ,\n",
            "--: dash\n",
            "    --\n",
            ".: sentence terminator\n",
            "    . ! ?\n",
            ":: colon or ellipsis\n",
            "    : ; ...\n",
            "CC: conjunction, coordinating\n",
            "    & 'n and both but either et for less minus neither nor or plus so\n",
            "    therefore times v. versus vs. whether yet\n",
            "CD: numeral, cardinal\n",
            "    mid-1890 nine-thirty forty-two one-tenth ten million 0.5 one forty-\n",
            "    seven 1987 twenty '79 zero two 78-degrees eighty-four IX '60s .025\n",
            "    fifteen 271,124 dozen quintillion DM2,000 ...\n",
            "DT: determiner\n",
            "    all an another any both del each either every half la many much nary\n",
            "    neither no some such that the them these this those\n",
            "EX: existential there\n",
            "    there\n",
            "FW: foreign word\n",
            "    gemeinschaft hund ich jeux habeas Haementeria Herr K'ang-si vous\n",
            "    lutihaw alai je jour objets salutaris fille quibusdam pas trop Monte\n",
            "    terram fiche oui corporis ...\n",
            "IN: preposition or conjunction, subordinating\n",
            "    astride among uppon whether out inside pro despite on by throughout\n",
            "    below within for towards near behind atop around if like until below\n",
            "    next into if beside ...\n",
            "JJ: adjective or numeral, ordinal\n",
            "    third ill-mannered pre-war regrettable oiled calamitous first separable\n",
            "    ectoplasmic battery-powered participatory fourth still-to-be-named\n",
            "    multilingual multi-disciplinary ...\n",
            "JJR: adjective, comparative\n",
            "    bleaker braver breezier briefer brighter brisker broader bumper busier\n",
            "    calmer cheaper choosier cleaner clearer closer colder commoner costlier\n",
            "    cozier creamier crunchier cuter ...\n",
            "JJS: adjective, superlative\n",
            "    calmest cheapest choicest classiest cleanest clearest closest commonest\n",
            "    corniest costliest crassest creepiest crudest cutest darkest deadliest\n",
            "    dearest deepest densest dinkiest ...\n",
            "LS: list item marker\n",
            "    A A. B B. C C. D E F First G H I J K One SP-44001 SP-44002 SP-44005\n",
            "    SP-44007 Second Third Three Two * a b c d first five four one six three\n",
            "    two\n",
            "MD: modal auxiliary\n",
            "    can cannot could couldn't dare may might must need ought shall should\n",
            "    shouldn't will would\n",
            "NN: noun, common, singular or mass\n",
            "    common-carrier cabbage knuckle-duster Casino afghan shed thermostat\n",
            "    investment slide humour falloff slick wind hyena override subhumanity\n",
            "    machinist ...\n",
            "NNP: noun, proper, singular\n",
            "    Motown Venneboerger Czestochwa Ranzer Conchita Trumplane Christos\n",
            "    Oceanside Escobar Kreisler Sawyer Cougar Yvette Ervin ODI Darryl CTCA\n",
            "    Shannon A.K.C. Meltex Liverpool ...\n",
            "NNPS: noun, proper, plural\n",
            "    Americans Americas Amharas Amityvilles Amusements Anarcho-Syndicalists\n",
            "    Andalusians Andes Andruses Angels Animals Anthony Antilles Antiques\n",
            "    Apache Apaches Apocrypha ...\n",
            "NNS: noun, common, plural\n",
            "    undergraduates scotches bric-a-brac products bodyguards facets coasts\n",
            "    divestitures storehouses designs clubs fragrances averages\n",
            "    subjectivists apprehensions muses factory-jobs ...\n",
            "PDT: pre-determiner\n",
            "    all both half many quite such sure this\n",
            "POS: genitive marker\n",
            "    ' 's\n",
            "PRP: pronoun, personal\n",
            "    hers herself him himself hisself it itself me myself one oneself ours\n",
            "    ourselves ownself self she thee theirs them themselves they thou thy us\n",
            "PRP$: pronoun, possessive\n",
            "    her his mine my our ours their thy your\n",
            "RB: adverb\n",
            "    occasionally unabatingly maddeningly adventurously professedly\n",
            "    stirringly prominently technologically magisterially predominately\n",
            "    swiftly fiscally pitilessly ...\n",
            "RBR: adverb, comparative\n",
            "    further gloomier grander graver greater grimmer harder harsher\n",
            "    healthier heavier higher however larger later leaner lengthier less-\n",
            "    perfectly lesser lonelier longer louder lower more ...\n",
            "RBS: adverb, superlative\n",
            "    best biggest bluntest earliest farthest first furthest hardest\n",
            "    heartiest highest largest least less most nearest second tightest worst\n",
            "RP: particle\n",
            "    aboard about across along apart around aside at away back before behind\n",
            "    by crop down ever fast for forth from go high i.e. in into just later\n",
            "    low more off on open out over per pie raising start teeth that through\n",
            "    under unto up up-pp upon whole with you\n",
            "SYM: symbol\n",
            "    % & ' '' ''. ) ). * + ,. < = > @ A[fj] U.S U.S.S.R * ** ***\n",
            "TO: \"to\" as preposition or infinitive marker\n",
            "    to\n",
            "UH: interjection\n",
            "    Goodbye Goody Gosh Wow Jeepers Jee-sus Hubba Hey Kee-reist Oops amen\n",
            "    huh howdy uh dammit whammo shucks heck anyways whodunnit honey golly\n",
            "    man baby diddle hush sonuvabitch ...\n",
            "VB: verb, base form\n",
            "    ask assemble assess assign assume atone attention avoid bake balkanize\n",
            "    bank begin behold believe bend benefit bevel beware bless boil bomb\n",
            "    boost brace break bring broil brush build ...\n",
            "VBD: verb, past tense\n",
            "    dipped pleaded swiped regummed soaked tidied convened halted registered\n",
            "    cushioned exacted snubbed strode aimed adopted belied figgered\n",
            "    speculated wore appreciated contemplated ...\n",
            "VBG: verb, present participle or gerund\n",
            "    telegraphing stirring focusing angering judging stalling lactating\n",
            "    hankerin' alleging veering capping approaching traveling besieging\n",
            "    encrypting interrupting erasing wincing ...\n",
            "VBN: verb, past participle\n",
            "    multihulled dilapidated aerosolized chaired languished panelized used\n",
            "    experimented flourished imitated reunifed factored condensed sheared\n",
            "    unsettled primed dubbed desired ...\n",
            "VBP: verb, present tense, not 3rd person singular\n",
            "    predominate wrap resort sue twist spill cure lengthen brush terminate\n",
            "    appear tend stray glisten obtain comprise detest tease attract\n",
            "    emphasize mold postpone sever return wag ...\n",
            "VBZ: verb, present tense, 3rd person singular\n",
            "    bases reconstructs marks mixes displeases seals carps weaves snatches\n",
            "    slumps stretches authorizes smolders pictures emerges stockpiles\n",
            "    seduces fizzes uses bolsters slaps speaks pleads ...\n",
            "WDT: WH-determiner\n",
            "    that what whatever which whichever\n",
            "WP: WH-pronoun\n",
            "    that what whatever whatsoever which who whom whosoever\n",
            "WP$: WH-pronoun, possessive\n",
            "    whose\n",
            "WRB: Wh-adverb\n",
            "    how however whence whenever where whereby whereever wherein whereof why\n",
            "``: opening quotation mark\n",
            "    ` ``\n"
          ]
        }
      ]
    },
    {
      "cell_type": "markdown",
      "source": [
        "But how would **NLTK** handle tagging the parts of speech in a text that is basically gibberish? Jabberwocky is a nonsense poem that doesn’t technically mean much but is still written in a way that can convey some kind of meaning to English speakers.\n",
        "\n",
        "Make a string to hold an excerpt from this poem:"
      ],
      "metadata": {
        "id": "MDHCUWuYXz5f"
      }
    },
    {
      "cell_type": "code",
      "source": [
        "jabberwocky_excerpt = \"\"\"\n",
        "... 'Twas brillig, and the slithy toves did gyre and gimble in the wabe:\n",
        "... all mimsy were the borogoves, and the mome raths outgrabe.\"\"\""
      ],
      "metadata": {
        "id": "P4Y2qkBmYFtC"
      },
      "execution_count": 22,
      "outputs": []
    },
    {
      "cell_type": "code",
      "source": [
        "words_in_excerpt = word_tokenize(jabberwocky_excerpt)\n",
        "nltk.pos_tag(words_in_excerpt)"
      ],
      "metadata": {
        "colab": {
          "base_uri": "https://localhost:8080/"
        },
        "id": "lmSFVMhLYG-L",
        "outputId": "ad7994d5-62a3-4d2c-a919-4cd287201518"
      },
      "execution_count": 23,
      "outputs": [
        {
          "output_type": "execute_result",
          "data": {
            "text/plain": [
              "[(\"'Twas\", 'CD'),\n",
              " ('brillig', 'NN'),\n",
              " (',', ','),\n",
              " ('and', 'CC'),\n",
              " ('the', 'DT'),\n",
              " ('slithy', 'JJ'),\n",
              " ('toves', 'NNS'),\n",
              " ('did', 'VBD'),\n",
              " ('gyre', 'NN'),\n",
              " ('and', 'CC'),\n",
              " ('gimble', 'JJ'),\n",
              " ('in', 'IN'),\n",
              " ('the', 'DT'),\n",
              " ('wabe', 'NN'),\n",
              " (':', ':'),\n",
              " ('all', 'DT'),\n",
              " ('mimsy', 'NNS'),\n",
              " ('were', 'VBD'),\n",
              " ('the', 'DT'),\n",
              " ('borogoves', 'NNS'),\n",
              " (',', ','),\n",
              " ('and', 'CC'),\n",
              " ('the', 'DT'),\n",
              " ('mome', 'JJ'),\n",
              " ('raths', 'NNS'),\n",
              " ('outgrabe', 'RB'),\n",
              " ('.', '.')]"
            ]
          },
          "metadata": {},
          "execution_count": 23
        }
      ]
    },
    {
      "cell_type": "markdown",
      "source": [
        "## Lemmatizing\n",
        "Now that you’re up to speed on parts of speech, you can circle back to **lemmatizing**. Like **stemming, lemmatizing** reduces words to their core meaning, but it will give you a complete English word that makes sense on its own instead of just a fragment of a word like ***'discoveri'.***\n",
        "![image.png](data:image/png;base64,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)"
      ],
      "metadata": {
        "id": "AK6nzCxYYqXO"
      }
    },
    {
      "cell_type": "code",
      "source": [
        "from nltk.stem import WordNetLemmatizer"
      ],
      "metadata": {
        "id": "oJXuR4PiY-eQ"
      },
      "execution_count": 24,
      "outputs": []
    },
    {
      "cell_type": "code",
      "source": [
        "lemmatizer = WordNetLemmatizer()"
      ],
      "metadata": {
        "id": "6ucgp3IJZJRW"
      },
      "execution_count": 25,
      "outputs": []
    },
    {
      "cell_type": "markdown",
      "source": [
        "#### Let’s start with lemmatizing a plural noun:\n",
        "https://www.ef.com/wwen/english-resources/english-grammar/singular-and-plural-nouns/\n",
        "![image.png](data:image/png;base64,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)"
      ],
      "metadata": {
        "id": "CMQVoHC-ZX9E"
      }
    },
    {
      "cell_type": "code",
      "source": [
        "nltk.download('wordnet')\n",
        "lemmatizer.lemmatize('women')"
      ],
      "metadata": {
        "colab": {
          "base_uri": "https://localhost:8080/",
          "height": 70
        },
        "id": "lv3tvKdkZbFj",
        "outputId": "82699ebb-122e-497c-e263-2492015797c4"
      },
      "execution_count": 26,
      "outputs": [
        {
          "output_type": "stream",
          "name": "stdout",
          "text": [
            "[nltk_data] Downloading package wordnet to /root/nltk_data...\n",
            "[nltk_data]   Package wordnet is already up-to-date!\n"
          ]
        },
        {
          "output_type": "execute_result",
          "data": {
            "application/vnd.google.colaboratory.intrinsic+json": {
              "type": "string"
            },
            "text/plain": [
              "'woman'"
            ]
          },
          "metadata": {},
          "execution_count": 26
        }
      ]
    },
    {
      "cell_type": "code",
      "source": [
        "lemmatizer.lemmatize('wives')"
      ],
      "metadata": {
        "colab": {
          "base_uri": "https://localhost:8080/",
          "height": 35
        },
        "id": "ytxBWtuzaTfl",
        "outputId": "31f27e77-5a48-4a50-fd32-6d32c4f1662d"
      },
      "execution_count": 27,
      "outputs": [
        {
          "output_type": "execute_result",
          "data": {
            "application/vnd.google.colaboratory.intrinsic+json": {
              "type": "string"
            },
            "text/plain": [
              "'wife'"
            ]
          },
          "metadata": {},
          "execution_count": 27
        }
      ]
    },
    {
      "cell_type": "code",
      "source": [
        "string_for_lemmatizing = \"The friends of DeSoto love scarves. Fungi, foci, cacti, tomatoes\"\n",
        "words = word_tokenize(string_for_lemmatizing)\n",
        "words"
      ],
      "metadata": {
        "colab": {
          "base_uri": "https://localhost:8080/"
        },
        "id": "8CAo7IIValJv",
        "outputId": "d309b408-1bab-4d94-a329-24fbcdac4ed8"
      },
      "execution_count": 28,
      "outputs": [
        {
          "output_type": "execute_result",
          "data": {
            "text/plain": [
              "['The',\n",
              " 'friends',\n",
              " 'of',\n",
              " 'DeSoto',\n",
              " 'love',\n",
              " 'scarves',\n",
              " '.',\n",
              " 'Fungi',\n",
              " ',',\n",
              " 'foci',\n",
              " ',',\n",
              " 'cacti',\n",
              " ',',\n",
              " 'tomatoes']"
            ]
          },
          "metadata": {},
          "execution_count": 28
        }
      ]
    },
    {
      "cell_type": "markdown",
      "source": [
        "### lemmatize the string, with list comprehensive"
      ],
      "metadata": {
        "id": "cZF_WhmTa6Gs"
      }
    },
    {
      "cell_type": "code",
      "source": [
        "lemmatized = [lemmatizer.lemmatize(word) for word in words]\n",
        "lemmatized"
      ],
      "metadata": {
        "colab": {
          "base_uri": "https://localhost:8080/"
        },
        "id": "3Y34jHokbBKM",
        "outputId": "55dfc5ba-575d-4b13-ea4b-f86e312d75f1"
      },
      "execution_count": 29,
      "outputs": [
        {
          "output_type": "execute_result",
          "data": {
            "text/plain": [
              "['The',\n",
              " 'friend',\n",
              " 'of',\n",
              " 'DeSoto',\n",
              " 'love',\n",
              " 'scarf',\n",
              " '.',\n",
              " 'Fungi',\n",
              " ',',\n",
              " 'focus',\n",
              " ',',\n",
              " 'cactus',\n",
              " ',',\n",
              " 'tomato']"
            ]
          },
          "metadata": {},
          "execution_count": 29
        }
      ]
    },
    {
      "cell_type": "markdown",
      "source": [
        "But what would happen if you lemmatized a word that looked very different from its lemma? Try lemmatizing \"worst\":"
      ],
      "metadata": {
        "id": "LNhdboyicC6y"
      }
    },
    {
      "cell_type": "code",
      "source": [
        "lemmatizer.lemmatize('worst')"
      ],
      "metadata": {
        "colab": {
          "base_uri": "https://localhost:8080/",
          "height": 35
        },
        "id": "FhAE0L5PcF4N",
        "outputId": "b863f120-3300-48d6-cda2-3ba176ac8324"
      },
      "execution_count": 30,
      "outputs": [
        {
          "output_type": "execute_result",
          "data": {
            "application/vnd.google.colaboratory.intrinsic+json": {
              "type": "string"
            },
            "text/plain": [
              "'worst'"
            ]
          },
          "metadata": {},
          "execution_count": 30
        }
      ]
    },
    {
      "cell_type": "markdown",
      "source": [
        "You got the result 'worst' because lemmatizer.lemmatize() assumed that \"worst\" was a noun. You can make it clear that you want \"worst\" to be an adjective:"
      ],
      "metadata": {
        "id": "HQGzRbrKcNoW"
      }
    },
    {
      "cell_type": "code",
      "source": [
        "lemmatizer.lemmatize('worst', pos='a')"
      ],
      "metadata": {
        "colab": {
          "base_uri": "https://localhost:8080/",
          "height": 35
        },
        "id": "29QcougAcSXN",
        "outputId": "0da5dc34-44cc-447f-a6a7-3a22682c251c"
      },
      "execution_count": 31,
      "outputs": [
        {
          "output_type": "execute_result",
          "data": {
            "application/vnd.google.colaboratory.intrinsic+json": {
              "type": "string"
            },
            "text/plain": [
              "'bad'"
            ]
          },
          "metadata": {},
          "execution_count": 31
        }
      ]
    },
    {
      "cell_type": "markdown",
      "source": [
        "The default parameter for **pos is 'n'** for noun, but you made sure that **\"worst\"** was treated as an **adjective** by adding the parameter **pos=\"a\"**. As a result, you got **'bad'**, which looks very different from your original word and is nothing like what you’d get if you were stemming. This is because **\"worst\"** is the **superlative** form of the adjective **'bad'**, and lemmatizing reduces **superlatives** as well as comparatives to their lemmas."
      ],
      "metadata": {
        "id": "Pp2dq3TrciYV"
      }
    },
    {
      "cell_type": "markdown",
      "source": [
        "##Chunking\n",
        "While tokenizing allows you to identify words and sentences, **chunking** allows you to identify **phrases**.\n",
        "![image.png](data:image/png;base64,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)\n",
        "\n",
        "**Chunking** makes use of **POS tags** to group words and apply chunk tags to those groups. Chunks don’t overlap, so one instance of a word can be in only one chunk at a time.\n",
        "\n",
        "Here’s how to import the relevant parts of NLTK in order to chunk:"
      ],
      "metadata": {
        "id": "DhlWeLHUc5bG"
      }
    },
    {
      "cell_type": "code",
      "source": [
        "lotr_quote = \"It's a dangerous business, Frodo, going out your door.\""
      ],
      "metadata": {
        "id": "YHbLhGx4df-H"
      },
      "execution_count": 32,
      "outputs": []
    },
    {
      "cell_type": "code",
      "source": [
        "words_in_lotr = word_tokenize(lotr_quote)\n",
        "words_in_lotr"
      ],
      "metadata": {
        "colab": {
          "base_uri": "https://localhost:8080/"
        },
        "id": "3SaFRxgOMWnY",
        "outputId": "47ad2f1b-553c-4ff6-d160-d0cc9e33f945"
      },
      "execution_count": 33,
      "outputs": [
        {
          "output_type": "execute_result",
          "data": {
            "text/plain": [
              "['It',\n",
              " \"'s\",\n",
              " 'a',\n",
              " 'dangerous',\n",
              " 'business',\n",
              " ',',\n",
              " 'Frodo',\n",
              " ',',\n",
              " 'going',\n",
              " 'out',\n",
              " 'your',\n",
              " 'door',\n",
              " '.']"
            ]
          },
          "metadata": {},
          "execution_count": 33
        }
      ]
    },
    {
      "cell_type": "markdown",
      "source": [
        "### tag the words by **part of speech (POS)**:"
      ],
      "metadata": {
        "id": "TQovk_uAMsnv"
      }
    },
    {
      "cell_type": "code",
      "source": [
        "nltk.download(\"averaged_perceptron_tagger\")"
      ],
      "metadata": {
        "colab": {
          "base_uri": "https://localhost:8080/"
        },
        "id": "4XpCd6MHM1Sx",
        "outputId": "2c27e313-71a5-4deb-d068-68ac6a06a99c"
      },
      "execution_count": 34,
      "outputs": [
        {
          "output_type": "stream",
          "name": "stdout",
          "text": [
            "[nltk_data] Downloading package averaged_perceptron_tagger to\n",
            "[nltk_data]     /root/nltk_data...\n",
            "[nltk_data]   Package averaged_perceptron_tagger is already up-to-\n",
            "[nltk_data]       date!\n"
          ]
        },
        {
          "output_type": "execute_result",
          "data": {
            "text/plain": [
              "True"
            ]
          },
          "metadata": {},
          "execution_count": 34
        }
      ]
    },
    {
      "cell_type": "code",
      "source": [
        "lotr_pos_tags = nltk.pos_tag(words_in_lotr)\n",
        "lotr_pos_tags"
      ],
      "metadata": {
        "colab": {
          "base_uri": "https://localhost:8080/"
        },
        "id": "ZwUDCR-NM9n2",
        "outputId": "958f4423-89ea-4502-e628-22a8ca45034f"
      },
      "execution_count": 35,
      "outputs": [
        {
          "output_type": "execute_result",
          "data": {
            "text/plain": [
              "[('It', 'PRP'),\n",
              " (\"'s\", 'VBZ'),\n",
              " ('a', 'DT'),\n",
              " ('dangerous', 'JJ'),\n",
              " ('business', 'NN'),\n",
              " (',', ','),\n",
              " ('Frodo', 'NNP'),\n",
              " (',', ','),\n",
              " ('going', 'VBG'),\n",
              " ('out', 'RP'),\n",
              " ('your', 'PRP$'),\n",
              " ('door', 'NN'),\n",
              " ('.', '.')]"
            ]
          },
          "metadata": {},
          "execution_count": 35
        }
      ]
    },
    {
      "cell_type": "markdown",
      "source": [
        "## define a chunk grammar\n",
        "![image.png](data:image/png;base64,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)\n",
        "\n",
        "### Create a chunk grammar with one regular expression rule:"
      ],
      "metadata": {
        "id": "2JNzDgBGNb0r"
      }
    },
    {
      "cell_type": "code",
      "source": [
        "grammar = \"NP: {<DT>?<JJ>*<NN>}\""
      ],
      "metadata": {
        "id": "tM2NTSzsNlfm"
      },
      "execution_count": 36,
      "outputs": []
    },
    {
      "cell_type": "markdown",
      "source": [
        "![image.png](data:image/png;base64,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)\n",
        "\n",
        "https://stackoverflow.com/questions/37604289/tkinter-tclerror-no-display-name-and-no-display-environment-variable"
      ],
      "metadata": {
        "id": "0HwdgvGLO82c"
      }
    },
    {
      "cell_type": "code",
      "source": [
        "chunk_parser = nltk.RegexpParser(grammar)\n",
        "chunk_parser"
      ],
      "metadata": {
        "colab": {
          "base_uri": "https://localhost:8080/"
        },
        "id": "98XzPRUxQN5L",
        "outputId": "e26c18fa-b761-401d-8477-f124b3b8ffd0"
      },
      "execution_count": 37,
      "outputs": [
        {
          "output_type": "execute_result",
          "data": {
            "text/plain": [
              "<chunk.RegexpParser with 1 stages>"
            ]
          },
          "metadata": {},
          "execution_count": 37
        }
      ]
    },
    {
      "cell_type": "code",
      "source": [
        "tree = chunk_parser.parse(lotr_pos_tags)\n",
        "tree.draw()"
      ],
      "metadata": {
        "id": "G4RXuxzlQj-P"
      },
      "execution_count": null,
      "outputs": []
    },
    {
      "cell_type": "markdown",
      "source": [
        "## Chinking\n",
        "Chinking is used together with chunking, but while **chunking** is used to include a pattern, **chinking** is used to exclude a pattern.\n",
        "\n",
        "Let’s reuse the quote you used in the section on chunking. You already have a list of tuples containing each of the words in the quote along with its part of speech tag:"
      ],
      "metadata": {
        "id": "GJnuFbFcTeWh"
      }
    },
    {
      "cell_type": "code",
      "source": [
        "lotr_pos_tags"
      ],
      "metadata": {
        "id": "PnG3NvbkTpmC"
      },
      "execution_count": null,
      "outputs": []
    }
  ]
}