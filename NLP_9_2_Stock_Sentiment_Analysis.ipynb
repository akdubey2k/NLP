{
  "nbformat": 4,
  "nbformat_minor": 0,
  "metadata": {
    "colab": {
      "provenance": []
    },
    "kernelspec": {
      "name": "python3",
      "display_name": "Python 3"
    },
    "language_info": {
      "name": "python"
    }
  },
  "cells": [
    {
      "cell_type": "markdown",
      "source": [
        "# 1. Introduction\n",
        "## 1.1 Stock Sentiment Analysis Using Financial News\n",
        "Performing sentiment analysis on Indian stock market news using financial news from reputed sources like **Economic Times, Financial Express, or Bloomberg Quint** involves several steps. The goal is to process news headlines or articles, extract sentiment, and analyze the impact on stock prices.\n",
        "\n",
        "## 1.2 Steps Involved\n",
        "1. **Data Collection:** Collect financial news data (headlines/articles) from reliable sources using APIs, web scraping, or publicly available datasets.\n",
        "2. **Preprocessing:** Clean and preprocess the text data.\n",
        "3. **Sentiment Analysis:** Use natural language processing (NLP) models to analyze the sentiment (positive, negative, or neutral) of the news.\n",
        "4. **Stock Analysis:** Correlate the sentiment with stock market trends (e.g., stock price changes)."
      ],
      "metadata": {
        "id": "ogaZKvWymOjS"
      }
    },
    {
      "cell_type": "markdown",
      "source": [
        "## 1.3 Implementation Requirements\n",
        "### Libraries:\n",
        "* `pandas, nltk, transformers, beautifulsoup4, requests` (for scraping), or APIs for data gathering.\n",
        "* **Sentiment analysis models:** Traditional models like **VADER** or advanced models like **BERT** for financial sentiment."
      ],
      "metadata": {
        "id": "9af0q18BnW2i"
      }
    },
    {
      "cell_type": "markdown",
      "source": [
        "# 2. Import libraries\n",
        "* required these libraries when scraping data from websites and convert the extracted content into a structured format from webpages, like stock news, blogs, articles, etc.\n",
        "* installing **transformers** library developed by **Hugging Face** that provides **ML** models like\n",
        "  * **BERT,**\n",
        "  * **GPT-3** and others\n",
        "* it allows to use pre-trained models and tools for **NLP** tasks such as\n",
        "  * text classification,\n",
        "  * sentiment analysis, and more.\n",
        "* installing **pytorch** helps for deep learning tasks.\n"
      ],
      "metadata": {
        "id": "wgwqR_kJoWR-"
      }
    },
    {
      "cell_type": "code",
      "source": [
        "!pip install transformers torch"
      ],
      "metadata": {
        "colab": {
          "base_uri": "https://localhost:8080/"
        },
        "id": "7S3mZJdJtChL",
        "outputId": "d2bcdd17-a6a3-45b8-c717-65b253ace92d"
      },
      "execution_count": 1,
      "outputs": [
        {
          "output_type": "stream",
          "name": "stdout",
          "text": [
            "Requirement already satisfied: transformers in /usr/local/lib/python3.10/dist-packages (4.44.2)\n",
            "Requirement already satisfied: torch in /usr/local/lib/python3.10/dist-packages (2.4.1+cu121)\n",
            "Requirement already satisfied: filelock in /usr/local/lib/python3.10/dist-packages (from transformers) (3.16.1)\n",
            "Requirement already satisfied: huggingface-hub<1.0,>=0.23.2 in /usr/local/lib/python3.10/dist-packages (from transformers) (0.24.7)\n",
            "Requirement already satisfied: numpy>=1.17 in /usr/local/lib/python3.10/dist-packages (from transformers) (1.26.4)\n",
            "Requirement already satisfied: packaging>=20.0 in /usr/local/lib/python3.10/dist-packages (from transformers) (24.1)\n",
            "Requirement already satisfied: pyyaml>=5.1 in /usr/local/lib/python3.10/dist-packages (from transformers) (6.0.2)\n",
            "Requirement already satisfied: regex!=2019.12.17 in /usr/local/lib/python3.10/dist-packages (from transformers) (2024.9.11)\n",
            "Requirement already satisfied: requests in /usr/local/lib/python3.10/dist-packages (from transformers) (2.32.3)\n",
            "Requirement already satisfied: safetensors>=0.4.1 in /usr/local/lib/python3.10/dist-packages (from transformers) (0.4.5)\n",
            "Requirement already satisfied: tokenizers<0.20,>=0.19 in /usr/local/lib/python3.10/dist-packages (from transformers) (0.19.1)\n",
            "Requirement already satisfied: tqdm>=4.27 in /usr/local/lib/python3.10/dist-packages (from transformers) (4.66.5)\n",
            "Requirement already satisfied: typing-extensions>=4.8.0 in /usr/local/lib/python3.10/dist-packages (from torch) (4.12.2)\n",
            "Requirement already satisfied: sympy in /usr/local/lib/python3.10/dist-packages (from torch) (1.13.3)\n",
            "Requirement already satisfied: networkx in /usr/local/lib/python3.10/dist-packages (from torch) (3.3)\n",
            "Requirement already satisfied: jinja2 in /usr/local/lib/python3.10/dist-packages (from torch) (3.1.4)\n",
            "Requirement already satisfied: fsspec in /usr/local/lib/python3.10/dist-packages (from torch) (2024.6.1)\n",
            "Requirement already satisfied: MarkupSafe>=2.0 in /usr/local/lib/python3.10/dist-packages (from jinja2->torch) (2.1.5)\n",
            "Requirement already satisfied: charset-normalizer<4,>=2 in /usr/local/lib/python3.10/dist-packages (from requests->transformers) (3.3.2)\n",
            "Requirement already satisfied: idna<4,>=2.5 in /usr/local/lib/python3.10/dist-packages (from requests->transformers) (3.10)\n",
            "Requirement already satisfied: urllib3<3,>=1.21.1 in /usr/local/lib/python3.10/dist-packages (from requests->transformers) (2.2.3)\n",
            "Requirement already satisfied: certifi>=2017.4.17 in /usr/local/lib/python3.10/dist-packages (from requests->transformers) (2024.8.30)\n",
            "Requirement already satisfied: mpmath<1.4,>=1.1.0 in /usr/local/lib/python3.10/dist-packages (from sympy->torch) (1.3.0)\n"
          ]
        }
      ]
    },
    {
      "cell_type": "code",
      "source": [
        "# for sending HTTP requests; it allows us to access and retrieve data from the web\n",
        "import requests\n",
        "\n",
        "# for parsing HTML; it helps us parse and navigate HTML, making it easy to extract data like news headlines.\n",
        "from bs4 import BeautifulSoup\n",
        "\n",
        "# for data manipulation; it allows us to organize and manipulate this data in tabular form\n",
        "import pandas as pd\n",
        "\n",
        "# Comprehensive library for natural language processing tasks, where text data needs to be cleaned, tokenized, and transformed.\n",
        "import nltk\n",
        "\n",
        "# helps to remove stopwords like 'and', 'the', 'is', which do not contribute much to sentiment\n",
        "from nltk.corpus import stopwords\n",
        "\n",
        "# breaking text into individual words (tokenization).\n",
        "from nltk.tokenize import word_tokenize\n",
        "\n",
        "# Regular expression operations from the 're' module, to check if a string contains the specified search pattern.\n",
        "# https://regex101.com/\n",
        "import re\n",
        "\n",
        "# useing Hugging Face’s transformers library to load a pre-trained BERT-based sentiment analysis model\n",
        "from transformers import pipeline"
      ],
      "metadata": {
        "id": "eccPH_KNoadF"
      },
      "execution_count": 2,
      "outputs": []
    },
    {
      "cell_type": "markdown",
      "source": [
        "# 3. Data Collection\n",
        "## 3.1 Data collection with web scraping\n",
        "* Collect financial news data (scraping from **Economic Times** as an example)\n",
        "* sends an HTTP GET request to the 'Economic Times' website to get the page’s HTML content and parses it using `BeautifulSoup`."
      ],
      "metadata": {
        "id": "PIy2L6iCqpAg"
      }
    },
    {
      "cell_type": "code",
      "source": [
        "# url = \"https://economictimes.indiatimes.com/markets/stocks\"\n",
        "url = \"https://www.screener.in/company/INFY/consolidated/\" # Good\n",
        "# url = \"https://www.screener.in/company/KALYANKJIL/consolidated/\"\n",
        "# url = \"https://www.screener.in/company/TCS/consolidated/\"\n",
        "# url = \"https://www.financialexpress.com/markets/stocks\"\n",
        "# url = \"https://www.ndtvprofit.com/stock/1003479/kalyan-jewellers\"\n",
        "# url = \"https://www.ndtv.com/topic/\" blocked\n",
        "# url = \"https://www.livemint.com/market/market-stats/\"\n",
        "# url = \"https://www.business-standard.com/markets/axis-bank-ltd-share-price-5554.html\"\n",
        "# url = \"https://economictimes.indiatimes.com/markets/stocks\"\n",
        "\n",
        "\n",
        "# sends an HTTP request to the 'Economic Times' website to get the page’s HTML content and retrieves the webpage’s HTML.\n",
        "response = requests.get(url)\n",
        "# print(response)\n",
        "\n",
        "# response is then passed to 'BeautifulSoup' for parsing so that we can access individual HTML elements, such as the headlines.\n",
        "soup = BeautifulSoup(response.content, \"html.parser\")\n",
        "# soup"
      ],
      "metadata": {
        "id": "Sy4tIMXBq4UX"
      },
      "execution_count": 3,
      "outputs": []
    },
    {
      "cell_type": "markdown",
      "source": [
        "* extracts all the **h3** tags from the parsed HTML content\n",
        "* most news websites, headlines are usually wrapped in specific HTML tags like **h3**; extract these to get the actual news headlines.\n",
        "* Use this to extract specific HTML tags that contain the information (e.g., headlines, articles).\n"
      ],
      "metadata": {
        "id": "szf9cpOk0Hy7"
      }
    },
    {
      "cell_type": "code",
      "source": [
        "\n",
        "# find and extracts all headline elements (this depends on the website structure)\n",
        "headlines = soup.find_all('h3')  # Modify tag/structure based on source\n",
        "# headlines = soup.find_all('body')\n",
        "# headlines = soup.find_all('div')\n",
        "# headlines = soup.find_all('span')\n",
        "print(headlines)\n",
        "\n",
        "# Extract the text from the headlines\n",
        "news_data = []\n",
        "for headline in headlines:\n",
        "    news_data.append(headline.get_text())\n",
        "news_data"
      ],
      "metadata": {
        "id": "e1ig4Gd4zePr",
        "colab": {
          "base_uri": "https://localhost:8080/"
        },
        "outputId": "462a68cc-93de-4d30-839d-6105a692763b"
      },
      "execution_count": 4,
      "outputs": [
        {
          "output_type": "stream",
          "name": "stdout",
          "text": [
            "[<h3 class=\"margin-bottom-8\">Announcements</h3>, <h3>Annual reports</h3>, <h3>Credit ratings</h3>, <h3 class=\"margin-0\">Concalls</h3>]\n"
          ]
        },
        {
          "output_type": "execute_result",
          "data": {
            "text/plain": [
              "['Announcements', 'Annual reports', 'Credit ratings', 'Concalls']"
            ]
          },
          "metadata": {},
          "execution_count": 4
        }
      ]
    },
    {
      "cell_type": "markdown",
      "source": [
        "## 3.2 Data organization using **Pandas** dataframe\n",
        "* converts the list of headlines into a `pandas DataFrame`, with the column name **“Headline”**\n",
        "* used for tabular organization of data to organize, manipulate, or analyze using pandas’ powerful DataFrame functionality.\n"
      ],
      "metadata": {
        "id": "IFwMdL0O2h-y"
      }
    },
    {
      "cell_type": "code",
      "source": [
        "news_df = pd.DataFrame(news_data, columns=[\"Headline\"])\n",
        "print(news_df.head())"
      ],
      "metadata": {
        "colab": {
          "base_uri": "https://localhost:8080/"
        },
        "id": "7fwsj7Zx3fhs",
        "outputId": "3ae3e8c8-d69a-47a5-97d5-b7e8bc6e8650"
      },
      "execution_count": 5,
      "outputs": [
        {
          "output_type": "stream",
          "name": "stdout",
          "text": [
            "         Headline\n",
            "0   Announcements\n",
            "1  Annual reports\n",
            "2  Credit ratings\n",
            "3        Concalls\n"
          ]
        }
      ]
    },
    {
      "cell_type": "markdown",
      "source": [
        "# 4. Preprocessing the Text Data\n",
        "Dataset EDA (Exploratory Data Analysis)"
      ],
      "metadata": {
        "id": "BVxi2AMT82fU"
      }
    },
    {
      "cell_type": "code",
      "source": [
        "# Download stopwords once (if not already installed)\n",
        "nltk.download('stopwords')\n",
        "\n",
        "# Download punkt tokenizer once (if not already installed)\n",
        "nltk.download('punkt')"
      ],
      "metadata": {
        "colab": {
          "base_uri": "https://localhost:8080/"
        },
        "id": "ZPV2v1jT-tpq",
        "outputId": "a0c6a308-1582-456e-e838-dc10e419ee0c"
      },
      "execution_count": 6,
      "outputs": [
        {
          "output_type": "stream",
          "name": "stderr",
          "text": [
            "[nltk_data] Downloading package stopwords to /root/nltk_data...\n",
            "[nltk_data]   Package stopwords is already up-to-date!\n",
            "[nltk_data] Downloading package punkt to /root/nltk_data...\n",
            "[nltk_data]   Package punkt is already up-to-date!\n"
          ]
        },
        {
          "output_type": "execute_result",
          "data": {
            "text/plain": [
              "True"
            ]
          },
          "metadata": {},
          "execution_count": 6
        }
      ]
    },
    {
      "cell_type": "markdown",
      "source": [
        "## 4.1 Function for text preprocessing\n",
        "* to clean the text data by removing unwanted characters, converting text to lowercase, and removing stopwords.\n",
        "* for reducing noise in data; ensuring that the news headlines are cleaned and tokenized, making them ready for sentiment analysis.\n"
      ],
      "metadata": {
        "id": "ODvB6eGE_KCT"
      }
    },
    {
      "cell_type": "code",
      "source": [
        "def preprocess_text(text):\n",
        "\n",
        "    # Remove special characters, digits, and extra spaces\n",
        "    # https://regex101.com/\n",
        "\n",
        "    # case sensitive, \"\\W\" matches any non-word character (equivalent to [^a-zA-Z0-9_]) except for line terminators and replace with 'space'\n",
        "    text = re.sub(r'\\W', ' ', text)\n",
        "\n",
        "    # case sensitive, \"\\s+\"\" matches any whitespace character (equivalent to [\\r\\n\\t\\f\\v ]) any number of times except for line terminators and replace with 'space'\n",
        "    text = re.sub(r'\\s+', ' ', text)\n",
        "\n",
        "    # Convert to lowercase\n",
        "    text = text.lower()\n",
        "\n",
        "    # Tokenize and remove stopwords\n",
        "    stop_words = set(stopwords.words('english'))\n",
        "    tokens = word_tokenize(text)\n",
        "    filtered_tokens = [word for word in tokens if word not in stop_words]\n",
        "\n",
        "    return ' '.join(filtered_tokens)\n"
      ],
      "metadata": {
        "id": "XcDU5EJg_IgY"
      },
      "execution_count": 7,
      "outputs": []
    },
    {
      "cell_type": "markdown",
      "source": [
        "## 4.2 Apply preprocessing to the news headlines\n",
        "* applies the **preprocess_text** function to every row of the **Headline** column and stores the cleaned results in a new column **Cleaned_Headline.**\n",
        "* It cleans the raw headlines and stores the cleaned version in a new column for later use in sentiment analysis.\n"
      ],
      "metadata": {
        "id": "62CfzN0CDn-5"
      }
    },
    {
      "cell_type": "code",
      "source": [
        "news_df['Cleaned_Headline'] = news_df['Headline'].apply(preprocess_text)\n",
        "print(news_df.head())"
      ],
      "metadata": {
        "colab": {
          "base_uri": "https://localhost:8080/"
        },
        "id": "7_oR7pdFD2Hy",
        "outputId": "faea7dcd-6c60-4c73-8996-2a1dc0dff136"
      },
      "execution_count": 8,
      "outputs": [
        {
          "output_type": "stream",
          "name": "stdout",
          "text": [
            "         Headline Cleaned_Headline\n",
            "0   Announcements    announcements\n",
            "1  Annual reports   annual reports\n",
            "2  Credit ratings   credit ratings\n",
            "3        Concalls         concalls\n"
          ]
        }
      ]
    },
    {
      "cell_type": "markdown",
      "source": [
        "# 5. Sentiment Analysis Using Pre-trained BERT\n",
        "**Huggingface** pipeline will return either **\"positive\" or \"negative\"** sentiment. Need to expand this using financial-specific sentiment models (e.g., **FinBERT**)."
      ],
      "metadata": {
        "id": "Z42nllhQFUks"
      }
    },
    {
      "cell_type": "markdown",
      "source": [
        "## 5.1 Load the pre-trained **BERT** model for sentiment analysis\n",
        "* uses **Hugging Face’s** `transformers` library to load a pre-trained BERT-based sentiment analysis model.\n"
      ],
      "metadata": {
        "id": "vu2_5rokF2IC"
      }
    },
    {
      "cell_type": "code",
      "source": [
        "sentiment_pipeline = pipeline('sentiment-analysis')"
      ],
      "metadata": {
        "colab": {
          "base_uri": "https://localhost:8080/"
        },
        "id": "P8W0KuyuGWbG",
        "outputId": "25a6c57d-24c7-40e5-d50b-5f7a555c2f65"
      },
      "execution_count": 9,
      "outputs": [
        {
          "output_type": "stream",
          "name": "stderr",
          "text": [
            "No model was supplied, defaulted to distilbert/distilbert-base-uncased-finetuned-sst-2-english and revision af0f99b (https://huggingface.co/distilbert/distilbert-base-uncased-finetuned-sst-2-english).\n",
            "Using a pipeline without specifying a model name and revision in production is not recommended.\n",
            "/usr/local/lib/python3.10/dist-packages/huggingface_hub/utils/_token.py:89: UserWarning: \n",
            "The secret `HF_TOKEN` does not exist in your Colab secrets.\n",
            "To authenticate with the Hugging Face Hub, create a token in your settings tab (https://huggingface.co/settings/tokens), set it as secret in your Google Colab and restart your session.\n",
            "You will be able to reuse this secret in all of your notebooks.\n",
            "Please note that authentication is recommended but still optional to access public models or datasets.\n",
            "  warnings.warn(\n",
            "/usr/local/lib/python3.10/dist-packages/transformers/tokenization_utils_base.py:1601: FutureWarning: `clean_up_tokenization_spaces` was not set. It will be set to `True` by default. This behavior will be depracted in transformers v4.45, and will be then set to `False` by default. For more details check this issue: https://github.com/huggingface/transformers/issues/31884\n",
            "  warnings.warn(\n"
          ]
        }
      ]
    },
    {
      "cell_type": "markdown",
      "source": [
        "## 5.2 Apply the model to the cleaned headlines\n",
        "* using **Hugging Face’s transformers** library to load a pre-trained **BERT-based** sentiment analysis model and applies it to each cleaned headline.\n",
        "* it perform advanced sentiment analysis on text data, especially when require context-aware sentiment analysis (e.g., \"not good\" being negative).\n"
      ],
      "metadata": {
        "id": "XzjD_n0sGZCQ"
      }
    },
    {
      "cell_type": "code",
      "source": [
        "news_df['Sentiment'] = news_df['Cleaned_Headline'].apply(lambda x: sentiment_pipeline(x)[0]['label'])"
      ],
      "metadata": {
        "id": "tQ6GGioJGkju"
      },
      "execution_count": 10,
      "outputs": []
    },
    {
      "cell_type": "markdown",
      "source": [
        "## 5.3 Display the results"
      ],
      "metadata": {
        "id": "2woE094vHgPn"
      }
    },
    {
      "cell_type": "code",
      "source": [
        "print(news_df[['Headline', 'Sentiment']])"
      ],
      "metadata": {
        "colab": {
          "base_uri": "https://localhost:8080/"
        },
        "id": "wJY8sURuHdzB",
        "outputId": "4bae7670-a170-4d24-e746-f005e6355e36"
      },
      "execution_count": 11,
      "outputs": [
        {
          "output_type": "stream",
          "name": "stdout",
          "text": [
            "         Headline Sentiment\n",
            "0   Announcements  POSITIVE\n",
            "1  Annual reports  POSITIVE\n",
            "2  Credit ratings  POSITIVE\n",
            "3        Concalls  POSITIVE\n"
          ]
        }
      ]
    },
    {
      "cell_type": "code",
      "source": [
        "!pip install yfinance\n",
        "\n",
        "import yfinance as yf\n",
        "import datetime\n",
        "\n",
        "# Step 1: Download historical stock data\n",
        "# stock_symbol = 'TCS'  # Example: TCS (Tata Consultancy Services)\n",
        "stock_symbol = 'INFY'  # Example: Infosys Ltd\n",
        "start_date = '2023-09-27'\n",
        "end_date = '2024-09-26'\n",
        "stock_data = yf.download(stock_symbol, start=start_date, end=end_date)\n",
        "\n",
        "# Step 2: Display the stock data (Closing price)\n",
        "print(stock_data[['Close']].tail())\n",
        "\n",
        "# Step 3: Merge sentiment data with stock data based on date\n",
        "# Assuming we have 'Date' column in the news DataFrame matching with stock prices\n",
        "# Correlation and statistical analysis can be performed here"
      ],
      "metadata": {
        "colab": {
          "base_uri": "https://localhost:8080/"
        },
        "id": "_i5tqTYTMMRH",
        "outputId": "7f54cb4b-1754-4442-c33b-89cb7c155559"
      },
      "execution_count": 12,
      "outputs": [
        {
          "output_type": "stream",
          "name": "stdout",
          "text": [
            "Requirement already satisfied: yfinance in /usr/local/lib/python3.10/dist-packages (0.2.43)\n",
            "Requirement already satisfied: pandas>=1.3.0 in /usr/local/lib/python3.10/dist-packages (from yfinance) (2.1.4)\n",
            "Requirement already satisfied: numpy>=1.16.5 in /usr/local/lib/python3.10/dist-packages (from yfinance) (1.26.4)\n",
            "Requirement already satisfied: requests>=2.31 in /usr/local/lib/python3.10/dist-packages (from yfinance) (2.32.3)\n",
            "Requirement already satisfied: multitasking>=0.0.7 in /usr/local/lib/python3.10/dist-packages (from yfinance) (0.0.11)\n",
            "Requirement already satisfied: lxml>=4.9.1 in /usr/local/lib/python3.10/dist-packages (from yfinance) (4.9.4)\n",
            "Requirement already satisfied: platformdirs>=2.0.0 in /usr/local/lib/python3.10/dist-packages (from yfinance) (4.3.6)\n",
            "Requirement already satisfied: pytz>=2022.5 in /usr/local/lib/python3.10/dist-packages (from yfinance) (2024.2)\n",
            "Requirement already satisfied: frozendict>=2.3.4 in /usr/local/lib/python3.10/dist-packages (from yfinance) (2.4.4)\n",
            "Requirement already satisfied: peewee>=3.16.2 in /usr/local/lib/python3.10/dist-packages (from yfinance) (3.17.6)\n",
            "Requirement already satisfied: beautifulsoup4>=4.11.1 in /usr/local/lib/python3.10/dist-packages (from yfinance) (4.12.3)\n",
            "Requirement already satisfied: html5lib>=1.1 in /usr/local/lib/python3.10/dist-packages (from yfinance) (1.1)\n",
            "Requirement already satisfied: soupsieve>1.2 in /usr/local/lib/python3.10/dist-packages (from beautifulsoup4>=4.11.1->yfinance) (2.6)\n",
            "Requirement already satisfied: six>=1.9 in /usr/local/lib/python3.10/dist-packages (from html5lib>=1.1->yfinance) (1.16.0)\n",
            "Requirement already satisfied: webencodings in /usr/local/lib/python3.10/dist-packages (from html5lib>=1.1->yfinance) (0.5.1)\n",
            "Requirement already satisfied: python-dateutil>=2.8.2 in /usr/local/lib/python3.10/dist-packages (from pandas>=1.3.0->yfinance) (2.8.2)\n",
            "Requirement already satisfied: tzdata>=2022.1 in /usr/local/lib/python3.10/dist-packages (from pandas>=1.3.0->yfinance) (2024.1)\n",
            "Requirement already satisfied: charset-normalizer<4,>=2 in /usr/local/lib/python3.10/dist-packages (from requests>=2.31->yfinance) (3.3.2)\n",
            "Requirement already satisfied: idna<4,>=2.5 in /usr/local/lib/python3.10/dist-packages (from requests>=2.31->yfinance) (3.10)\n",
            "Requirement already satisfied: urllib3<3,>=1.21.1 in /usr/local/lib/python3.10/dist-packages (from requests>=2.31->yfinance) (2.2.3)\n",
            "Requirement already satisfied: certifi>=2017.4.17 in /usr/local/lib/python3.10/dist-packages (from requests>=2.31->yfinance) (2024.8.30)\n"
          ]
        },
        {
          "output_type": "stream",
          "name": "stderr",
          "text": [
            "\r[*********************100%***********************]  1 of 1 completed"
          ]
        },
        {
          "output_type": "stream",
          "name": "stdout",
          "text": [
            "                Close\n",
            "Date                 \n",
            "2024-09-19  22.690001\n",
            "2024-09-20  22.850000\n",
            "2024-09-23  22.690001\n",
            "2024-09-24  22.580000\n",
            "2024-09-25  22.559999\n"
          ]
        },
        {
          "output_type": "stream",
          "name": "stderr",
          "text": [
            "\n"
          ]
        }
      ]
    },
    {
      "cell_type": "code",
      "source": [
        "import matplotlib.pyplot as plt\n",
        "\n",
        "# Plot stock prices\n",
        "plt.figure(figsize=(10,5))\n",
        "plt.plot(stock_data['Close'], label='Stock Price')\n",
        "plt.title(f\"{stock_symbol} Stock Price\")\n",
        "plt.xlabel('Date')\n",
        "plt.ylabel('Closing Price')\n",
        "plt.legend()\n",
        "plt.show()\n"
      ],
      "metadata": {
        "colab": {
          "base_uri": "https://localhost:8080/",
          "height": 487
        },
        "id": "aLKCWq2oMZ9P",
        "outputId": "bf50fe3e-1cb3-486d-bc4a-912b5925b80e"
      },
      "execution_count": 13,
      "outputs": [
        {
          "output_type": "display_data",
          "data": {
            "text/plain": [
              "<Figure size 1000x500 with 1 Axes>"
            ],
            "image/png": "[encoded data removed]"
          },
          "metadata": {}
        }
      ]
    }
  ]
}