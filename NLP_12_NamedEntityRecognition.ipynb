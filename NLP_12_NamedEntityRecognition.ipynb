{
  "nbformat": 4,
  "nbformat_minor": 0,
  "metadata": {
    "colab": {
      "provenance": []
    },
    "kernelspec": {
      "name": "python3",
      "display_name": "Python 3"
    },
    "language_info": {
      "name": "python"
    }
  },
  "cells": [
    {
      "cell_type": "markdown",
      "source": [
        "# 1. Introduction\n",
        "**Named Entity Recognition (NER)** is a Natural Language Processing **(NLP)** technique used to identify and classify named entities within a text.\n",
        "+ These entities can include <u>*names of people, organizations, locations, dates, quantities, percentages, monetary values, and other categories.*</u>\n",
        "+ The goal of **NER** is to locate and classify these entities into predefined categories, enabling applications like <u>*information extraction, summarization, and automated question-answering.*</u>\n"
      ],
      "metadata": {
        "id": "AAj8U6KAAark"
      }
    },
    {
      "cell_type": "markdown",
      "source": [
        "# 2. Import libraries\n",
        "**SpaCy** is a popular python library for **NLP** tasks, that provides a simple and efficient way to implement **NER.**"
      ],
      "metadata": {
        "id": "Tr8QUDp-Bn1s"
      }
    },
    {
      "cell_type": "code",
      "execution_count": 1,
      "metadata": {
        "id": "yKDsocnQ-UcL"
      },
      "outputs": [],
      "source": [
        "# import the spaCy library\n",
        "import spacy"
      ]
    },
    {
      "cell_type": "markdown",
      "source": [
        "# 3. Load SpaCy model\n",
        "Loads a pre-trained **SpaCy** model for the English language. The model **\"en_core_web_sm\"** is a small English language model that includes vocabulary, grammar, and NER capabilities."
      ],
      "metadata": {
        "id": "e8B4S1M5CW0F"
      }
    },
    {
      "cell_type": "code",
      "source": [
        "# Load the pre-trained SpaCy model for English\n",
        "nlp = spacy.load(\"en_core_web_sm\")\n",
        "nlp"
      ],
      "metadata": {
        "id": "Ue9VXan5Cdta",
        "outputId": "beebe58d-03f1-4821-9094-f4a30a72c8e1",
        "colab": {
          "base_uri": "https://localhost:8080/"
        }
      },
      "execution_count": 2,
      "outputs": [
        {
          "output_type": "execute_result",
          "data": {
            "text/plain": [
              "<spacy.lang.en.English at 0x7b0cc8a33d30>"
            ]
          },
          "metadata": {},
          "execution_count": 2
        }
      ]
    },
    {
      "cell_type": "markdown",
      "source": [
        "# 4. Dataset loding\n",
        "Defines a sample text containing named entities such as\n",
        "* an organization (Apple),\n",
        "* a location (U.K.), and\n",
        "* a monetary value ($1 billion"
      ],
      "metadata": {
        "id": "IOpCl0-mDv3r"
      }
    },
    {
      "cell_type": "code",
      "source": [
        "# Sample text for NER\n",
        "text = \"Apple is looking at buying a U.K. startup for $1 billion.\""
      ],
      "metadata": {
        "id": "1iE80gmoDpOE"
      },
      "execution_count": 3,
      "outputs": []
    },
    {
      "cell_type": "markdown",
      "source": [
        "#5. Preprocess dataset\n",
        "Processes the text using the **SpaCy** model, creating a **`doc`** object that contains the parsed text along with annotations like\n",
        "* tokens,\n",
        "* entities, and\n",
        "* parts of speech (pos).\n"
      ],
      "metadata": {
        "id": "_lTE15koEGMX"
      }
    },
    {
      "cell_type": "code",
      "source": [
        "# Process the text using the SpaCy model\n",
        "doc = nlp(text)\n",
        "doc"
      ],
      "metadata": {
        "colab": {
          "base_uri": "https://localhost:8080/"
        },
        "id": "z67e5coGEKSp",
        "outputId": "9c7c34eb-4879-4d52-8d4b-59fae272ba59"
      },
      "execution_count": 4,
      "outputs": [
        {
          "output_type": "execute_result",
          "data": {
            "text/plain": [
              "Apple is looking at buying a U.K. startup for $1 billion."
            ]
          },
          "metadata": {},
          "execution_count": 4
        }
      ]
    },
    {
      "cell_type": "markdown",
      "source": [
        "#6. Extraction of NER\n",
        "* Iterate through the named entities in the processed document\n",
        "* Prints the entity text `(ent.text)`, its label `(ent.label_)`, and an explanation of the label `(spacy.explain(ent.label_))`.\n",
        "* The label represents the type of entity, such as\n",
        " * **\"ORG\"** for organizations,\n",
        " * **\"GPE\"** for geopolitical entities, and\n",
        " * **\"MONEY\"** for monetary values.\n",
        "\n"
      ],
      "metadata": {
        "id": "q10mH3odMXG7"
      }
    },
    {
      "cell_type": "code",
      "source": [
        "# Loops through all the recognized named entities in the 'doc' object.\n",
        "for ent in doc.ents:\n",
        "    # Print the text of the entity, the entity label, and its explanation\n",
        "    print(ent.text, ent.label_, spacy.explain(ent.label_))"
      ],
      "metadata": {
        "colab": {
          "base_uri": "https://localhost:8080/"
        },
        "id": "sGir2be1Mdx0",
        "outputId": "b5a7cd0c-6060-4aab-e52a-f293aa1d6dbb"
      },
      "execution_count": 5,
      "outputs": [
        {
          "output_type": "stream",
          "name": "stdout",
          "text": [
            "Apple ORG Companies, agencies, institutions, etc.\n",
            "U.K. GPE Countries, cities, states\n",
            "$1 billion MONEY Monetary values, including unit\n"
          ]
        }
      ]
    }
  ]
}