{
  "nbformat": 4,
  "nbformat_minor": 0,
  "metadata": {
    "colab": {
      "provenance": []
    },
    "kernelspec": {
      "name": "python3",
      "display_name": "Python 3"
    },
    "language_info": {
      "name": "python"
    }
  },
  "cells": [
    {
      "cell_type": "markdown",
      "source": [
        "# 1. Introduction\n",
        "**Named Entity Recognition (NER)** is a Natural Language Processing **(NLP)** technique used to identify and classify named entities within a text.\n",
        "+ These entities can include *names of people, organizations, locations, dates, quantities, percentages, monetary values, and other categories.*\n",
        "+ The goal of **NER** is to locate and classify these entities into predefined categories, enabling applications like information extraction, summarization, and automated question-answering.\n"
      ],
      "metadata": {
        "id": "AAj8U6KAAark"
      }
    },
    {
      "cell_type": "code",
      "execution_count": null,
      "metadata": {
        "id": "yKDsocnQ-UcL"
      },
      "outputs": [],
      "source": []
    }
  ]
}