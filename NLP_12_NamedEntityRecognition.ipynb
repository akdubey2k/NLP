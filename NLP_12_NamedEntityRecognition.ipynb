{
  "nbformat": 4,
  "nbformat_minor": 0,
  "metadata": {
    "colab": {
      "provenance": []
    },
    "kernelspec": {
      "name": "python3",
      "display_name": "Python 3"
    },
    "language_info": {
      "name": "python"
    }
  },
  "cells": [
    {
      "cell_type": "markdown",
      "source": [
        "# 1. Introduction\n",
        "**Named Entity Recognition (NER)** is a Natural Language Processing **(NLP)** technique used to identify and classify named entities within a text.\n",
        "+ These entities can include <u>*names of people, organizations, locations, dates, quantities, percentages, monetary values, and other categories.*</u>\n",
        "+ The goal of **NER** is to locate and classify these entities into predefined categories, enabling applications like <u>*information extraction, summarization, and automated question-answering.*</u>\n"
      ],
      "metadata": {
        "id": "AAj8U6KAAark"
      }
    },
    {
      "cell_type": "markdown",
      "source": [
        "# 2. Import libraries\n",
        "**SpaCy** is a popular python library for **NLP** tasks, that provides a simple and efficient way to implement **NER.**"
      ],
      "metadata": {
        "id": "Tr8QUDp-Bn1s"
      }
    },
    {
      "cell_type": "code",
      "execution_count": null,
      "metadata": {
        "id": "yKDsocnQ-UcL"
      },
      "outputs": [],
      "source": [
        "# import the spaCy library\n",
        "import spacy"
      ]
    },
    {
      "cell_type": "markdown",
      "source": [
        "# 3. Load SpaCy model\n",
        "Loads a pre-trained **SpaCy** model for the English language. The model **\"en_core_web_sm\"** is a small English language model that includes vocabulary, grammar, and NER capabilities."
      ],
      "metadata": {
        "id": "e8B4S1M5CW0F"
      }
    },
    {
      "cell_type": "code",
      "source": [
        "# Load the pre-trained SpaCy model for English\n",
        "nlp = spacy.load(\"en_core_web_sm\")\n",
        "nlp"
      ],
      "metadata": {
        "id": "Ue9VXan5Cdta",
        "outputId": "ce80ddaf-17c0-45bf-cc5f-4f22fb7ab560",
        "colab": {
          "base_uri": "https://localhost:8080/"
        }
      },
      "execution_count": null,
      "outputs": [
        {
          "output_type": "execute_result",
          "data": {
            "text/plain": [
              "<spacy.lang.en.English at 0x796c0967c220>"
            ]
          },
          "metadata": {},
          "execution_count": 2
        }
      ]
    },
    {
      "cell_type": "markdown",
      "source": [
        "# 4. Dataset loding\n",
        "Defines a sample text containing named entities such as\n",
        "* an organization (Apple),\n",
        "* a location (U.K.), and\n",
        "* a monetary value ($1 billion"
      ],
      "metadata": {
        "id": "IOpCl0-mDv3r"
      }
    },
    {
      "cell_type": "code",
      "source": [
        "# Sample text for NER\n",
        "text = \"Apple is looking at buying a U.K. startup for $1 billion.\""
      ],
      "metadata": {
        "id": "1iE80gmoDpOE"
      },
      "execution_count": null,
      "outputs": []
    },
    {
      "cell_type": "markdown",
      "source": [
        "#5. Preprocess dataset"
      ],
      "metadata": {
        "id": "_lTE15koEGMX"
      }
    },
    {
      "cell_type": "code",
      "source": [
        "# Process the text using the SpaCy model\n",
        "doc = nlp(text)\n",
        "doc"
      ],
      "metadata": {
        "colab": {
          "base_uri": "https://localhost:8080/"
        },
        "id": "z67e5coGEKSp",
        "outputId": "72b5e28e-9712-43db-cfc9-ee074ae5f26d"
      },
      "execution_count": null,
      "outputs": [
        {
          "output_type": "execute_result",
          "data": {
            "text/plain": [
              "Apple is looking at buying U.K. startup for $1 billion."
            ]
          },
          "metadata": {},
          "execution_count": 4
        }
      ]
    }
  ]
}