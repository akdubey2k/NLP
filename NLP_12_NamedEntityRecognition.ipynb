{
  "nbformat": 4,
  "nbformat_minor": 0,
  "metadata": {
    "colab": {
      "provenance": []
    },
    "kernelspec": {
      "name": "python3",
      "display_name": "Python 3"
    },
    "language_info": {
      "name": "python"
    }
  },
  "cells": [
    {
      "cell_type": "markdown",
      "source": [
        "# 1. Introduction\n",
        "**Named Entity Recognition (NER)** is a Natural Language Processing **(NLP)** technique used to identify and classify named entities within a text.\n",
        "+ These entities can include *names of people, organizations, locations, dates, quantities, percentages, monetary values, and other categories.*\n",
        "+ The goal of **NER** is to locate and classify these entities into predefined categories, enabling applications like information extraction, summarization, and automated question-answering.\n"
      ],
      "metadata": {
        "id": "AAj8U6KAAark"
      }
    },
    {
      "cell_type": "markdown",
      "source": [
        "# 2. Import libraries\n",
        "**SpaCy** is a popular Python library for NLP that provides a simple and efficient way to implement **NER.**"
      ],
      "metadata": {
        "id": "Tr8QUDp-Bn1s"
      }
    },
    {
      "cell_type": "code",
      "execution_count": 1,
      "metadata": {
        "id": "yKDsocnQ-UcL"
      },
      "outputs": [],
      "source": [
        "# import the spaCy library\n",
        "import spacy"
      ]
    },
    {
      "cell_type": "markdown",
      "source": [
        "# 3. Load SpaCy model"
      ],
      "metadata": {
        "id": "e8B4S1M5CW0F"
      }
    },
    {
      "cell_type": "code",
      "source": [
        "# Load the pre-trained SpaCy model for English\n",
        "nlp = spacy.load(\"en_core_web_sm\")\n",
        "nlp"
      ],
      "metadata": {
        "colab": {
          "base_uri": "https://localhost:8080/"
        },
        "id": "Ue9VXan5Cdta",
        "outputId": "620212e9-0751-48de-95fe-4773c6a48ffe"
      },
      "execution_count": 2,
      "outputs": [
        {
          "output_type": "execute_result",
          "data": {
            "text/plain": [
              "<spacy.lang.en.English at 0x7fa2072cfb50>"
            ]
          },
          "metadata": {},
          "execution_count": 2
        }
      ]
    }
  ]
}