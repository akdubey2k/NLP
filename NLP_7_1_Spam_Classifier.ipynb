{
  "nbformat": 4,
  "nbformat_minor": 0,
  "metadata": {
    "colab": {
      "provenance": []
    },
    "kernelspec": {
      "name": "python3",
      "display_name": "Python 3"
    },
    "language_info": {
      "name": "python"
    }
  },
  "cells": [
    {
      "cell_type": "markdown",
      "source": [
        "# 1. Introduction about dataset\n",
        "## Context\n",
        "* The **SMS Spam Collection** is a set of SMS tagged messages that have been collected for SMS Spam research.\n",
        "* It contains one set of SMS messages in English of **5,574** messages, tagged acording being **ham** (legitimate) or **spam.**\n",
        "\n",
        "## Content\n",
        "* The files contain one message per line.\n",
        "* Each line is composed by two columns:\n",
        " * v1 contains the label (ham or spam) and\n",
        " * v2 contains the raw text.\n",
        "\n",
        "\n"
      ],
      "metadata": {
        "id": "FqgI2lIa6OJ-"
      }
    },
    {
      "cell_type": "markdown",
      "source": [
        "**Thanks to:-**\n",
        "* [SMS Spam Collection](https://archive.ics.uci.edu/dataset/228/sms+spam+collection)"
      ],
      "metadata": {
        "id": "7X6wk2oRJ9IA"
      }
    },
    {
      "cell_type": "markdown",
      "source": [
        "# 2. Import libraries\n",
        "- To building a **spam classifier** we need to perform **text preprocessing.**\n",
        "- For this required necessary libraries and tools to import are\n",
        "  - data manipulation,\n",
        "  - text cleaning,\n",
        "  - stemming,\n",
        "  - lemmatization, and\n",
        "  - removal of common stopwords.\n",
        "\n",
        "These steps help to prepare raw text data for machine learning models, improving their accuracy and performance."
      ],
      "metadata": {
        "id": "WQf3lGeg7HzQ"
      }
    },
    {
      "cell_type": "code",
      "execution_count": null,
      "metadata": {
        "id": "wtZ1z5Te6Md6"
      },
      "outputs": [],
      "source": [
        "# provides tools for text preprocessing, tokenization, stemming, lemmatization, stopwords removal, and more.\n",
        "import nltk\n",
        "\n",
        "# Helps in loading, analyzing, and manipulating the dataset efficiently. It is typically used to read the data, handle missing values, and structure the data in a tabular format, particularly when working with structured data like CSV files.\n",
        "import pandas as pd\n",
        "\n",
        "# for cleaning text data, such as removing special characters, punctuations, and other unwanted patterns from the text.\n",
        "import re\n",
        "\n",
        "# simplify words in text data to their base form, which helps in reducing the dimensionality of text data and improving the performance of the model.\n",
        "from nltk.stem import PorterStemmer\n",
        "\n",
        "# convert words to their base or dictionary form (e.g., \"better\" to \"good\"). It is more context-aware than stemming, making it more effective in NLP tasks.\n",
        "from nltk.stem import WordNetLemmatizer\n",
        "\n",
        "# removing the frequently occurring words (e.g., \"the\", \"and\", \"is\") that do not contribute significantly to the classification task, thereby improving model efficiency and accuracy.\n",
        "from nltk.corpus import stopwords"
      ]
    },
    {
      "cell_type": "markdown",
      "source": [
        "# 3. Load the Dataset"
      ],
      "metadata": {
        "id": "0Ehhk5ij7T-j"
      }
    },
    {
      "cell_type": "code",
      "source": [
        "# define the URL points to a CSV file hosted on GitHub, specifically at the repository and path where the dataset is stored.\n",
        "url_sms_spam_ham ='https://raw.githubusercontent.com/akdubey2k/NLP/main/Spam_Classifier/SMSSpamCollection.csv'"
      ],
      "metadata": {
        "id": "RstOQyafCFMU"
      },
      "execution_count": null,
      "outputs": []
    },
    {
      "cell_type": "markdown",
      "source": [
        "#### Read data from **github** repositary using **pandas**."
      ],
      "metadata": {
        "id": "j1foLD-wD9yu"
      }
    },
    {
      "cell_type": "code",
      "source": [
        "# url_new=\"https://raw.githubusercontent.com/akdubey2k/NLP/main/Spam_Classifier/SpamCollection.csv\"\n",
        "# this URL would be used with data manipulation libraries like pandas to read the CSV file directly into a DataFrame.\n",
        "# Loading the CSV file from the URL into a pandas DataFrame\n",
        "df=pd.read_csv(url_new, sep='\\t')\n",
        "df.head()"
      ],
      "metadata": {
        "colab": {
          "base_uri": "https://localhost:8080/",
          "height": 201
        },
        "id": "98n5KrtZDvCb",
        "outputId": "08364c0b-3cda-4123-b971-ab3d33972245"
      },
      "execution_count": null,
      "outputs": [
        {
          "output_type": "error",
          "ename": "NameError",
          "evalue": "name 'url_new' is not defined",
          "traceback": [
            "\u001b[0;31m---------------------------------------------------------------------------\u001b[0m",
            "\u001b[0;31mNameError\u001b[0m                                 Traceback (most recent call last)",
            "\u001b[0;32m<ipython-input-3-0e2faf152013>\u001b[0m in \u001b[0;36m<cell line: 4>\u001b[0;34m()\u001b[0m\n\u001b[1;32m      2\u001b[0m \u001b[0;31m# this URL would be used with data manipulation libraries like pandas to read the CSV file directly into a DataFrame.\u001b[0m\u001b[0;34m\u001b[0m\u001b[0;34m\u001b[0m\u001b[0m\n\u001b[1;32m      3\u001b[0m \u001b[0;31m# Loading the CSV file from the URL into a pandas DataFrame\u001b[0m\u001b[0;34m\u001b[0m\u001b[0;34m\u001b[0m\u001b[0m\n\u001b[0;32m----> 4\u001b[0;31m \u001b[0mdf\u001b[0m\u001b[0;34m=\u001b[0m\u001b[0mpd\u001b[0m\u001b[0;34m.\u001b[0m\u001b[0mread_csv\u001b[0m\u001b[0;34m(\u001b[0m\u001b[0murl_new\u001b[0m\u001b[0;34m,\u001b[0m \u001b[0msep\u001b[0m\u001b[0;34m=\u001b[0m\u001b[0;34m'\\t'\u001b[0m\u001b[0;34m)\u001b[0m\u001b[0;34m\u001b[0m\u001b[0;34m\u001b[0m\u001b[0m\n\u001b[0m\u001b[1;32m      5\u001b[0m \u001b[0mdf\u001b[0m\u001b[0;34m.\u001b[0m\u001b[0mhead\u001b[0m\u001b[0;34m(\u001b[0m\u001b[0;34m)\u001b[0m\u001b[0;34m\u001b[0m\u001b[0;34m\u001b[0m\u001b[0m\n",
            "\u001b[0;31mNameError\u001b[0m: name 'url_new' is not defined"
          ]
        }
      ]
    },
    {
      "cell_type": "markdown",
      "source": [
        "#### Creating a **pandas** dataframe by inserting new columns named as **label**, **message** and **index** by default true."
      ],
      "metadata": {
        "id": "fLzRA4GbJPHR"
      }
    },
    {
      "cell_type": "code",
      "source": [
        "df=pd.read_csv(url_new, sep='\\t', names=['label', 'message'])\n",
        "df.head()"
      ],
      "metadata": {
        "id": "C8_9qh5nJRR0"
      },
      "execution_count": null,
      "outputs": []
    },
    {
      "cell_type": "code",
      "source": [
        "df=pd.read_csv(url_org, sep='\\t', names=['label', 'message'])\n",
        "df.head()"
      ],
      "metadata": {
        "id": "bmFOFlu6Jq8S"
      },
      "execution_count": null,
      "outputs": []
    },
    {
      "cell_type": "markdown",
      "source": [
        "#### Creation of **Stemming** and **Lemmatization** object"
      ],
      "metadata": {
        "id": "Pa5J6AiNLezF"
      }
    },
    {
      "cell_type": "code",
      "source": [
        "ps=PorterStemmer()\n",
        "wnl=WordNetLemmatizer()"
      ],
      "metadata": {
        "id": "Xo2N-xShLtdj"
      },
      "execution_count": null,
      "outputs": []
    },
    {
      "cell_type": "markdown",
      "source": [
        "#### Data **Cleaning** and **preprocessing**"
      ],
      "metadata": {
        "id": "rzT8mGwOJ8sl"
      }
    },
    {
      "cell_type": "code",
      "source": [
        "corpus=[]\n",
        "for i in range(0, len(df)):\n",
        "  data=re.sub('[^a-zA-Z]', ' ', df['message'][i])\n",
        "  # print(data)\n",
        "  data=data.lower()\n",
        "  data=data.split()\n",
        "  #data=[ps.stem(word) for word in data if word not in set(stopwords.words('english'))]\n",
        "  data=[wnl.lemmatize(word) for word in data if word not in set(stopwords.words('english'))]\n",
        "  data=' '.join(data)\n",
        "  corpus.append(data)\n",
        "\n",
        "# print(corpus)"
      ],
      "metadata": {
        "id": "1kDETEYeKEOI"
      },
      "execution_count": null,
      "outputs": []
    },
    {
      "cell_type": "markdown",
      "source": [
        "#### **Bag of word** creation for spam classification"
      ],
      "metadata": {
        "id": "yYw50MwJMu7R"
      }
    },
    {
      "cell_type": "code",
      "source": [
        "from sklearn.feature_extraction.text import CountVectorizer\n",
        "cv=CountVectorizer(max_features=2500)\n",
        "X=cv.fit_transform(corpus).toarray()\n",
        "X"
      ],
      "metadata": {
        "id": "B66z_OlyM8EI"
      },
      "execution_count": null,
      "outputs": []
    },
    {
      "cell_type": "markdown",
      "source": [
        "#### get **dummies** from **pandas** dataframe for the **output/dependent** variable (**label** column)"
      ],
      "metadata": {
        "id": "o7KloNRCNlfx"
      }
    },
    {
      "cell_type": "code",
      "source": [
        "y=pd.get_dummies(df['label'])\n",
        "y"
      ],
      "metadata": {
        "id": "4eg5k79FN_9P"
      },
      "execution_count": null,
      "outputs": []
    },
    {
      "cell_type": "markdown",
      "source": [
        "#### As there is only two dummy varibales, so we do not need two column... we can convert this **dummy variable trap** by using single column."
      ],
      "metadata": {
        "id": "almku9KZQZlb"
      }
    },
    {
      "cell_type": "code",
      "source": [
        "y=y.iloc[:,1].values # all rows and only one column.... values need to be present\n",
        "y"
      ],
      "metadata": {
        "id": "bUX5W-QDPPIE"
      },
      "execution_count": null,
      "outputs": []
    },
    {
      "cell_type": "markdown",
      "source": [
        "#### Split the data into **training** and **test** set, using **sklearn**\n",
        "X (fit_transform(corpus)) => independent variable and\n",
        "\n",
        "y (single dummy varible) => depedent variable"
      ],
      "metadata": {
        "id": "vI_tm_9QRUqB"
      }
    },
    {
      "cell_type": "code",
      "source": [
        "from sklearn.model_selection import train_test_split\n",
        "X_train, X_test, y_train, y_test=train_test_split(X, y, test_size=0.20, random_state=0)"
      ],
      "metadata": {
        "id": "rU45UJO-RmkH"
      },
      "execution_count": null,
      "outputs": []
    },
    {
      "cell_type": "markdown",
      "source": [
        "#### Classification (Training) model using **Naive Bayes Classifier**\n"
      ],
      "metadata": {
        "id": "q8AKXNXxSau1"
      }
    },
    {
      "cell_type": "code",
      "source": [
        "from sklearn.naive_bayes import MultinomialNB\n",
        "mtnb=MultinomialNB()\n",
        "mtnb.fit(X, y)"
      ],
      "metadata": {
        "id": "AvJSUNCeSn_P"
      },
      "execution_count": null,
      "outputs": []
    },
    {
      "cell_type": "code",
      "source": [
        "mtnb=mtnb.fit(X_train, y_train)\n",
        "y_pred=mtnb.predict(X_test)\n",
        "y_pred"
      ],
      "metadata": {
        "id": "oEUkOiOAUFzQ"
      },
      "execution_count": null,
      "outputs": []
    },
    {
      "cell_type": "markdown",
      "source": [
        "#### Classification between **y_test** and **y_pred** values using **Confusion Matrix**"
      ],
      "metadata": {
        "id": "YXA9ZvBQVU24"
      }
    },
    {
      "cell_type": "code",
      "source": [
        "from sklearn.metrics import confusion_matrix\n",
        "cm=confusion_matrix(y_test, y_pred) # 2 x 2 matrix\n",
        "cm"
      ],
      "metadata": {
        "id": "bwAGaNxWVdy6"
      },
      "execution_count": null,
      "outputs": []
    },
    {
      "cell_type": "markdown",
      "source": [
        "#### Check the accuracy score of model"
      ],
      "metadata": {
        "id": "nulDIlQUWFWX"
      }
    },
    {
      "cell_type": "code",
      "source": [
        "from sklearn.metrics import accuracy_score\n",
        "ac=accuracy_score(y_test, y_pred)\n",
        "ac"
      ],
      "metadata": {
        "id": "WH9bpAIKWMxe"
      },
      "execution_count": null,
      "outputs": []
    }
  ]
}