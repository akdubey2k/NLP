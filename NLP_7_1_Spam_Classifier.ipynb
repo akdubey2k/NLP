{
  "nbformat": 4,
  "nbformat_minor": 0,
  "metadata": {
    "colab": {
      "provenance": []
    },
    "kernelspec": {
      "name": "python3",
      "display_name": "Python 3"
    },
    "language_info": {
      "name": "python"
    }
  },
  "cells": [
    {
      "cell_type": "markdown",
      "source": [
        "# 1. Introduction about dataset\n",
        "## Context\n",
        "* The **SMS Spam Collection** is a set of SMS tagged messages that have been collected for SMS Spam research.\n",
        "* It contains one set of SMS messages in English of **5,574** messages, tagged acording being **ham** (legitimate) or **spam.**\n",
        "\n",
        "## Content\n",
        "* The files contain one message per line.\n",
        "* Each line is composed by two columns:\n",
        " * v1 contains the label (ham or spam) and\n",
        " * v2 contains the raw text.\n",
        "\n",
        "\n"
      ],
      "metadata": {
        "id": "FqgI2lIa6OJ-"
      }
    },
    {
      "cell_type": "markdown",
      "source": [
        "**Thanks to:-**\n",
        "* [SMS Spam Collection](https://archive.ics.uci.edu/dataset/228/sms+spam+collection)"
      ],
      "metadata": {
        "id": "7X6wk2oRJ9IA"
      }
    },
    {
      "cell_type": "markdown",
      "source": [
        "# 2. Import libraries\n",
        "- To building a spam classifier we need to perform text preprocessing.\n",
        "- For this required necessary libraries and tools to import for\n",
        "  - data manipulation,\n",
        "  - text cleaning,\n",
        "  - stemming,\n",
        "  - lemmatization, and\n",
        "  - removal of common stopwords.\n",
        "  These steps help prepare raw text data for machine learning models, improving their accuracy and performance."
      ],
      "metadata": {
        "id": "WQf3lGeg7HzQ"
      }
    },
    {
      "cell_type": "code",
      "execution_count": null,
      "metadata": {
        "id": "wtZ1z5Te6Md6"
      },
      "outputs": [],
      "source": [
        "# provides tools for text preprocessing, tokenization, stemming, lemmatization, stopwords removal, and more.\n",
        "import nltk\n",
        "\n",
        "# Helps in loading, analyzing, and manipulating the dataset efficiently. It is typically used to read the data, handle missing values, and structure the data in a tabular format, particularly when working with structured data like CSV files.\n",
        "import pandas as pd\n",
        "\n",
        "# for cleaning text data, such as removing special characters, punctuations, and other unwanted patterns from the text.\n",
        "import re\n",
        "\n",
        "# simplify words in text data to their base form, which helps in reducing the dimensionality of text data and improving the performance of the model.\n",
        "from nltk.stem import PorterStemmer\n",
        "\n",
        "# convert words to their base or dictionary form (e.g., \"better\" to \"good\"). It is more context-aware than stemming, making it more effective in NLP tasks.\n",
        "from nltk.stem import WordNetLemmatizer\n",
        "\n",
        "# removing the frequently occurring words (e.g., \"the\", \"and\", \"is\") that do not contribute significantly to the classification task, thereby improving model efficiency and accuracy.\n",
        "from nltk.corpus import stopwords"
      ]
    },
    {
      "cell_type": "markdown",
      "source": [
        "#### Download the nltk library's data"
      ],
      "metadata": {
        "id": "0Ehhk5ij7T-j"
      }
    },
    {
      "cell_type": "code",
      "source": [
        "nltk.download('all')"
      ],
      "metadata": {
        "id": "OPcezoZe7RE3"
      },
      "execution_count": null,
      "outputs": []
    },
    {
      "cell_type": "markdown",
      "source": [
        "#### Calling others dependent libraries"
      ],
      "metadata": {
        "id": "Xc7D94hk9V3x"
      }
    },
    {
      "cell_type": "code",
      "source": [
        "from nltk.stem import PorterStemmer\n",
        "from nltk.stem import WordNetLemmatizer\n",
        "from nltk.corpus import stopwords"
      ],
      "metadata": {
        "id": "JplYdvNr9CyR"
      },
      "execution_count": null,
      "outputs": []
    },
    {
      "cell_type": "markdown",
      "source": [
        "#### copying the raw spam data from **github**"
      ],
      "metadata": {
        "id": "oj71RlRwDxdV"
      }
    },
    {
      "cell_type": "code",
      "source": [
        "url_new=\"https://raw.githubusercontent.com/akdubey2k/NLP/main/Spam_Classifier/SpamCollection.csv\"\n",
        "url_org='https://raw.githubusercontent.com/akdubey2k/NLP/main/Spam_Classifier/SMSSpamCollection.csv'"
      ],
      "metadata": {
        "id": "RstOQyafCFMU"
      },
      "execution_count": null,
      "outputs": []
    },
    {
      "cell_type": "markdown",
      "source": [
        "#### Read data from **github** repositary using **pandas**."
      ],
      "metadata": {
        "id": "j1foLD-wD9yu"
      }
    },
    {
      "cell_type": "code",
      "source": [
        "df=pd.read_csv(url_new, sep='\\t')\n",
        "df.head()"
      ],
      "metadata": {
        "colab": {
          "base_uri": "https://localhost:8080/",
          "height": 206
        },
        "id": "98n5KrtZDvCb",
        "outputId": "db42103d-05e8-4c46-96fc-4038265bdaa6"
      },
      "execution_count": null,
      "outputs": [
        {
          "output_type": "execute_result",
          "data": {
            "text/plain": [
              "    ham  \\\n",
              "0   ham   \n",
              "1  spam   \n",
              "2   ham   \n",
              "3   ham   \n",
              "4  spam   \n",
              "\n",
              "  Go until jurong point, crazy.. Available only in bugis n great world la e buffet... Cine there got amore wat...  \n",
              "0                      Ok lar... Joking wif u oni...                                                               \n",
              "1  Free entry in 2 a wkly comp to win FA Cup fina...                                                               \n",
              "2  U dun say so early hor... U c already then say...                                                               \n",
              "3  Nah I don't think he goes to usf, he lives aro...                                                               \n",
              "4  FreeMsg Hey there darling it's been 3 week's n...                                                               "
            ],
            "text/html": [
              "\n",
              "  <div id=\"df-22c0a8eb-83eb-4243-9039-c3390146da62\">\n",
              "    <div class=\"colab-df-container\">\n",
              "      <div>\n",
              "<style scoped>\n",
              "    .dataframe tbody tr th:only-of-type {\n",
              "        vertical-align: middle;\n",
              "    }\n",
              "\n",
              "    .dataframe tbody tr th {\n",
              "        vertical-align: top;\n",
              "    }\n",
              "\n",
              "    .dataframe thead th {\n",
              "        text-align: right;\n",
              "    }\n",
              "</style>\n",
              "<table border=\"1\" class=\"dataframe\">\n",
              "  <thead>\n",
              "    <tr style=\"text-align: right;\">\n",
              "      <th></th>\n",
              "      <th>ham</th>\n",
              "      <th>Go until jurong point, crazy.. Available only in bugis n great world la e buffet... Cine there got amore wat...</th>\n",
              "    </tr>\n",
              "  </thead>\n",
              "  <tbody>\n",
              "    <tr>\n",
              "      <th>0</th>\n",
              "      <td>ham</td>\n",
              "      <td>Ok lar... Joking wif u oni...</td>\n",
              "    </tr>\n",
              "    <tr>\n",
              "      <th>1</th>\n",
              "      <td>spam</td>\n",
              "      <td>Free entry in 2 a wkly comp to win FA Cup fina...</td>\n",
              "    </tr>\n",
              "    <tr>\n",
              "      <th>2</th>\n",
              "      <td>ham</td>\n",
              "      <td>U dun say so early hor... U c already then say...</td>\n",
              "    </tr>\n",
              "    <tr>\n",
              "      <th>3</th>\n",
              "      <td>ham</td>\n",
              "      <td>Nah I don't think he goes to usf, he lives aro...</td>\n",
              "    </tr>\n",
              "    <tr>\n",
              "      <th>4</th>\n",
              "      <td>spam</td>\n",
              "      <td>FreeMsg Hey there darling it's been 3 week's n...</td>\n",
              "    </tr>\n",
              "  </tbody>\n",
              "</table>\n",
              "</div>\n",
              "      <button class=\"colab-df-convert\" onclick=\"convertToInteractive('df-22c0a8eb-83eb-4243-9039-c3390146da62')\"\n",
              "              title=\"Convert this dataframe to an interactive table.\"\n",
              "              style=\"display:none;\">\n",
              "        \n",
              "  <svg xmlns=\"http://www.w3.org/2000/svg\" height=\"24px\"viewBox=\"0 0 24 24\"\n",
              "       width=\"24px\">\n",
              "    <path d=\"M0 0h24v24H0V0z\" fill=\"none\"/>\n",
              "    <path d=\"M18.56 5.44l.94 2.06.94-2.06 2.06-.94-2.06-.94-.94-2.06-.94 2.06-2.06.94zm-11 1L8.5 8.5l.94-2.06 2.06-.94-2.06-.94L8.5 2.5l-.94 2.06-2.06.94zm10 10l.94 2.06.94-2.06 2.06-.94-2.06-.94-.94-2.06-.94 2.06-2.06.94z\"/><path d=\"M17.41 7.96l-1.37-1.37c-.4-.4-.92-.59-1.43-.59-.52 0-1.04.2-1.43.59L10.3 9.45l-7.72 7.72c-.78.78-.78 2.05 0 2.83L4 21.41c.39.39.9.59 1.41.59.51 0 1.02-.2 1.41-.59l7.78-7.78 2.81-2.81c.8-.78.8-2.07 0-2.86zM5.41 20L4 18.59l7.72-7.72 1.47 1.35L5.41 20z\"/>\n",
              "  </svg>\n",
              "      </button>\n",
              "      \n",
              "  <style>\n",
              "    .colab-df-container {\n",
              "      display:flex;\n",
              "      flex-wrap:wrap;\n",
              "      gap: 12px;\n",
              "    }\n",
              "\n",
              "    .colab-df-convert {\n",
              "      background-color: #E8F0FE;\n",
              "      border: none;\n",
              "      border-radius: 50%;\n",
              "      cursor: pointer;\n",
              "      display: none;\n",
              "      fill: #1967D2;\n",
              "      height: 32px;\n",
              "      padding: 0 0 0 0;\n",
              "      width: 32px;\n",
              "    }\n",
              "\n",
              "    .colab-df-convert:hover {\n",
              "      background-color: #E2EBFA;\n",
              "      box-shadow: 0px 1px 2px rgba(60, 64, 67, 0.3), 0px 1px 3px 1px rgba(60, 64, 67, 0.15);\n",
              "      fill: #174EA6;\n",
              "    }\n",
              "\n",
              "    [theme=dark] .colab-df-convert {\n",
              "      background-color: #3B4455;\n",
              "      fill: #D2E3FC;\n",
              "    }\n",
              "\n",
              "    [theme=dark] .colab-df-convert:hover {\n",
              "      background-color: #434B5C;\n",
              "      box-shadow: 0px 1px 3px 1px rgba(0, 0, 0, 0.15);\n",
              "      filter: drop-shadow(0px 1px 2px rgba(0, 0, 0, 0.3));\n",
              "      fill: #FFFFFF;\n",
              "    }\n",
              "  </style>\n",
              "\n",
              "      <script>\n",
              "        const buttonEl =\n",
              "          document.querySelector('#df-22c0a8eb-83eb-4243-9039-c3390146da62 button.colab-df-convert');\n",
              "        buttonEl.style.display =\n",
              "          google.colab.kernel.accessAllowed ? 'block' : 'none';\n",
              "\n",
              "        async function convertToInteractive(key) {\n",
              "          const element = document.querySelector('#df-22c0a8eb-83eb-4243-9039-c3390146da62');\n",
              "          const dataTable =\n",
              "            await google.colab.kernel.invokeFunction('convertToInteractive',\n",
              "                                                     [key], {});\n",
              "          if (!dataTable) return;\n",
              "\n",
              "          const docLinkHtml = 'Like what you see? Visit the ' +\n",
              "            '<a target=\"_blank\" href=https://colab.research.google.com/notebooks/data_table.ipynb>data table notebook</a>'\n",
              "            + ' to learn more about interactive tables.';\n",
              "          element.innerHTML = '';\n",
              "          dataTable['output_type'] = 'display_data';\n",
              "          await google.colab.output.renderOutput(dataTable, element);\n",
              "          const docLink = document.createElement('div');\n",
              "          docLink.innerHTML = docLinkHtml;\n",
              "          element.appendChild(docLink);\n",
              "        }\n",
              "      </script>\n",
              "    </div>\n",
              "  </div>\n",
              "  "
            ]
          },
          "metadata": {},
          "execution_count": 5
        }
      ]
    },
    {
      "cell_type": "markdown",
      "source": [
        "#### Creating a **pandas** dataframe by inserting new columns named as **label**, **message** and **index** by default true."
      ],
      "metadata": {
        "id": "fLzRA4GbJPHR"
      }
    },
    {
      "cell_type": "code",
      "source": [
        "df=pd.read_csv(url_new, sep='\\t', names=['label', 'message'])\n",
        "df.head()"
      ],
      "metadata": {
        "id": "C8_9qh5nJRR0"
      },
      "execution_count": null,
      "outputs": []
    },
    {
      "cell_type": "code",
      "source": [
        "df=pd.read_csv(url_org, sep='\\t', names=['label', 'message'])\n",
        "df.head()"
      ],
      "metadata": {
        "id": "bmFOFlu6Jq8S"
      },
      "execution_count": null,
      "outputs": []
    },
    {
      "cell_type": "markdown",
      "source": [
        "#### Creation of **Stemming** and **Lemmatization** object"
      ],
      "metadata": {
        "id": "Pa5J6AiNLezF"
      }
    },
    {
      "cell_type": "code",
      "source": [
        "ps=PorterStemmer()\n",
        "wnl=WordNetLemmatizer()"
      ],
      "metadata": {
        "id": "Xo2N-xShLtdj"
      },
      "execution_count": null,
      "outputs": []
    },
    {
      "cell_type": "markdown",
      "source": [
        "#### Data **Cleaning** and **preprocessing**"
      ],
      "metadata": {
        "id": "rzT8mGwOJ8sl"
      }
    },
    {
      "cell_type": "code",
      "source": [
        "corpus=[]\n",
        "for i in range(0, len(df)):\n",
        "  data=re.sub('[^a-zA-Z]', ' ', df['message'][i])\n",
        "  # print(data)\n",
        "  data=data.lower()\n",
        "  data=data.split()\n",
        "  #data=[ps.stem(word) for word in data if word not in set(stopwords.words('english'))]\n",
        "  data=[wnl.lemmatize(word) for word in data if word not in set(stopwords.words('english'))]\n",
        "  data=' '.join(data)\n",
        "  corpus.append(data)\n",
        "\n",
        "# print(corpus)"
      ],
      "metadata": {
        "id": "1kDETEYeKEOI"
      },
      "execution_count": null,
      "outputs": []
    },
    {
      "cell_type": "markdown",
      "source": [
        "#### **Bag of word** creation for spam classification"
      ],
      "metadata": {
        "id": "yYw50MwJMu7R"
      }
    },
    {
      "cell_type": "code",
      "source": [
        "from sklearn.feature_extraction.text import CountVectorizer\n",
        "cv=CountVectorizer(max_features=2500)\n",
        "X=cv.fit_transform(corpus).toarray()\n",
        "X"
      ],
      "metadata": {
        "colab": {
          "base_uri": "https://localhost:8080/"
        },
        "id": "B66z_OlyM8EI",
        "outputId": "b418386c-ca42-4b7e-a56e-685638b91796"
      },
      "execution_count": null,
      "outputs": [
        {
          "output_type": "execute_result",
          "data": {
            "text/plain": [
              "array([[0, 0, 0, ..., 0, 0, 0],\n",
              "       [0, 0, 0, ..., 0, 0, 0],\n",
              "       [0, 0, 0, ..., 0, 0, 0],\n",
              "       ...,\n",
              "       [0, 0, 0, ..., 0, 0, 0],\n",
              "       [0, 0, 0, ..., 0, 0, 0],\n",
              "       [0, 0, 0, ..., 0, 0, 0]])"
            ]
          },
          "metadata": {},
          "execution_count": 10
        }
      ]
    },
    {
      "cell_type": "markdown",
      "source": [
        "#### get **dummies** from **pandas** dataframe for the **output/dependent** variable (**label** column)"
      ],
      "metadata": {
        "id": "o7KloNRCNlfx"
      }
    },
    {
      "cell_type": "code",
      "source": [
        "y=pd.get_dummies(df['label'])\n",
        "y"
      ],
      "metadata": {
        "id": "4eg5k79FN_9P"
      },
      "execution_count": null,
      "outputs": []
    },
    {
      "cell_type": "markdown",
      "source": [
        "#### As there is only two dummy varibales, so we do not need two column... we can convert this **dummy variable trap** by using single column."
      ],
      "metadata": {
        "id": "almku9KZQZlb"
      }
    },
    {
      "cell_type": "code",
      "source": [
        "y=y.iloc[:,1].values # all rows and only one column.... values need to be present\n",
        "y"
      ],
      "metadata": {
        "colab": {
          "base_uri": "https://localhost:8080/"
        },
        "id": "bUX5W-QDPPIE",
        "outputId": "69cf8409-595d-49d4-c8ef-cf5c65edfa4d"
      },
      "execution_count": null,
      "outputs": [
        {
          "output_type": "execute_result",
          "data": {
            "text/plain": [
              "array([0, 0, 1, ..., 0, 0, 0], dtype=uint8)"
            ]
          },
          "metadata": {},
          "execution_count": 12
        }
      ]
    },
    {
      "cell_type": "markdown",
      "source": [
        "#### Split the data into **training** and **test** set, using **sklearn**\n",
        "X (fit_transform(corpus)) => independent variable and\n",
        "\n",
        "y (single dummy varible) => depedent variable"
      ],
      "metadata": {
        "id": "vI_tm_9QRUqB"
      }
    },
    {
      "cell_type": "code",
      "source": [
        "from sklearn.model_selection import train_test_split\n",
        "X_train, X_test, y_train, y_test=train_test_split(X, y, test_size=0.20, random_state=0)"
      ],
      "metadata": {
        "id": "rU45UJO-RmkH"
      },
      "execution_count": null,
      "outputs": []
    },
    {
      "cell_type": "markdown",
      "source": [
        "#### Classification (Training) model using **Naive Bayes Classifier**\n"
      ],
      "metadata": {
        "id": "q8AKXNXxSau1"
      }
    },
    {
      "cell_type": "code",
      "source": [
        "from sklearn.naive_bayes import MultinomialNB\n",
        "mtnb=MultinomialNB()\n",
        "mtnb.fit(X, y)"
      ],
      "metadata": {
        "colab": {
          "base_uri": "https://localhost:8080/"
        },
        "id": "AvJSUNCeSn_P",
        "outputId": "b8ce0de1-d732-45a4-b883-e2a28e22e7b7"
      },
      "execution_count": null,
      "outputs": [
        {
          "output_type": "execute_result",
          "data": {
            "text/plain": [
              "MultinomialNB()"
            ]
          },
          "metadata": {},
          "execution_count": 14
        }
      ]
    },
    {
      "cell_type": "code",
      "source": [
        "mtnb=mtnb.fit(X_train, y_train)\n",
        "y_pred=mtnb.predict(X_test)\n",
        "y_pred"
      ],
      "metadata": {
        "colab": {
          "base_uri": "https://localhost:8080/"
        },
        "id": "oEUkOiOAUFzQ",
        "outputId": "a47523cd-dccf-4816-f232-aa8e05e84496"
      },
      "execution_count": null,
      "outputs": [
        {
          "output_type": "execute_result",
          "data": {
            "text/plain": [
              "array([0, 1, 0, ..., 0, 1, 0], dtype=uint8)"
            ]
          },
          "metadata": {},
          "execution_count": 15
        }
      ]
    },
    {
      "cell_type": "markdown",
      "source": [
        "#### Classification between **y_test** and **y_pred** values using **Confusion Matrix**"
      ],
      "metadata": {
        "id": "YXA9ZvBQVU24"
      }
    },
    {
      "cell_type": "code",
      "source": [
        "from sklearn.metrics import confusion_matrix\n",
        "cm=confusion_matrix(y_test, y_pred) # 2 x 2 matrix\n",
        "cm"
      ],
      "metadata": {
        "colab": {
          "base_uri": "https://localhost:8080/"
        },
        "id": "bwAGaNxWVdy6",
        "outputId": "186cd46c-3460-4dfd-9c55-a3d3b262ef00"
      },
      "execution_count": null,
      "outputs": [
        {
          "output_type": "execute_result",
          "data": {
            "text/plain": [
              "array([[946,   9],\n",
              "       [ 10, 150]])"
            ]
          },
          "metadata": {},
          "execution_count": 16
        }
      ]
    },
    {
      "cell_type": "markdown",
      "source": [
        "#### Check the accuracy score of model"
      ],
      "metadata": {
        "id": "nulDIlQUWFWX"
      }
    },
    {
      "cell_type": "code",
      "source": [
        "from sklearn.metrics import accuracy_score\n",
        "ac=accuracy_score(y_test, y_pred)\n",
        "ac"
      ],
      "metadata": {
        "colab": {
          "base_uri": "https://localhost:8080/"
        },
        "id": "WH9bpAIKWMxe",
        "outputId": "f93240d1-41fc-43ec-81db-69dc6db34829"
      },
      "execution_count": null,
      "outputs": [
        {
          "output_type": "execute_result",
          "data": {
            "text/plain": [
              "0.9829596412556054"
            ]
          },
          "metadata": {},
          "execution_count": 19
        }
      ]
    }
  ]
}