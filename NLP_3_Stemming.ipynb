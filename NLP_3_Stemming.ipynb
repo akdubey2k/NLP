{
  "nbformat": 4,
  "nbformat_minor": 0,
  "metadata": {
    "colab": {
      "provenance": []
    },
    "kernelspec": {
      "name": "python3",
      "display_name": "Python 3"
    },
    "language_info": {
      "name": "python"
    }
  },
  "cells": [
    {
      "cell_type": "markdown",
      "source": [
        "# 1. Introduction\n",
        "## 1.1 Definition\n",
        "## Stemming\n",
        "* **Stemming** is a natural language processing technique *used to reduce words to their base or root form, often by removing suffixes.*\n",
        "* The main goal of **stemming** is to simplify the words so that variations of a word can be treated as the same term, which is useful in tasks like\n",
        "  * information retrieval,\n",
        "  * search engines, and\n",
        "  * text analysis.\n",
        "\n"
      ],
      "metadata": {
        "id": "OGca7s141HwE"
      }
    },
    {
      "cell_type": "markdown",
      "source": [
        "## 1.2 How Stemming Works\n",
        "**Stemming** algorithms, such as the **Porter Stemmer,** work by stripping common suffixes from words. For example:\n",
        "* **\"running\"** becomes **\"run\"**\n",
        "* **\"jumps\"** becomes **\"jump\"**\n",
        "* **\"easily\"** becomes **\"easi\"**\n",
        "\n",
        "## 1.3 Applications of Stemming\n",
        "* **Search Engines:** Improves search results by matching different forms of a word.\n",
        "* **Text Mining and Sentiment Analysis:** Helps in clustering similar terms.\n",
        "* **Document Classification:** Reduces the dimensionality of feature space by grouping similar words.\n",
        "\n",
        "However, **stemming** may sometimes produce non-dictionary words, making it slightly inaccurate compared to other techniques like **lemmatization**, which reduces words to their dictionary form."
      ],
      "metadata": {
        "id": "RtlkRHnmlOIX"
      }
    },
    {
      "cell_type": "markdown",
      "source": [
        "# 2. Import libraries"
      ],
      "metadata": {
        "id": "UkdUVyFam9sx"
      }
    },
    {
      "cell_type": "markdown",
      "source": [
        "## 2.1 What Are Stopwords?\n",
        "* **Stopwords** are common words in a language that are often filtered out during text processing because they carry little meaningful information. Examples include **\"the,\" \"is,\" \"in,\" \"and,\" etc.**\n",
        "* These words are usually removed in tasks like ***text analysis, information retrieval, and machine learning*** to improve the performance of algorithms by focusing on more relevant words."
      ],
      "metadata": {
        "id": "nP5_wxNIoJkI"
      }
    },
    {
      "cell_type": "code",
      "execution_count": 1,
      "metadata": {
        "id": "gZkISKGb00zu",
        "colab": {
          "base_uri": "https://localhost:8080/"
        },
        "outputId": "82b25a15-31fc-4b8a-d7ac-f915a9c1708e"
      },
      "outputs": [
        {
          "output_type": "stream",
          "name": "stderr",
          "text": [
            "[nltk_data] Downloading package stopwords to /root/nltk_data...\n",
            "[nltk_data]   Package stopwords is already up-to-date!\n"
          ]
        }
      ],
      "source": [
        "# import the Natural Language Toolkit (NLTK) library for working with human language data (text) such as tokenization, part-of-speech tagging, and more.\n",
        "import nltk\n",
        "\n",
        "# A specific stemming algorithm from 'nltk' that reduces words to their base or root form.\n",
        "from nltk.stem import PorterStemmer\n",
        "\n",
        "# The 'stopwords' module from 'nltk' provides a list of common stopwords for various languages.\n",
        "nltk.download('stopwords')\n",
        "from nltk.corpus import stopwords"
      ]
    },
    {
      "cell_type": "markdown",
      "source": [
        "# 3. Download the \"NLTK' resources"
      ],
      "metadata": {
        "id": "hCDkF4pWrBE8"
      }
    },
    {
      "cell_type": "code",
      "source": [
        "# downloads all the datasets and models available in NLTK\n",
        "# nltk.download('all')\n",
        "\n",
        "# Punkt Tokenizer: This is useful for tokenizing text into sentences or words.\n",
        "nltk.download('punkt')"
      ],
      "metadata": {
        "id": "ujVPWxPQ2zeM",
        "colab": {
          "base_uri": "https://localhost:8080/"
        },
        "outputId": "5bdda2d8-d0ea-48fa-9048-729c491c7416"
      },
      "execution_count": 2,
      "outputs": [
        {
          "output_type": "stream",
          "name": "stderr",
          "text": [
            "[nltk_data] Downloading package punkt to /root/nltk_data...\n",
            "[nltk_data]   Package punkt is already up-to-date!\n"
          ]
        },
        {
          "output_type": "execute_result",
          "data": {
            "text/plain": [
              "True"
            ]
          },
          "metadata": {},
          "execution_count": 2
        }
      ]
    },
    {
      "cell_type": "markdown",
      "source": [
        "# 4. Database Creation\n",
        "Use this text paragraph data for analysis using **\"NLTK\"** tools."
      ],
      "metadata": {
        "id": "QscosJkBrxba"
      }
    },
    {
      "cell_type": "code",
      "source": [
        "paragraph = \"\"\"I have three visions for India. In 3000 years of our history, people from all over the world have come and invaded us, captured our lands, conquered our minds.\n",
        "               From Alexander onwards, the Greeks, the Turks, the Moguls, the Portuguese, the British, the French, the Dutch, all of them came and looted us, took over what was ours.\n",
        "               Yet we have not done this to any other nation. We have not conquered anyone.\n",
        "               We have not grabbed their land, their culture, their history and tried to enforce our way of life on them.\n",
        "               Why? Because we respect the freedom of others.That is why my first vision is that of freedom. I believe that India got its first vision of this in 1857, when we started the War of Independence. It is this freedom that we must protect and nurture and build on. If we are not free, no one will respect us.\n",
        "               My second vision for India’s development. For fifty years we have been a developing nation.\n",
        "               It is time we see ourselves as a developed nation. We are among the top 5 nations of the world in terms of GDP. We have a 10 percent growth rate in most areas. Our poverty levels are falling.\n",
        "               Our achievements are being globally recognised today. Yet we lack the self-confidence to see ourselves as a developed nation, self-reliant and self-assured. Isn’t this incorrect?\n",
        "               I have a third vision. India must stand up to the world. Because I believe that unless India stands up to the world, no one will respect us. Only strength respects strength. We must be strong not only as a military power but also as an economic power. Both must go hand-in-hand.\n",
        "               My good fortune was to have worked with three great minds. Dr. Vikram Sarabhai of the Dept. of space, Professor Satish Dhawan, who succeeded him and Dr. Brahm Prakash, father of nuclear material.\n",
        "               I was lucky to have worked with all three of them closely and consider this the great opportunity of my life.\n",
        "               I see four milestones in my career.\"\"\""
      ],
      "metadata": {
        "id": "9ekNtNxD29rp"
      },
      "execution_count": 3,
      "outputs": []
    },
    {
      "cell_type": "markdown",
      "source": [
        "# 5. Data Pre-processing and Tokenization\n",
        "## 5.1 Tokenize the entire **paragraph**\n",
        "* In data pre-processing, the first step is to clean and prepare raw text data for analysis.\n",
        "* **Tokenization**, a fundamental technique in **Natural Language Processing (NLP)**, involves breaking down a paragraph into\n",
        "  * individual words,\n",
        "  * phrases, or\n",
        "  * sentences,\n",
        "\n",
        "  making the data easier to analyze and process.\n",
        "\n",
        "This section will guide you through tokenizing a given paragraph to facilitate further text analysis."
      ],
      "metadata": {
        "id": "zErmqAYVjexT"
      }
    },
    {
      "cell_type": "markdown",
      "source": [
        "## 5.2 Initialize the PorterStemmer Class\n",
        "* **PorterStemmer**, performs the stemming operations on words."
      ],
      "metadata": {
        "id": "D2u_nsFwakj2"
      }
    },
    {
      "cell_type": "code",
      "source": [
        "# ps, an instance of the PorterStemmer, class\n",
        "ps = PorterStemmer()\n",
        "\n",
        "# Tokenize (split) the given paragraph into a list of sentences.\n",
        "sent_list = nltk.sent_tokenize(paragraph)\n",
        "\n",
        "# Display the list of tokenized sentences\n",
        "sent_list"
      ],
      "metadata": {
        "id": "U9rqeiUj3C9t",
        "colab": {
          "base_uri": "https://localhost:8080/"
        },
        "outputId": "1c211e81-27b0-4111-e651-0aebbea7941b"
      },
      "execution_count": 4,
      "outputs": [
        {
          "output_type": "execute_result",
          "data": {
            "text/plain": [
              "['I have three visions for India.',\n",
              " 'In 3000 years of our history, people from all over the world have come and invaded us, captured our lands, conquered our minds.',\n",
              " 'From Alexander onwards, the Greeks, the Turks, the Moguls, the Portuguese, the British, the French, the Dutch, all of them came and looted us, took over what was ours.',\n",
              " 'Yet we have not done this to any other nation.',\n",
              " 'We have not conquered anyone.',\n",
              " 'We have not grabbed their land, their culture, their history and tried to enforce our way of life on them.',\n",
              " 'Why?',\n",
              " 'Because we respect the freedom of others.That is why my first vision is that of freedom.',\n",
              " 'I believe that India got its first vision of this in 1857, when we started the War of Independence.',\n",
              " 'It is this freedom that we must protect and nurture and build on.',\n",
              " 'If we are not free, no one will respect us.',\n",
              " 'My second vision for India’s development.',\n",
              " 'For fifty years we have been a developing nation.',\n",
              " 'It is time we see ourselves as a developed nation.',\n",
              " 'We are among the top 5 nations of the world in terms of GDP.',\n",
              " 'We have a 10 percent growth rate in most areas.',\n",
              " 'Our poverty levels are falling.',\n",
              " 'Our achievements are being globally recognised today.',\n",
              " 'Yet we lack the self-confidence to see ourselves as a developed nation, self-reliant and self-assured.',\n",
              " 'Isn’t this incorrect?',\n",
              " 'I have a third vision.',\n",
              " 'India must stand up to the world.',\n",
              " 'Because I believe that unless India stands up to the world, no one will respect us.',\n",
              " 'Only strength respects strength.',\n",
              " 'We must be strong not only as a military power but also as an economic power.',\n",
              " 'Both must go hand-in-hand.',\n",
              " 'My good fortune was to have worked with three great minds.',\n",
              " 'Dr. Vikram Sarabhai of the Dept.',\n",
              " 'of space, Professor Satish Dhawan, who succeeded him and Dr. Brahm Prakash, father of nuclear material.',\n",
              " 'I was lucky to have worked with all three of them closely and consider this the great opportunity of my life.',\n",
              " 'I see four milestones in my career.']"
            ]
          },
          "metadata": {},
          "execution_count": 4
        }
      ]
    },
    {
      "cell_type": "markdown",
      "source": [
        "## 5.3 Setup and use of **stopwords** as per the different language"
      ],
      "metadata": {
        "id": "l7hyR_F_jr4o"
      }
    },
    {
      "cell_type": "code",
      "source": [
        "# stopwords.words('german')\n",
        "# stopwords.words('french')\n",
        "\n",
        "# Load English stopwords\n",
        "stop_words = set(stopwords.words('english'))"
      ],
      "metadata": {
        "id": "PJd1rfrGEXFe"
      },
      "execution_count": 5,
      "outputs": []
    },
    {
      "cell_type": "markdown",
      "source": [
        "# 6. Text Pre-processing: Tokenization, Stopword Removal, and Stemming Using NLTK\"\n",
        "* **Stemming** of entire paragraph, using **for loop & list comprehension**\n",
        "* by removing common English stopwords\n",
        "* updates each sentence with only the stemmed words, effectively reducing the text to its core components for further analysis.\n",
        "* print the result by showing the processed sentences."
      ],
      "metadata": {
        "id": "MDlgW56AmhIS"
      }
    },
    {
      "cell_type": "markdown",
      "source": [
        "### **Stemming** of entire paragraph, using list comprehension."
      ],
      "metadata": {
        "id": "YOTJGvPhG_Fa"
      }
    },
    {
      "cell_type": "code",
      "source": [
        "# tokenize the entire 'paragraph' into a list (sent_list)\n",
        "sent_list = nltk.sent_tokenize(paragraph)\n",
        "\n",
        "# iterates over each sentence in 'sent_list'\n",
        "for i in range(len(sent_list)):\n",
        "\n",
        "  # Tokenize each sentence into a list of words\n",
        "  word_list = nltk.word_tokenize(sent_list[i])\n",
        "  # you have to iterate each sentence then each word of every sentence\n",
        "\n",
        "  # Iterate over each word in 'word_list'\n",
        "  words = [ps.stem(word) for word in word_list if word not in set(stopwords.words('english'))]\n",
        "  # checking \"if word not in\"\n",
        "\n",
        "  # Join the stemmed words back into a single sentence\n",
        "  sent_list[i] = ' '.join(words)\n",
        "\n",
        "  # Print the processed sentence\n",
        "  print(sent_list[i])"
      ],
      "metadata": {
        "id": "CS2A_rwFFZzS",
        "colab": {
          "base_uri": "https://localhost:8080/"
        },
        "outputId": "178198e4-c12b-4f4d-bcba-14a019d6db54"
      },
      "execution_count": 6,
      "outputs": [
        {
          "output_type": "stream",
          "name": "stdout",
          "text": [
            "i three vision india .\n",
            "in 3000 year histori , peopl world come invad us , captur land , conquer mind .\n",
            "from alexand onward , greek , turk , mogul , portugues , british , french , dutch , came loot us , took .\n",
            "yet done nation .\n",
            "we conquer anyon .\n",
            "we grab land , cultur , histori tri enforc way life .\n",
            "whi ?\n",
            "becaus respect freedom others.that first vision freedom .\n",
            "i believ india got first vision 1857 , start war independ .\n",
            "it freedom must protect nurtur build .\n",
            "if free , one respect us .\n",
            "my second vision india ’ develop .\n",
            "for fifti year develop nation .\n",
            "it time see develop nation .\n",
            "we among top 5 nation world term gdp .\n",
            "we 10 percent growth rate area .\n",
            "our poverti level fall .\n",
            "our achiev global recognis today .\n",
            "yet lack self-confid see develop nation , self-reli self-assur .\n",
            "isn ’ incorrect ?\n",
            "i third vision .\n",
            "india must stand world .\n",
            "becaus i believ unless india stand world , one respect us .\n",
            "onli strength respect strength .\n",
            "we must strong militari power also econom power .\n",
            "both must go hand-in-hand .\n",
            "my good fortun work three great mind .\n",
            "dr. vikram sarabhai dept .\n",
            "space , professor satish dhawan , succeed dr. brahm prakash , father nuclear materi .\n",
            "i lucki work three close consid great opportun life .\n",
            "i see four mileston career .\n"
          ]
        }
      ]
    }
  ]
}