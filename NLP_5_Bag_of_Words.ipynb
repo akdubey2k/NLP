{
  "nbformat": 4,
  "nbformat_minor": 0,
  "metadata": {
    "colab": {
      "provenance": []
    },
    "kernelspec": {
      "name": "python3",
      "display_name": "Python 3"
    },
    "language_info": {
      "name": "python"
    }
  },
  "cells": [
    {
      "cell_type": "markdown",
      "source": [
        "# 1. Introduction\n",
        "## 1.1 Definition\n",
        "**Bag of Words (BoW)** is a simple and widely used text representation technique in **natural language processing (NLP)** and information retrieval. It transforms text into numerical features, which can then be used in machine learning models.\n",
        "\n",
        "**BoW** is foundational in text processing and serves as a stepping stone to more advanced techniques like\n",
        "* TF-IDF,\n",
        "* word embeddings, and\n",
        "* transformers."
      ],
      "metadata": {
        "id": "F3U08TvdttWB"
      }
    },
    {
      "cell_type": "markdown",
      "source": [
        "# 2. Import libraries"
      ],
      "metadata": {
        "id": "IEH_eXgK1Cy3"
      }
    },
    {
      "cell_type": "code",
      "execution_count": 1,
      "metadata": {
        "id": "84ZGRNU5tjJ8"
      },
      "outputs": [],
      "source": [
        "# NLTK library works with human language data (text) such as tokenization, part-of-speech tagging, and more.\n",
        "import nltk\n",
        "\n",
        "# A specific stemming algorithm from 'nltk' that reduces words to their base or root form.\n",
        "from nltk.stem import PorterStemmer\n",
        "\n",
        "# WordNetLemmatizer class from the nltk.stem module, which is responsible for lemmatizing words.\n",
        "from nltk.stem import WordNetLemmatizer\n",
        "\n",
        "# Regular expression operations from the 're' module, to check if a string contains the specified search pattern.\n",
        "import re\n",
        "\n",
        "# nltk.download('all')"
      ]
    },
    {
      "cell_type": "markdown",
      "source": [
        "# 3. Load the necessary 'NLTK' resources"
      ],
      "metadata": {
        "id": "OhOc9n1B5jlj"
      }
    },
    {
      "cell_type": "code",
      "source": [
        "# Punkt tokenizer models required for word tokenization.\n",
        "nltk.download('punkt')\n",
        "\n",
        "# WordNet lexical database, provides the data needed for lemmatization.\n",
        "nltk.download('wordnet')\n",
        "\n",
        "# POS tagging model, used to tag words with their parts of speech.\n",
        "nltk.download('averaged_perceptron_tagger')"
      ],
      "metadata": {
        "colab": {
          "base_uri": "https://localhost:8080/"
        },
        "id": "yJ_Ak9pq5g_L",
        "outputId": "f67944ed-2feb-4e10-8279-99beeb21b1a5"
      },
      "execution_count": 2,
      "outputs": [
        {
          "output_type": "stream",
          "name": "stderr",
          "text": [
            "[nltk_data] Downloading package punkt to /root/nltk_data...\n",
            "[nltk_data]   Package punkt is already up-to-date!\n",
            "[nltk_data] Downloading package wordnet to /root/nltk_data...\n",
            "[nltk_data]   Package wordnet is already up-to-date!\n",
            "[nltk_data] Downloading package averaged_perceptron_tagger to\n",
            "[nltk_data]     /root/nltk_data...\n",
            "[nltk_data]   Package averaged_perceptron_tagger is already up-to-\n",
            "[nltk_data]       date!\n"
          ]
        },
        {
          "output_type": "execute_result",
          "data": {
            "text/plain": [
              "True"
            ]
          },
          "metadata": {},
          "execution_count": 2
        }
      ]
    },
    {
      "cell_type": "markdown",
      "source": [
        "## 3.1 What Are Stopwords?\n",
        "* **Stopwords** are common words in a language that are often filtered out during text processing because they carry little meaningful information. Examples include **\"the,\" \"is,\" \"in,\" \"and,\" etc.**\n",
        "* These words are usually removed in tasks like ***text analysis, information retrieval, and machine learning*** to improve the performance of algorithms by focusing on more relevant words."
      ],
      "metadata": {
        "id": "9Pqbaeu6LC-2"
      }
    },
    {
      "cell_type": "code",
      "source": [
        "# import re\n",
        "# The 'stopwords' module from 'nltk' provides a list of common stopwords for various languages.\n",
        "nltk.download('stopwords')\n",
        "from nltk.corpus import stopwords"
      ],
      "metadata": {
        "id": "F89VMkxVupPf",
        "colab": {
          "base_uri": "https://localhost:8080/"
        },
        "outputId": "b7adcd27-831c-4e65-963c-245ec1f66158"
      },
      "execution_count": 3,
      "outputs": [
        {
          "output_type": "stream",
          "name": "stderr",
          "text": [
            "[nltk_data] Downloading package stopwords to /root/nltk_data...\n",
            "[nltk_data]   Package stopwords is already up-to-date!\n"
          ]
        }
      ]
    },
    {
      "cell_type": "markdown",
      "source": [
        "# 4. Load the dataset\n",
        "Load the dataset either by specifying a URL or by directly creating it by writing the entire paragraph here; for further data analysis."
      ],
      "metadata": {
        "id": "1pFfMpzDMeZu"
      }
    },
    {
      "cell_type": "code",
      "source": [
        "paragraph=\"\"\"I have three visions for India. In 3000 years of our history, people from all over the world have come and invaded us, captured our lands, conquered our minds.\n",
        "               From Alexander onwards, the Greeks, the Turks, the Moguls, the Portuguese, the British, the French, the Dutch, all of them came and looted us, took over what was ours.\n",
        "               Yet we have not done this to any other nation. We have not conquered anyone.\n",
        "               We have not grabbed their land, their culture, their history and tried to enforce our way of life on them.\n",
        "               Why? Because we respect the freedom of others.That is why my first vision is that of freedom. I believe that India got its first vision of this in 1857, when we started the War of Independence. It is this freedom that we must protect and nurture and build on. If we are not free, no one will respect us.\n",
        "               My second vision for India’s development. For fifty years we have been a developing nation.\n",
        "               It is time we see ourselves as a developed nation. We are among the top 5 nations of the world in terms of GDP. We have a 10 percent growth rate in most areas. Our poverty levels are falling.\n",
        "               Our achievements are being globally recognised today. Yet we lack the self-confidence to see ourselves as a developed nation, self-reliant and self-assured. Isn’t this incorrect?\n",
        "               I have a third vision. India must stand up to the world. Because I believe that unless India stands up to the world, no one will respect us. Only strength respects strength. We must be strong not only as a military power but also as an economic power. Both must go hand-in-hand.\n",
        "               My good fortune was to have worked with three great minds. Dr. Vikram Sarabhai of the Dept. of space, Professor Satish Dhawan, who succeeded him and Dr. Brahm Prakash, father of nuclear material.\n",
        "               I was lucky to have worked with all three of them closely and consider this the great opportunity of my life.\n",
        "               I see four milestones in my career.\"\"\""
      ],
      "metadata": {
        "id": "G4wWiZY2ugWA"
      },
      "execution_count": 4,
      "outputs": []
    },
    {
      "cell_type": "markdown",
      "source": [
        "# 5. Data Pre-processing\n",
        "## 5.1 Tokenize the entire **paragraph**\n",
        "* In data pre-processing, the first step is to clean and prepare raw text data for analysis.\n",
        "* **Tokenization**, a fundamental technique in **Natural Language Processing (NLP)**, involves breaking down a paragraph into\n",
        "  * individual words,\n",
        "  * phrases, or\n",
        "  * sentences,\n",
        "\n",
        "  making the data easier to analyze and process.\n",
        "\n",
        "This section will guide you through tokenizing a given paragraph to facilitate further text analysis.\n",
        "\n"
      ],
      "metadata": {
        "id": "qFBoiYWfN0TP"
      }
    },
    {
      "cell_type": "code",
      "source": [
        "# Tokenize (split) the given paragraph into a list of sentences.\n",
        "sent_list = nltk.sent_tokenize(paragraph)\n",
        "corpus = []\n",
        "sent_list"
      ],
      "metadata": {
        "id": "GgaqNfCLu_yR",
        "colab": {
          "base_uri": "https://localhost:8080/"
        },
        "outputId": "12bc1e6d-47bc-4fe1-8d92-ddf3999a12e9"
      },
      "execution_count": 5,
      "outputs": [
        {
          "output_type": "execute_result",
          "data": {
            "text/plain": [
              "['I have three visions for India.',\n",
              " 'In 3000 years of our history, people from all over the world have come and invaded us, captured our lands, conquered our minds.',\n",
              " 'From Alexander onwards, the Greeks, the Turks, the Moguls, the Portuguese, the British, the French, the Dutch, all of them came and looted us, took over what was ours.',\n",
              " 'Yet we have not done this to any other nation.',\n",
              " 'We have not conquered anyone.',\n",
              " 'We have not grabbed their land, their culture, their history and tried to enforce our way of life on them.',\n",
              " 'Why?',\n",
              " 'Because we respect the freedom of others.That is why my first vision is that of freedom.',\n",
              " 'I believe that India got its first vision of this in 1857, when we started the War of Independence.',\n",
              " 'It is this freedom that we must protect and nurture and build on.',\n",
              " 'If we are not free, no one will respect us.',\n",
              " 'My second vision for India’s development.',\n",
              " 'For fifty years we have been a developing nation.',\n",
              " 'It is time we see ourselves as a developed nation.',\n",
              " 'We are among the top 5 nations of the world in terms of GDP.',\n",
              " 'We have a 10 percent growth rate in most areas.',\n",
              " 'Our poverty levels are falling.',\n",
              " 'Our achievements are being globally recognised today.',\n",
              " 'Yet we lack the self-confidence to see ourselves as a developed nation, self-reliant and self-assured.',\n",
              " 'Isn’t this incorrect?',\n",
              " 'I have a third vision.',\n",
              " 'India must stand up to the world.',\n",
              " 'Because I believe that unless India stands up to the world, no one will respect us.',\n",
              " 'Only strength respects strength.',\n",
              " 'We must be strong not only as a military power but also as an economic power.',\n",
              " 'Both must go hand-in-hand.',\n",
              " 'My good fortune was to have worked with three great minds.',\n",
              " 'Dr. Vikram Sarabhai of the Dept.',\n",
              " 'of space, Professor Satish Dhawan, who succeeded him and Dr. Brahm Prakash, father of nuclear material.',\n",
              " 'I was lucky to have worked with all three of them closely and consider this the great opportunity of my life.',\n",
              " 'I see four milestones in my career.']"
            ]
          },
          "metadata": {},
          "execution_count": 5
        }
      ]
    },
    {
      "cell_type": "markdown",
      "source": [
        "## 5.2 Initialize the 'Stemmer' and \"Lemmatizer' class\n",
        "#### Create **stemmer** and **lemmatizer** object"
      ],
      "metadata": {
        "id": "PZ7bqfXnM4lp"
      }
    },
    {
      "cell_type": "code",
      "source": [
        "# ps; an instance of the PorterStemmer, class\n",
        "ps = PorterStemmer()\n",
        "\n",
        "# Initialize the WordNet Lemmatizer from the NLTK library to reduce words to their base form\n",
        "wnl = WordNetLemmatizer()"
      ],
      "metadata": {
        "id": "JsxzavMtuycY"
      },
      "execution_count": 6,
      "outputs": []
    },
    {
      "cell_type": "markdown",
      "source": [
        "# 6. Processing of dataset\n",
        "* removing unwanted characters,\n",
        "* converting to lowercase,\n",
        "* splitting into words,\n",
        "* removing stopwords,\n",
        "* stemming, and then\n",
        "* reconstructing the cleaned sentence into the corpus."
      ],
      "metadata": {
        "id": "F8HQ_US5e0Bw"
      }
    },
    {
      "cell_type": "code",
      "source": [
        "# iterate over each element in 'sent_list' one at a time\n",
        "for i in range(len(sent_list)):\n",
        "\n",
        "  # removed all the auxillary things like comma, dot, numbers, etc. except alphabets letters both upper & lower case.\n",
        "  review = re.sub('[^a-zA-Z]', ' ', sent_list[i])\n",
        "\n",
        "  # lowered down all the alphabets and words in a 'sent_list' to ensures uniformity and helps in comparing words without case sensitivity\n",
        "  review = review.lower()\n",
        "\n",
        "  # split each words as single entity kind of array of words based on spaces, creating a list of words for each sentence\n",
        "  review = review.split()\n",
        "\n",
        "  # stemming to each word, checks if the word is not a stopword. 'set()' is used for faster lookups, as checking membership in a set is generally quicker than in a list.\n",
        "  review = [ps.stem(word) for word in review if word not in set(stopwords.words('english'))]\n",
        "\n",
        "  # Joins the stemmed words back into a single sentence, separated by spaces, converting the list of words back into a string.\n",
        "  review = ' '.join(review)\n",
        "\n",
        "  # adds back all processed sentence (now cleaned, lowercased, stemmed, and without stopwords) from a list of string into a single sentence\n",
        "  corpus.append(review)\n",
        "  print(review)"
      ],
      "metadata": {
        "id": "UmK-sGbtvRUf",
        "colab": {
          "base_uri": "https://localhost:8080/"
        },
        "outputId": "e7351ced-96c5-4afe-e511-729f824bbf1e"
      },
      "execution_count": 7,
      "outputs": [
        {
          "output_type": "stream",
          "name": "stdout",
          "text": [
            "three vision india\n",
            "year histori peopl world come invad us captur land conquer mind\n",
            "alexand onward greek turk mogul portugues british french dutch came loot us took\n",
            "yet done nation\n",
            "conquer anyon\n",
            "grab land cultur histori tri enforc way life\n",
            "\n",
            "respect freedom other first vision freedom\n",
            "believ india got first vision start war independ\n",
            "freedom must protect nurtur build\n",
            "free one respect us\n",
            "second vision india develop\n",
            "fifti year develop nation\n",
            "time see develop nation\n",
            "among top nation world term gdp\n",
            "percent growth rate area\n",
            "poverti level fall\n",
            "achiev global recognis today\n",
            "yet lack self confid see develop nation self reliant self assur\n",
            "incorrect\n",
            "third vision\n",
            "india must stand world\n",
            "believ unless india stand world one respect us\n",
            "strength respect strength\n",
            "must strong militari power also econom power\n",
            "must go hand hand\n",
            "good fortun work three great mind\n",
            "dr vikram sarabhai dept\n",
            "space professor satish dhawan succeed dr brahm prakash father nuclear materi\n",
            "lucki work three close consid great opportun life\n",
            "see four mileston career\n"
          ]
        }
      ]
    },
    {
      "cell_type": "code",
      "source": [
        "corpus"
      ],
      "metadata": {
        "id": "hVZ-pRxTr1ie",
        "colab": {
          "base_uri": "https://localhost:8080/"
        },
        "outputId": "0f45ac70-d626-4b18-c969-91e863ec7cf9"
      },
      "execution_count": 8,
      "outputs": [
        {
          "output_type": "execute_result",
          "data": {
            "text/plain": [
              "['three vision india',\n",
              " 'year histori peopl world come invad us captur land conquer mind',\n",
              " 'alexand onward greek turk mogul portugues british french dutch came loot us took',\n",
              " 'yet done nation',\n",
              " 'conquer anyon',\n",
              " 'grab land cultur histori tri enforc way life',\n",
              " '',\n",
              " 'respect freedom other first vision freedom',\n",
              " 'believ india got first vision start war independ',\n",
              " 'freedom must protect nurtur build',\n",
              " 'free one respect us',\n",
              " 'second vision india develop',\n",
              " 'fifti year develop nation',\n",
              " 'time see develop nation',\n",
              " 'among top nation world term gdp',\n",
              " 'percent growth rate area',\n",
              " 'poverti level fall',\n",
              " 'achiev global recognis today',\n",
              " 'yet lack self confid see develop nation self reliant self assur',\n",
              " 'incorrect',\n",
              " 'third vision',\n",
              " 'india must stand world',\n",
              " 'believ unless india stand world one respect us',\n",
              " 'strength respect strength',\n",
              " 'must strong militari power also econom power',\n",
              " 'must go hand hand',\n",
              " 'good fortun work three great mind',\n",
              " 'dr vikram sarabhai dept',\n",
              " 'space professor satish dhawan succeed dr brahm prakash father nuclear materi',\n",
              " 'lucki work three close consid great opportun life',\n",
              " 'see four mileston career']"
            ]
          },
          "metadata": {},
          "execution_count": 8
        }
      ]
    },
    {
      "cell_type": "markdown",
      "source": [
        "# 7. Implementation of Bag of Word (BoW) model\n",
        "* imports the `CountVectorizer` class, from the `sklearn.feature_extraction.text` module; which is used to transform text data into a matrix of token counts.\n",
        "* creating an instance of `CountVectorizer`, to reduce dimensionality and focus on the most common words.\n",
        "* `cv.fit_transform(corpus)`, method first learns the vocabulary from the corpus (*i.e., it identifies all unique words or tokens*) and then transforms the corpus into a numerical matrix where\n",
        "  * each row corresponds to a document, and\n",
        "  * each column corresponds to a token from the vocabulary.\n",
        "* `.toarray()`; converts the sparse matrix (*which efficiently stores the counts of words*) into a dense numpy array."
      ],
      "metadata": {
        "id": "ht1A-c0iyeHm"
      }
    },
    {
      "cell_type": "code",
      "source": [
        "from sklearn.feature_extraction.text import CountVectorizer\n",
        "\n",
        "# Create CountVectorizer instance with max_features set to 1500 number of rows\n",
        "cv = CountVectorizer(max_features=1500)\n",
        "\n",
        "# Fit the CountVectorizer to the corpus and transform it into a numerical array (bag of word)\n",
        "X = cv.fit_transform(corpus).toarray()\n",
        "\n",
        "# Display the resulting matrix\n",
        "print(X)"
      ],
      "metadata": {
        "id": "lKqJjcgiyb9k",
        "colab": {
          "base_uri": "https://localhost:8080/"
        },
        "outputId": "bbaea3d2-4961-41b5-d628-aeec3c006308"
      },
      "execution_count": 9,
      "outputs": [
        {
          "output_type": "stream",
          "name": "stdout",
          "text": [
            "[[0 0 0 ... 0 0 0]\n",
            " [0 0 0 ... 1 1 0]\n",
            " [0 1 0 ... 0 0 0]\n",
            " ...\n",
            " [0 0 0 ... 0 0 0]\n",
            " [0 0 0 ... 0 0 0]\n",
            " [0 0 0 ... 0 0 0]]\n"
          ]
        }
      ]
    },
    {
      "cell_type": "code",
      "source": [
        "print(\"\\nDisplay shape of matrix in row and columns : \", X.shape)\n",
        "print(\"\\nDisplay the size of matrix : \", X.size)\n",
        "\n",
        "# Display the feature names (tokens)\n",
        "print(\"\\nDisplay the feature names (tokens) of matrix : \\n\", cv.get_feature_names_out())"
      ],
      "metadata": {
        "id": "M3MoKfrXzQqE",
        "colab": {
          "base_uri": "https://localhost:8080/"
        },
        "outputId": "8f7c9c2a-0ac2-4b12-fca8-f363d2f7fd17"
      },
      "execution_count": 10,
      "outputs": [
        {
          "output_type": "stream",
          "name": "stdout",
          "text": [
            "\n",
            "Display shape of matrix in row and columns :  (31, 113)\n",
            "\n",
            "Display the size of matrix :  3503\n",
            "\n",
            "Display the feature names (tokens) of matrix : \n",
            " ['achiev' 'alexand' 'also' 'among' 'anyon' 'area' 'assur' 'believ' 'brahm'\n",
            " 'british' 'build' 'came' 'captur' 'career' 'close' 'come' 'confid'\n",
            " 'conquer' 'consid' 'cultur' 'dept' 'develop' 'dhawan' 'done' 'dr' 'dutch'\n",
            " 'econom' 'enforc' 'fall' 'father' 'fifti' 'first' 'fortun' 'four' 'free'\n",
            " 'freedom' 'french' 'gdp' 'global' 'go' 'good' 'got' 'grab' 'great'\n",
            " 'greek' 'growth' 'hand' 'histori' 'incorrect' 'independ' 'india' 'invad'\n",
            " 'lack' 'land' 'level' 'life' 'loot' 'lucki' 'materi' 'mileston'\n",
            " 'militari' 'mind' 'mogul' 'must' 'nation' 'nuclear' 'nurtur' 'one'\n",
            " 'onward' 'opportun' 'other' 'peopl' 'percent' 'portugues' 'poverti'\n",
            " 'power' 'prakash' 'professor' 'protect' 'rate' 'recognis' 'reliant'\n",
            " 'respect' 'sarabhai' 'satish' 'second' 'see' 'self' 'space' 'stand'\n",
            " 'start' 'strength' 'strong' 'succeed' 'term' 'third' 'three' 'time'\n",
            " 'today' 'took' 'top' 'tri' 'turk' 'unless' 'us' 'vikram' 'vision' 'war'\n",
            " 'way' 'work' 'world' 'year' 'yet']\n"
          ]
        }
      ]
    },
    {
      "cell_type": "code",
      "source": [
        "sentences = nltk.sent_tokenize(paragraph)\n",
        "corpus = []"
      ],
      "metadata": {
        "id": "PJeIXDL_0C41"
      },
      "execution_count": 11,
      "outputs": []
    },
    {
      "cell_type": "markdown",
      "source": [
        "### **Lemmetizing** the entire paragraph"
      ],
      "metadata": {
        "id": "6XP_sgo0q7r4"
      }
    },
    {
      "cell_type": "code",
      "source": [
        "for i in range(len(sentences)):\n",
        "  review = re.sub('[^a-zA-Z]', ' ', sentences[i])\n",
        "  review = review.lower()\n",
        "  review = review.split()\n",
        "  review = [wnl.lemmatize(word) for word in review if word not in set(stopwords.words('english'))]\n",
        "  review = ' '.join(review)\n",
        "  corpus.append(review)"
      ],
      "metadata": {
        "id": "1mOnObaBzZTT"
      },
      "execution_count": 12,
      "outputs": []
    },
    {
      "cell_type": "code",
      "source": [
        "from sklearn.feature_extraction.text import CountVectorizer\n",
        "cv = CountVectorizer(max_features=1500)\n",
        "X = cv.fit_transform(corpus).toarray()\n",
        "X"
      ],
      "metadata": {
        "id": "2lnXi_Y_z-ux",
        "colab": {
          "base_uri": "https://localhost:8080/"
        },
        "outputId": "c566fec7-9366-4a17-ec40-3c43f1a6159c"
      },
      "execution_count": 13,
      "outputs": [
        {
          "output_type": "execute_result",
          "data": {
            "text/plain": [
              "array([[0, 0, 0, ..., 0, 0, 0],\n",
              "       [0, 0, 0, ..., 1, 1, 0],\n",
              "       [0, 1, 0, ..., 0, 0, 0],\n",
              "       ...,\n",
              "       [0, 0, 0, ..., 0, 0, 0],\n",
              "       [0, 0, 0, ..., 0, 0, 0],\n",
              "       [0, 0, 0, ..., 0, 0, 0]])"
            ]
          },
          "metadata": {},
          "execution_count": 13
        }
      ]
    },
    {
      "cell_type": "code",
      "source": [
        "print(X.shape) # row x columns\n",
        "print(X.size)"
      ],
      "metadata": {
        "id": "xGgBrHXZ0H8p",
        "colab": {
          "base_uri": "https://localhost:8080/"
        },
        "outputId": "63e0e0dd-8d83-4df1-a062-ed3a69ce6270"
      },
      "execution_count": 14,
      "outputs": [
        {
          "output_type": "stream",
          "name": "stdout",
          "text": [
            "(31, 114)\n",
            "3534\n"
          ]
        }
      ]
    }
  ]
}