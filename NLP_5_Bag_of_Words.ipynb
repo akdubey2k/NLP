{
  "nbformat": 4,
  "nbformat_minor": 0,
  "metadata": {
    "colab": {
      "provenance": []
    },
    "kernelspec": {
      "name": "python3",
      "display_name": "Python 3"
    },
    "language_info": {
      "name": "python"
    }
  },
  "cells": [
    {
      "cell_type": "markdown",
      "source": [
        "# 1. Introduction\n",
        "## 1.1 Definition\n",
        "**Bag of Words (BoW)** is a simple and widely used text representation technique in **natural language processing (NLP)** and information retrieval. It transforms text into numerical features, which can then be used in machine learning models.\n",
        "\n",
        "**BoW** is foundational in text processing and serves as a stepping stone to more advanced techniques like\n",
        "* TF-IDF,\n",
        "* word embeddings, and\n",
        "* transformers."
      ],
      "metadata": {
        "id": "F3U08TvdttWB"
      }
    },
    {
      "cell_type": "markdown",
      "source": [
        "# 2. Import libraries"
      ],
      "metadata": {
        "id": "IEH_eXgK1Cy3"
      }
    },
    {
      "cell_type": "code",
      "execution_count": 1,
      "metadata": {
        "id": "84ZGRNU5tjJ8"
      },
      "outputs": [],
      "source": [
        "# NLTK library works with human language data (text) such as tokenization, part-of-speech tagging, and more.\n",
        "import nltk\n",
        "\n",
        "# A specific stemming algorithm from 'nltk' that reduces words to their base or root form.\n",
        "from nltk.stem import PorterStemmer\n",
        "\n",
        "# WordNetLemmatizer class from the nltk.stem module, which is responsible for lemmatizing words.\n",
        "from nltk.stem import WordNetLemmatizer\n",
        "\n",
        "# Regular expression operations from the 're' module, to check if a string contains the specified search pattern.\n",
        "import re\n",
        "\n",
        "# nltk.download('all')"
      ]
    },
    {
      "cell_type": "markdown",
      "source": [
        "# 3. Load the necessary 'NLTK' resources"
      ],
      "metadata": {
        "id": "OhOc9n1B5jlj"
      }
    },
    {
      "cell_type": "code",
      "source": [
        "# Punkt tokenizer models required for word tokenization.\n",
        "nltk.download('punkt')\n",
        "\n",
        "# WordNet lexical database, provides the data needed for lemmatization.\n",
        "nltk.download('wordnet')\n",
        "\n",
        "# POS tagging model, used to tag words with their parts of speech.\n",
        "nltk.download('averaged_perceptron_tagger')"
      ],
      "metadata": {
        "colab": {
          "base_uri": "https://localhost:8080/"
        },
        "id": "yJ_Ak9pq5g_L",
        "outputId": "cff84399-1ad7-497c-f325-19fc2ff600b5"
      },
      "execution_count": 2,
      "outputs": [
        {
          "output_type": "stream",
          "name": "stderr",
          "text": [
            "[nltk_data] Downloading package punkt to /root/nltk_data...\n",
            "[nltk_data]   Unzipping tokenizers/punkt.zip.\n",
            "[nltk_data] Downloading package wordnet to /root/nltk_data...\n",
            "[nltk_data] Downloading package averaged_perceptron_tagger to\n",
            "[nltk_data]     /root/nltk_data...\n",
            "[nltk_data]   Unzipping taggers/averaged_perceptron_tagger.zip.\n"
          ]
        },
        {
          "output_type": "execute_result",
          "data": {
            "text/plain": [
              "True"
            ]
          },
          "metadata": {},
          "execution_count": 2
        }
      ]
    },
    {
      "cell_type": "markdown",
      "source": [
        "## 3.1 What Are Stopwords?\n",
        "* **Stopwords** are common words in a language that are often filtered out during text processing because they carry little meaningful information. Examples include **\"the,\" \"is,\" \"in,\" \"and,\" etc.**\n",
        "* These words are usually removed in tasks like ***text analysis, information retrieval, and machine learning*** to improve the performance of algorithms by focusing on more relevant words."
      ],
      "metadata": {
        "id": "9Pqbaeu6LC-2"
      }
    },
    {
      "cell_type": "code",
      "source": [
        "# import re\n",
        "# The 'stopwords' module from 'nltk' provides a list of common stopwords for various languages.\n",
        "nltk.download('stopwords')\n",
        "from nltk.corpus import stopwords"
      ],
      "metadata": {
        "id": "F89VMkxVupPf",
        "colab": {
          "base_uri": "https://localhost:8080/"
        },
        "outputId": "7c4f72bb-3b3f-43d8-b845-8e6a7671abc1"
      },
      "execution_count": 3,
      "outputs": [
        {
          "output_type": "stream",
          "name": "stderr",
          "text": [
            "[nltk_data] Downloading package stopwords to /root/nltk_data...\n",
            "[nltk_data]   Unzipping corpora/stopwords.zip.\n"
          ]
        }
      ]
    },
    {
      "cell_type": "markdown",
      "source": [
        "# 4. Load the dataset\n",
        "Load the dataset either by specifying a URL or by directly creating it by writing the entire paragraph here; for further data analysis."
      ],
      "metadata": {
        "id": "1pFfMpzDMeZu"
      }
    },
    {
      "cell_type": "code",
      "source": [
        "paragraph=\"\"\"I have three visions for India. In 3000 years of our history, people from all over the world have come and invaded us, captured our lands, conquered our minds.\n",
        "               From Alexander onwards, the Greeks, the Turks, the Moguls, the Portuguese, the British, the French, the Dutch, all of them came and looted us, took over what was ours.\n",
        "               Yet we have not done this to any other nation. We have not conquered anyone.\n",
        "               We have not grabbed their land, their culture, their history and tried to enforce our way of life on them.\n",
        "               Why? Because we respect the freedom of others.That is why my first vision is that of freedom. I believe that India got its first vision of this in 1857, when we started the War of Independence. It is this freedom that we must protect and nurture and build on. If we are not free, no one will respect us.\n",
        "               My second vision for India’s development. For fifty years we have been a developing nation.\n",
        "               It is time we see ourselves as a developed nation. We are among the top 5 nations of the world in terms of GDP. We have a 10 percent growth rate in most areas. Our poverty levels are falling.\n",
        "               Our achievements are being globally recognised today. Yet we lack the self-confidence to see ourselves as a developed nation, self-reliant and self-assured. Isn’t this incorrect?\n",
        "               I have a third vision. India must stand up to the world. Because I believe that unless India stands up to the world, no one will respect us. Only strength respects strength. We must be strong not only as a military power but also as an economic power. Both must go hand-in-hand.\n",
        "               My good fortune was to have worked with three great minds. Dr. Vikram Sarabhai of the Dept. of space, Professor Satish Dhawan, who succeeded him and Dr. Brahm Prakash, father of nuclear material.\n",
        "               I was lucky to have worked with all three of them closely and consider this the great opportunity of my life.\n",
        "               I see four milestones in my career.\"\"\""
      ],
      "metadata": {
        "id": "G4wWiZY2ugWA"
      },
      "execution_count": 4,
      "outputs": []
    },
    {
      "cell_type": "markdown",
      "source": [
        "# 5. Data Pre-processing\n",
        "## 5.1 Tokenize the entire **paragraph**\n",
        "* In data pre-processing, the first step is to clean and prepare raw text data for analysis.\n",
        "* **Tokenization**, a fundamental technique in **Natural Language Processing (NLP)**, involves breaking down a paragraph into\n",
        "  * individual words,\n",
        "  * phrases, or\n",
        "  * sentences,\n",
        "\n",
        "  making the data easier to analyze and process.\n",
        "\n",
        "This section will guide you through tokenizing a given paragraph to facilitate further text analysis.\n",
        "\n"
      ],
      "metadata": {
        "id": "qFBoiYWfN0TP"
      }
    },
    {
      "cell_type": "code",
      "source": [
        "# Tokenize (split) the given paragraph into a list of sentences.\n",
        "sent_list = nltk.sent_tokenize(paragraph)\n",
        "corpus = []\n",
        "sent_list"
      ],
      "metadata": {
        "id": "GgaqNfCLu_yR",
        "colab": {
          "base_uri": "https://localhost:8080/"
        },
        "outputId": "3002531b-a8d2-4124-fea8-5645461e3b08"
      },
      "execution_count": 5,
      "outputs": [
        {
          "output_type": "execute_result",
          "data": {
            "text/plain": [
              "['I have three visions for India.',\n",
              " 'In 3000 years of our history, people from all over the world have come and invaded us, captured our lands, conquered our minds.',\n",
              " 'From Alexander onwards, the Greeks, the Turks, the Moguls, the Portuguese, the British, the French, the Dutch, all of them came and looted us, took over what was ours.',\n",
              " 'Yet we have not done this to any other nation.',\n",
              " 'We have not conquered anyone.',\n",
              " 'We have not grabbed their land, their culture, their history and tried to enforce our way of life on them.',\n",
              " 'Why?',\n",
              " 'Because we respect the freedom of others.That is why my first vision is that of freedom.',\n",
              " 'I believe that India got its first vision of this in 1857, when we started the War of Independence.',\n",
              " 'It is this freedom that we must protect and nurture and build on.',\n",
              " 'If we are not free, no one will respect us.',\n",
              " 'My second vision for India’s development.',\n",
              " 'For fifty years we have been a developing nation.',\n",
              " 'It is time we see ourselves as a developed nation.',\n",
              " 'We are among the top 5 nations of the world in terms of GDP.',\n",
              " 'We have a 10 percent growth rate in most areas.',\n",
              " 'Our poverty levels are falling.',\n",
              " 'Our achievements are being globally recognised today.',\n",
              " 'Yet we lack the self-confidence to see ourselves as a developed nation, self-reliant and self-assured.',\n",
              " 'Isn’t this incorrect?',\n",
              " 'I have a third vision.',\n",
              " 'India must stand up to the world.',\n",
              " 'Because I believe that unless India stands up to the world, no one will respect us.',\n",
              " 'Only strength respects strength.',\n",
              " 'We must be strong not only as a military power but also as an economic power.',\n",
              " 'Both must go hand-in-hand.',\n",
              " 'My good fortune was to have worked with three great minds.',\n",
              " 'Dr. Vikram Sarabhai of the Dept.',\n",
              " 'of space, Professor Satish Dhawan, who succeeded him and Dr. Brahm Prakash, father of nuclear material.',\n",
              " 'I was lucky to have worked with all three of them closely and consider this the great opportunity of my life.',\n",
              " 'I see four milestones in my career.']"
            ]
          },
          "metadata": {},
          "execution_count": 5
        }
      ]
    },
    {
      "cell_type": "markdown",
      "source": [
        "## 5.2 Initialize the 'Stemmer' and \"Lemmatizer' class\n",
        "#### Create **stemmer** and **lemmatizer** object"
      ],
      "metadata": {
        "id": "PZ7bqfXnM4lp"
      }
    },
    {
      "cell_type": "code",
      "source": [
        "# ps; an instance of the PorterStemmer, class\n",
        "ps = PorterStemmer()\n",
        "\n",
        "# Initialize the WordNet Lemmatizer from the NLTK library to reduce words to their base form\n",
        "wnl = WordNetLemmatizer()"
      ],
      "metadata": {
        "id": "JsxzavMtuycY"
      },
      "execution_count": 6,
      "outputs": []
    },
    {
      "cell_type": "markdown",
      "source": [
        "# 6. Processing of dataset\n",
        "* removing unwanted characters,\n",
        "* converting to lowercase,\n",
        "* splitting into words,\n",
        "* removing stopwords,\n",
        "* stemming, and then\n",
        "* reconstructing the cleaned sentence into the corpus."
      ],
      "metadata": {
        "id": "F8HQ_US5e0Bw"
      }
    },
    {
      "cell_type": "code",
      "source": [
        "# iterate over each element in 'sent_list' one at a time\n",
        "for i in range(len(sent_list)):\n",
        "\n",
        "  # removed all the auxillary things like comma, dot, numbers, etc. except alphabets letters both upper & lower case.\n",
        "  review = re.sub('[^a-zA-Z]', ' ', sent_list[i])\n",
        "\n",
        "  # lowered down all the alphabets and words in a 'sent_list' to ensures uniformity and helps in comparing words without case sensitivity\n",
        "  review = review.lower()\n",
        "\n",
        "  # split each words as single entity kind of array of words based on spaces, creating a list of words for each sentence\n",
        "  review = review.split()\n",
        "\n",
        "\n",
        "  review = [ps.stem(word) for word in review if word not in set(stopwords.words('english'))]\n",
        "\n",
        "  # create stemming of each word in a sentence like previous example\n",
        "  review = ' '.join(review)\n",
        "  # print(review) # join back each string from a list of string into a single sentence\n",
        "  corpus.append(review) # moving the each stemming statement to an array\n",
        "  print(review)"
      ],
      "metadata": {
        "id": "UmK-sGbtvRUf",
        "colab": {
          "base_uri": "https://localhost:8080/"
        },
        "outputId": "06a354d1-8e3d-47c3-9fce-109105824936"
      },
      "execution_count": 7,
      "outputs": [
        {
          "output_type": "stream",
          "name": "stdout",
          "text": [
            "three vision india\n",
            "year histori peopl world come invad us captur land conquer mind\n",
            "alexand onward greek turk mogul portugues british french dutch came loot us took\n",
            "yet done nation\n",
            "conquer anyon\n",
            "grab land cultur histori tri enforc way life\n",
            "\n",
            "respect freedom other first vision freedom\n",
            "believ india got first vision start war independ\n",
            "freedom must protect nurtur build\n",
            "free one respect us\n",
            "second vision india develop\n",
            "fifti year develop nation\n",
            "time see develop nation\n",
            "among top nation world term gdp\n",
            "percent growth rate area\n",
            "poverti level fall\n",
            "achiev global recognis today\n",
            "yet lack self confid see develop nation self reliant self assur\n",
            "incorrect\n",
            "third vision\n",
            "india must stand world\n",
            "believ unless india stand world one respect us\n",
            "strength respect strength\n",
            "must strong militari power also econom power\n",
            "must go hand hand\n",
            "good fortun work three great mind\n",
            "dr vikram sarabhai dept\n",
            "space professor satish dhawan succeed dr brahm prakash father nuclear materi\n",
            "lucki work three close consid great opportun life\n",
            "see four mileston career\n"
          ]
        }
      ]
    },
    {
      "cell_type": "code",
      "source": [
        "corpus"
      ],
      "metadata": {
        "id": "hVZ-pRxTr1ie",
        "colab": {
          "base_uri": "https://localhost:8080/"
        },
        "outputId": "ee2ab842-48e1-414c-91cd-393d092529f2"
      },
      "execution_count": 8,
      "outputs": [
        {
          "output_type": "execute_result",
          "data": {
            "text/plain": [
              "['three vision india',\n",
              " 'year histori peopl world come invad us captur land conquer mind',\n",
              " 'alexand onward greek turk mogul portugues british french dutch came loot us took',\n",
              " 'yet done nation',\n",
              " 'conquer anyon',\n",
              " 'grab land cultur histori tri enforc way life',\n",
              " '',\n",
              " 'respect freedom other first vision freedom',\n",
              " 'believ india got first vision start war independ',\n",
              " 'freedom must protect nurtur build',\n",
              " 'free one respect us',\n",
              " 'second vision india develop',\n",
              " 'fifti year develop nation',\n",
              " 'time see develop nation',\n",
              " 'among top nation world term gdp',\n",
              " 'percent growth rate area',\n",
              " 'poverti level fall',\n",
              " 'achiev global recognis today',\n",
              " 'yet lack self confid see develop nation self reliant self assur',\n",
              " 'incorrect',\n",
              " 'third vision',\n",
              " 'india must stand world',\n",
              " 'believ unless india stand world one respect us',\n",
              " 'strength respect strength',\n",
              " 'must strong militari power also econom power',\n",
              " 'must go hand hand',\n",
              " 'good fortun work three great mind',\n",
              " 'dr vikram sarabhai dept',\n",
              " 'space professor satish dhawan succeed dr brahm prakash father nuclear materi',\n",
              " 'lucki work three close consid great opportun life',\n",
              " 'see four mileston career']"
            ]
          },
          "metadata": {},
          "execution_count": 8
        }
      ]
    },
    {
      "cell_type": "markdown",
      "source": [
        "#### Create Bag of Word model"
      ],
      "metadata": {
        "id": "ht1A-c0iyeHm"
      }
    },
    {
      "cell_type": "code",
      "source": [
        "from sklearn.feature_extraction.text import CountVectorizer\n",
        "cv = CountVectorizer(max_features=1500) # 1500 numbers of row will be max.\n",
        "X = cv.fit_transform(corpus).toarray() # transforming an entire array into a **bag of word**\n",
        "X"
      ],
      "metadata": {
        "id": "lKqJjcgiyb9k",
        "colab": {
          "base_uri": "https://localhost:8080/"
        },
        "outputId": "0b8dd41f-faad-4e1a-ede2-f8b7de8dde96"
      },
      "execution_count": 9,
      "outputs": [
        {
          "output_type": "execute_result",
          "data": {
            "text/plain": [
              "array([[0, 0, 0, ..., 0, 0, 0],\n",
              "       [0, 0, 0, ..., 1, 1, 0],\n",
              "       [0, 1, 0, ..., 0, 0, 0],\n",
              "       ...,\n",
              "       [0, 0, 0, ..., 0, 0, 0],\n",
              "       [0, 0, 0, ..., 0, 0, 0],\n",
              "       [0, 0, 0, ..., 0, 0, 0]])"
            ]
          },
          "metadata": {},
          "execution_count": 9
        }
      ]
    },
    {
      "cell_type": "code",
      "source": [
        "print(X.shape) # row x columns\n",
        "print(X.size)"
      ],
      "metadata": {
        "id": "M3MoKfrXzQqE",
        "colab": {
          "base_uri": "https://localhost:8080/"
        },
        "outputId": "bc055c18-6832-48b1-e196-85f5f096aa62"
      },
      "execution_count": 10,
      "outputs": [
        {
          "output_type": "stream",
          "name": "stdout",
          "text": [
            "(31, 113)\n",
            "3503\n"
          ]
        }
      ]
    },
    {
      "cell_type": "code",
      "source": [
        "sentences = nltk.sent_tokenize(paragraph)\n",
        "corpus = []"
      ],
      "metadata": {
        "id": "PJeIXDL_0C41"
      },
      "execution_count": 11,
      "outputs": []
    },
    {
      "cell_type": "markdown",
      "source": [
        "### **Lemmetizing** the entire paragraph"
      ],
      "metadata": {
        "id": "6XP_sgo0q7r4"
      }
    },
    {
      "cell_type": "code",
      "source": [
        "for i in range(len(sentences)):\n",
        "  review = re.sub('[^a-zA-Z]', ' ', sentences[i])\n",
        "  review = review.lower()\n",
        "  review = review.split()\n",
        "  review = [wnl.lemmatize(word) for word in review if word not in set(stopwords.words('english'))]\n",
        "  review = ' '.join(review)\n",
        "  corpus.append(review)"
      ],
      "metadata": {
        "id": "1mOnObaBzZTT"
      },
      "execution_count": 12,
      "outputs": []
    },
    {
      "cell_type": "code",
      "source": [
        "from sklearn.feature_extraction.text import CountVectorizer\n",
        "cv = CountVectorizer(max_features=1500)\n",
        "X = cv.fit_transform(corpus).toarray()\n",
        "X"
      ],
      "metadata": {
        "id": "2lnXi_Y_z-ux",
        "colab": {
          "base_uri": "https://localhost:8080/"
        },
        "outputId": "f932f611-1514-4ce5-ccad-5962b24068a0"
      },
      "execution_count": 13,
      "outputs": [
        {
          "output_type": "execute_result",
          "data": {
            "text/plain": [
              "array([[0, 0, 0, ..., 0, 0, 0],\n",
              "       [0, 0, 0, ..., 1, 1, 0],\n",
              "       [0, 1, 0, ..., 0, 0, 0],\n",
              "       ...,\n",
              "       [0, 0, 0, ..., 0, 0, 0],\n",
              "       [0, 0, 0, ..., 0, 0, 0],\n",
              "       [0, 0, 0, ..., 0, 0, 0]])"
            ]
          },
          "metadata": {},
          "execution_count": 13
        }
      ]
    },
    {
      "cell_type": "code",
      "source": [
        "print(X.shape) # row x columns\n",
        "print(X.size)"
      ],
      "metadata": {
        "id": "xGgBrHXZ0H8p",
        "colab": {
          "base_uri": "https://localhost:8080/"
        },
        "outputId": "a781bf2c-f785-420f-d97a-1d80de9f1842"
      },
      "execution_count": 14,
      "outputs": [
        {
          "output_type": "stream",
          "name": "stdout",
          "text": [
            "(31, 114)\n",
            "3534\n"
          ]
        }
      ]
    }
  ]
}