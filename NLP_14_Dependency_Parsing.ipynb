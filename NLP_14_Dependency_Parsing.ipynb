{
  "nbformat": 4,
  "nbformat_minor": 0,
  "metadata": {
    "colab": {
      "provenance": []
    },
    "kernelspec": {
      "name": "python3",
      "display_name": "Python 3"
    },
    "language_info": {
      "name": "python"
    }
  },
  "cells": [
    {
      "cell_type": "markdown",
      "source": [
        "# 1.Introduction\n",
        "## Dependency Parsing\n",
        "**Dependency Parsing** is a technique in *Natural Language Processing* **(NLP)** used to analyze the grammatical structure of a sentence.\n",
        "* It involves identifying how words in a sentence are related to each other through grammatical dependencies.\n",
        "* The output is a tree-like structure where each word is connected to another word, with the connections representing syntactic relationships.\n"
      ],
      "metadata": {
        "id": "JqW48kewMk9u"
      }
    },
    {
      "cell_type": "code",
      "execution_count": null,
      "metadata": {
        "id": "z7lphGeHLUes"
      },
      "outputs": [],
      "source": []
    }
  ]
}