{
  "nbformat": 4,
  "nbformat_minor": 0,
  "metadata": {
    "colab": {
      "provenance": []
    },
    "kernelspec": {
      "name": "python3",
      "display_name": "Python 3"
    },
    "language_info": {
      "name": "python"
    }
  },
  "cells": [
    {
      "cell_type": "markdown",
      "source": [
        "# 1.Introduction\n",
        "## 1.1 Definition : Dependency Parsing\n",
        "**Dependency Parsing** is a technique in *Natural Language Processing* **(NLP)** used to analyze the grammatical structure of a sentence.\n",
        "* It involves identifying how words in a sentence are related to each other through grammatical dependencies.\n",
        "* The output is a tree-like structure where each word is connected to another word, with the connections representing syntactic relationships.\n"
      ],
      "metadata": {
        "id": "JqW48kewMk9u"
      }
    },
    {
      "cell_type": "markdown",
      "source": [
        "## 1.2 Key Concepts of Dependency Parsing:\n",
        "### 1.2.1 Head and Dependent:\n",
        "* In a dependency tree, one word is the **\"head\"** (governing word), and the other is the **\"dependent\"** (governed word).\n",
        "* For example, in the phrase\n",
        " * \"eats an apple,\"\n",
        " * \"eats\" is the head, and\n",
        " * \"apple\" is its dependent.\n",
        "\n",
        "### 1.2.2 Arcs:\n",
        "The connections between the **head** and the **dependent** are called **arcs**. * Each **arc** can be labeled to indicate the type of grammatical relationship (e.g., subject, object, modifier).\n",
        "\n",
        "### 1.2.3 Root:\n",
        "Every sentence has a **root**, which is the main verb or predicate. Other words in the sentence are connected either directly or indirectly to this root.\n",
        "\n",
        "### 1.2.4 Dependency Labels:\n",
        "These **labels** describe the type of relationship between the **head** and its **dependent**.\n",
        "* Examples include\n",
        " * \"nsubj\" for nominal subject,\n",
        " * \"obj\" for object,\n",
        " * \"det\" for determiner, and\n",
        " * \"amod\" for adjectival modifier.\n"
      ],
      "metadata": {
        "id": "sS-owYbJNvHE"
      }
    },
    {
      "cell_type": "code",
      "execution_count": null,
      "metadata": {
        "id": "z7lphGeHLUes"
      },
      "outputs": [],
      "source": []
    }
  ]
}