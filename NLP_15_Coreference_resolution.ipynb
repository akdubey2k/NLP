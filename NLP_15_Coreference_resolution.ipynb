{
  "nbformat": 4,
  "nbformat_minor": 0,
  "metadata": {
    "colab": {
      "provenance": []
    },
    "kernelspec": {
      "name": "python3",
      "display_name": "Python 3"
    },
    "language_info": {
      "name": "python"
    }
  },
  "cells": [
    {
      "cell_type": "markdown",
      "source": [
        "# 1. Introduction\n",
        "## 1.1 Definition:\n",
        "**Coreference resolution** enables systems to maintain context and coherence across sentences, making it crucial for\n",
        "1. chatbots,\n",
        "2. virtual assistants, and other\n",
        "3. conversational AI applications.\n",
        "\n",
        "The process involves\n",
        "1. identifying entities,\n",
        "2. tracking their references,\n",
        "3. resolving pronouns,\n",
        "4. handling ambiguities, and\n",
        "5. updating the dialogue state.\n",
        "\n",
        "Real-time implementation requires efficient and accurate techniques, ranging from rule-based to deep learning models, to achieve a human-like understanding of language.\n",
        "\n",
        "\n"
      ],
      "metadata": {
        "id": "K683rFNi4DHJ"
      }
    },
    {
      "cell_type": "markdown",
      "source": [
        "## 1.2 Understanding\n",
        "**Coreference resolution** is a fundamental problem in **NLP** that deals with determining when different linguistic expressions refer to the same entity within a text.\n",
        "* It involves recognizing and linking all expressions (such as pronouns, noun phrases, or proper names) that refer to the same real-world entity.\n",
        "* This task is essential for understanding the meaning of a text and is used in various NLP applications, such as information extraction, machine translation, text summarization, and question answering.\n",
        "\n",
        "### Key Concepts\n",
        "1. **Mentions:** These are expressions in the text that potentially refer to an entity. Mentions can be:\n",
        " * Pronouns: Words like \"he,\" \"she,\" \"it,\" or \"they\" that stand in place of a noun.\n",
        " * Proper Names: Specific names like \"Alice,\" \"London,\" or \"NASA.\"\n",
        " * Noun Phrases: Groups of words that describe an entity, such as \"the tall man\" or \"the software engineer.\"\n",
        "2. **Coreferent Mentions:** When two or more mentions refer to the same real-world entity, they are considered coreferent. For instance, in the sentence, \"John said he would come,\" the mentions \"John\" and \"he\" refer to the same person.\n",
        "3. **Anaphora and Antecedent:** An anaphora is a mention that refers back to a previously mentioned entity, known as the **antecedent.** In the example, \"The dog barked. It was loud,\"\n",
        " * \"It\" is the anaphora, and\n",
        " * \"The dog\" is the antecedent.\n"
      ],
      "metadata": {
        "id": "V4qkF_En6G7N"
      }
    },
    {
      "cell_type": "markdown",
      "source": [
        "# 2. Install Library\n",
        "installs the **neuralcoref** module and its dependencies in the current environment.\n",
        "* **NeuralCoref** is a library that adds coreference resolution to the natural language processing **(NLP)** library **SpaCy**."
      ],
      "metadata": {
        "id": "KDvDbMLG95bB"
      }
    },
    {
      "cell_type": "markdown",
      "source": [
        "\n",
        "To install and use *`neuralcoref`* in Google Colab, follow these steps:\n",
        "* **Install SpaCy and NeuralCoref Dependencies:** You'll need to install `spacy` and `neuralcoref` along with their dependencies.\n",
        "* **Install SpaCy English Model:** You need the English model for `spacy`."
      ],
      "metadata": {
        "id": "Ug9mtQsPVE97"
      }
    },
    {
      "cell_type": "code",
      "source": [
        "!pip install neuralcoref"
      ],
      "metadata": {
        "colab": {
          "base_uri": "https://localhost:8080/"
        },
        "id": "SKt3655w-ERJ",
        "outputId": "fce15146-807d-483e-eee9-0b46932e7fae"
      },
      "execution_count": 1,
      "outputs": [
        {
          "output_type": "stream",
          "name": "stdout",
          "text": [
            "Collecting neuralcoref\n",
            "  Downloading neuralcoref-4.0.tar.gz (368 kB)\n",
            "\u001b[?25l     \u001b[90m━━━━━━━━━━━━━━━━━━━━━━━━━━━━━━━━━━━━━━━━\u001b[0m \u001b[32m0.0/368.7 kB\u001b[0m \u001b[31m?\u001b[0m eta \u001b[36m-:--:--\u001b[0m\r\u001b[2K     \u001b[91m━━━━━━━━━━━━━━━━━━━━━━━━\u001b[0m\u001b[90m╺\u001b[0m\u001b[90m━━━━━━━━━━━━━━━\u001b[0m \u001b[32m225.3/368.7 kB\u001b[0m \u001b[31m6.6 MB/s\u001b[0m eta \u001b[36m0:00:01\u001b[0m\r\u001b[2K     \u001b[91m━━━━━━━━━━━━━━━━━━━━━━━━━━━━━━━━━━━━━━━\u001b[0m\u001b[91m╸\u001b[0m \u001b[32m368.6/368.7 kB\u001b[0m \u001b[31m8.1 MB/s\u001b[0m eta \u001b[36m0:00:01\u001b[0m\r\u001b[2K     \u001b[90m━━━━━━━━━━━━━━━━━━━━━━━━━━━━━━━━━━━━━━━━\u001b[0m \u001b[32m368.7/368.7 kB\u001b[0m \u001b[31m4.8 MB/s\u001b[0m eta \u001b[36m0:00:00\u001b[0m\n",
            "\u001b[?25h  \u001b[1;31merror\u001b[0m: \u001b[1msubprocess-exited-with-error\u001b[0m\n",
            "  \n",
            "  \u001b[31m×\u001b[0m \u001b[32mpython setup.py egg_info\u001b[0m did not run successfully.\n",
            "  \u001b[31m│\u001b[0m exit code: \u001b[1;36m1\u001b[0m\n",
            "  \u001b[31m╰─>\u001b[0m See above for output.\n",
            "  \n",
            "  \u001b[1;35mnote\u001b[0m: This error originates from a subprocess, and is likely not a problem with pip.\n",
            "  Preparing metadata (setup.py) ... \u001b[?25l\u001b[?25herror\n",
            "\u001b[1;31merror\u001b[0m: \u001b[1mmetadata-generation-failed\u001b[0m\n",
            "\n",
            "\u001b[31m×\u001b[0m Encountered error while generating package metadata.\n",
            "\u001b[31m╰─>\u001b[0m See above for output.\n",
            "\n",
            "\u001b[1;35mnote\u001b[0m: This is an issue with the package mentioned above, not pip.\n",
            "\u001b[1;36mhint\u001b[0m: See above for details.\n"
          ]
        }
      ]
    },
    {
      "cell_type": "markdown",
      "source": [
        "# 3. Import Library\n",
        "Import necessary libraries\n",
        "* **SpaCy** is a popular NLP library\n",
        "* **NeuralCoref** adds coreference resolution capabilities to SpaCy\n"
      ],
      "metadata": {
        "id": "olEpkH6-9M-L"
      }
    },
    {
      "cell_type": "code",
      "source": [
        "import spacy\n",
        "import neuralcoref"
      ],
      "metadata": {
        "colab": {
          "base_uri": "https://localhost:8080/",
          "height": 343
        },
        "id": "1fwUpsbw9b6K",
        "outputId": "88d30714-ed7c-44ee-ee14-80fb22fa9d65"
      },
      "execution_count": null,
      "outputs": [
        {
          "output_type": "error",
          "ename": "ModuleNotFoundError",
          "evalue": "No module named 'neuralcoref'",
          "traceback": [
            "\u001b[0;31m---------------------------------------------------------------------------\u001b[0m",
            "\u001b[0;31mModuleNotFoundError\u001b[0m                       Traceback (most recent call last)",
            "\u001b[0;32m<ipython-input-2-bae0514ba508>\u001b[0m in \u001b[0;36m<cell line: 2>\u001b[0;34m()\u001b[0m\n\u001b[1;32m      1\u001b[0m \u001b[0;32mimport\u001b[0m \u001b[0mspacy\u001b[0m\u001b[0;34m\u001b[0m\u001b[0;34m\u001b[0m\u001b[0m\n\u001b[0;32m----> 2\u001b[0;31m \u001b[0;32mimport\u001b[0m \u001b[0mneuralcoref\u001b[0m\u001b[0;34m\u001b[0m\u001b[0;34m\u001b[0m\u001b[0m\n\u001b[0m",
            "\u001b[0;31mModuleNotFoundError\u001b[0m: No module named 'neuralcoref'",
            "",
            "\u001b[0;31m---------------------------------------------------------------------------\u001b[0;32m\nNOTE: If your import is failing due to a missing package, you can\nmanually install dependencies using either !pip or !apt.\n\nTo view examples of installing some common dependencies, click the\n\"Open Examples\" button below.\n\u001b[0;31m---------------------------------------------------------------------------\u001b[0m\n"
          ],
          "errorDetails": {
            "actions": [
              {
                "action": "open_url",
                "actionText": "Open Examples",
                "url": "/notebooks/snippets/importing_libraries.ipynb"
              }
            ]
          }
        }
      ]
    }
  ]
}